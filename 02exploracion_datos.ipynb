{
 "cells": [
  {
   "cell_type": "markdown",
   "id": "d7671d61",
   "metadata": {},
   "source": [
    "Analisis Exploratorio de datos EDA\n",
    "\n",
    "Contexto\n",
    "\n",
    "Medical Appointment No Shows\n",
    "\n",
    "Este dataset contiene información sobre citas médicas en Brasil y si los pacientes asistieron o no (No-Show). \n",
    "\n",
    "Las variables incluyen:\n",
    "\n",
    "* `PatientId`: Identificador único del paciente\n",
    "* `AppointmentID`: Identificador único de la cita\n",
    "* `Gender`: Género del paciente (M/F)\n",
    "* `ScheduledDay`: Fecha y hora cuando se programó la cita\n",
    "* `AppointmentDay`: Fecha de la cita médica\n",
    "* `Age`: Edad del paciente\n",
    "* `Neighbourhood`: Barrio donde vive el paciente\n",
    "* `Scholarship`: Si el paciente tiene beca del programa social Bolsa Família (0/1)\n",
    "* `Hipertension`: Si el paciente tiene hipertensión (0/1)\n",
    "* `Diabetes`: Si el paciente tiene diabetes (0/1)\n",
    "* `Alcoholism`: Si el paciente tiene problemas de alcoholismo (0/1)\n",
    "* `Handcap`: Nivel de discapacidad del paciente (0-4)\n",
    "* `SMS_received`: Si el paciente recibió SMS recordatorio (0/1)\n",
    "* `No-show`: Variable objetivo - Si el paciente no asistió (Yes/No)\n",
    "\n"
   ]
  },
  {
   "cell_type": "markdown",
   "id": "a1e46a06",
   "metadata": {},
   "source": [
    "CARGA Y VERIFICACION DE DATOS\n",
    "\n",
    "conda create -n medicalPrediction python=3.11.13 \n",
    "\n",
    "conda activate medicalPrediction\n",
    "\n",
    "conda update -n base -c defaults conda\n",
    "conda install -c conda-forge matplotlib\n",
    "conda install pandas  \n",
    "conda install numpy\n",
    "conda install seaborn\n",
    "conda install -c conda-forge statsmodels\n",
    "\n"
   ]
  },
  {
   "cell_type": "code",
   "execution_count": 1,
   "id": "69a12c8d",
   "metadata": {},
   "outputs": [],
   "source": [
    "# Importamos las librerías y funciones\n",
    "from pathlib import Path\n",
    "import numpy as np\n",
    "import pandas as pd\n",
    "import matplotlib.pyplot as plt\n",
    "import seaborn as sns\n",
    "from scipy.stats import skew, kurtosis, chi2_contingency, kstest\n",
    "import statsmodels.api as sm    # Librería para modelos, pruebas estadísticas y otras herramientas estadísticas."
   ]
  },
  {
   "cell_type": "code",
   "execution_count": 2,
   "id": "1c2fbcc1",
   "metadata": {},
   "outputs": [
    {
     "data": {
      "text/plain": [
       "WindowsPath('c:/Users/paula/Documents/udemedellin/proyecto1/py1/medical-noshow-prediction/datos')"
      ]
     },
     "execution_count": 2,
     "metadata": {},
     "output_type": "execute_result"
    }
   ],
   "source": [
    "DATA_DIR = Path.cwd() / \"datos\"\n",
    "\n",
    "DATA_DIR"
   ]
  },
  {
   "cell_type": "code",
   "execution_count": 3,
   "id": "8a18b420",
   "metadata": {},
   "outputs": [
    {
     "name": "stdout",
     "output_type": "stream",
     "text": [
      "c:\\Users\\paula\\Documents\\udemedellin\\proyecto1\\py1\\medical-noshow-prediction\\datos\n"
     ]
    }
   ],
   "source": [
    "print(DATA_DIR)\n",
    "archivo = pd.read_csv(DATA_DIR / \"01_datos_medical_prediction.csv\")"
   ]
  },
  {
   "cell_type": "code",
   "execution_count": 4,
   "id": "089f5d68",
   "metadata": {},
   "outputs": [
    {
     "data": {
      "application/vnd.microsoft.datawrangler.viewer.v0+json": {
       "columns": [
        {
         "name": "index",
         "rawType": "int64",
         "type": "integer"
        },
        {
         "name": "PatientId",
         "rawType": "float64",
         "type": "float"
        },
        {
         "name": "AppointmentID",
         "rawType": "int64",
         "type": "integer"
        },
        {
         "name": "Gender",
         "rawType": "object",
         "type": "string"
        },
        {
         "name": "ScheduledDay",
         "rawType": "object",
         "type": "string"
        },
        {
         "name": "AppointmentDay",
         "rawType": "object",
         "type": "string"
        },
        {
         "name": "Age",
         "rawType": "int64",
         "type": "integer"
        },
        {
         "name": "Neighbourhood",
         "rawType": "object",
         "type": "string"
        },
        {
         "name": "Scholarship",
         "rawType": "int64",
         "type": "integer"
        },
        {
         "name": "Hipertension",
         "rawType": "int64",
         "type": "integer"
        },
        {
         "name": "Diabetes",
         "rawType": "int64",
         "type": "integer"
        },
        {
         "name": "Alcoholism",
         "rawType": "int64",
         "type": "integer"
        },
        {
         "name": "Handcap",
         "rawType": "int64",
         "type": "integer"
        },
        {
         "name": "SMS_received",
         "rawType": "int64",
         "type": "integer"
        },
        {
         "name": "No-show",
         "rawType": "object",
         "type": "string"
        }
       ],
       "ref": "1893ccde-a969-451b-8f76-5b576ce73e8d",
       "rows": [
        [
         "83124",
         "9962636528672.0",
         "5586183",
         "M",
         "2016-04-15T07:23:39Z",
         "2016-05-30T00:00:00Z",
         "19",
         "ITARARÉ",
         "0",
         "0",
         "0",
         "0",
         "0",
         "1",
         "Yes"
        ],
        [
         "98557",
         "4483289259199.0",
         "5745460",
         "F",
         "2016-05-30T11:54:39Z",
         "2016-06-01T00:00:00Z",
         "40",
         "DO MOSCOSO",
         "0",
         "0",
         "0",
         "0",
         "0",
         "0",
         "No"
        ],
        [
         "81139",
         "5451534553659.0",
         "5665021",
         "F",
         "2016-05-05T13:49:42Z",
         "2016-05-05T00:00:00Z",
         "43",
         "SÃO CRISTÓVÃO",
         "0",
         "0",
         "0",
         "0",
         "0",
         "0",
         "No"
        ],
        [
         "26901",
         "78492938538276.0",
         "5678169",
         "F",
         "2016-05-10T08:10:32Z",
         "2016-05-17T00:00:00Z",
         "5",
         "FORTE SÃO JOÃO",
         "0",
         "0",
         "0",
         "0",
         "0",
         "0",
         "No"
        ],
        [
         "62632",
         "691417886163373.0",
         "5411541",
         "M",
         "2016-03-01T07:48:14Z",
         "2016-05-02T00:00:00Z",
         "55",
         "JARDIM CAMBURI",
         "0",
         "0",
         "0",
         "0",
         "0",
         "1",
         "No"
        ],
        [
         "73588",
         "997347764846625.0",
         "5664485",
         "M",
         "2016-05-05T12:32:44Z",
         "2016-05-05T00:00:00Z",
         "52",
         "MARIA ORTIZ",
         "0",
         "0",
         "0",
         "0",
         "0",
         "0",
         "No"
        ],
        [
         "19356",
         "669319977134987.0",
         "5614066",
         "F",
         "2016-04-25T10:02:40Z",
         "2016-05-02T00:00:00Z",
         "32",
         "ILHA DE SANTA MARIA",
         "0",
         "0",
         "0",
         "0",
         "0",
         "1",
         "No"
        ],
        [
         "35548",
         "2114425452688.0",
         "5565596",
         "F",
         "2016-04-11T09:07:31Z",
         "2016-05-05T00:00:00Z",
         "33",
         "JESUS DE NAZARETH",
         "0",
         "0",
         "0",
         "0",
         "0",
         "1",
         "Yes"
        ],
        [
         "957",
         "91896944762663.0",
         "5235643",
         "F",
         "2016-01-11T09:08:10Z",
         "2016-04-29T00:00:00Z",
         "70",
         "GURIGICA",
         "0",
         "1",
         "1",
         "0",
         "0",
         "1",
         "No"
        ],
        [
         "23590",
         "75744528247633.0",
         "5541286",
         "F",
         "2016-04-05T07:49:25Z",
         "2016-05-11T00:00:00Z",
         "66",
         "SANTA TEREZA",
         "0",
         "0",
         "0",
         "0",
         "0",
         "1",
         "No"
        ]
       ],
       "shape": {
        "columns": 14,
        "rows": 10
       }
      },
      "text/html": [
       "<div>\n",
       "<style scoped>\n",
       "    .dataframe tbody tr th:only-of-type {\n",
       "        vertical-align: middle;\n",
       "    }\n",
       "\n",
       "    .dataframe tbody tr th {\n",
       "        vertical-align: top;\n",
       "    }\n",
       "\n",
       "    .dataframe thead th {\n",
       "        text-align: right;\n",
       "    }\n",
       "</style>\n",
       "<table border=\"1\" class=\"dataframe\">\n",
       "  <thead>\n",
       "    <tr style=\"text-align: right;\">\n",
       "      <th></th>\n",
       "      <th>PatientId</th>\n",
       "      <th>AppointmentID</th>\n",
       "      <th>Gender</th>\n",
       "      <th>ScheduledDay</th>\n",
       "      <th>AppointmentDay</th>\n",
       "      <th>Age</th>\n",
       "      <th>Neighbourhood</th>\n",
       "      <th>Scholarship</th>\n",
       "      <th>Hipertension</th>\n",
       "      <th>Diabetes</th>\n",
       "      <th>Alcoholism</th>\n",
       "      <th>Handcap</th>\n",
       "      <th>SMS_received</th>\n",
       "      <th>No-show</th>\n",
       "    </tr>\n",
       "  </thead>\n",
       "  <tbody>\n",
       "    <tr>\n",
       "      <th>83124</th>\n",
       "      <td>9.962637e+12</td>\n",
       "      <td>5586183</td>\n",
       "      <td>M</td>\n",
       "      <td>2016-04-15T07:23:39Z</td>\n",
       "      <td>2016-05-30T00:00:00Z</td>\n",
       "      <td>19</td>\n",
       "      <td>ITARARÉ</td>\n",
       "      <td>0</td>\n",
       "      <td>0</td>\n",
       "      <td>0</td>\n",
       "      <td>0</td>\n",
       "      <td>0</td>\n",
       "      <td>1</td>\n",
       "      <td>Yes</td>\n",
       "    </tr>\n",
       "    <tr>\n",
       "      <th>98557</th>\n",
       "      <td>4.483289e+12</td>\n",
       "      <td>5745460</td>\n",
       "      <td>F</td>\n",
       "      <td>2016-05-30T11:54:39Z</td>\n",
       "      <td>2016-06-01T00:00:00Z</td>\n",
       "      <td>40</td>\n",
       "      <td>DO MOSCOSO</td>\n",
       "      <td>0</td>\n",
       "      <td>0</td>\n",
       "      <td>0</td>\n",
       "      <td>0</td>\n",
       "      <td>0</td>\n",
       "      <td>0</td>\n",
       "      <td>No</td>\n",
       "    </tr>\n",
       "    <tr>\n",
       "      <th>81139</th>\n",
       "      <td>5.451535e+12</td>\n",
       "      <td>5665021</td>\n",
       "      <td>F</td>\n",
       "      <td>2016-05-05T13:49:42Z</td>\n",
       "      <td>2016-05-05T00:00:00Z</td>\n",
       "      <td>43</td>\n",
       "      <td>SÃO CRISTÓVÃO</td>\n",
       "      <td>0</td>\n",
       "      <td>0</td>\n",
       "      <td>0</td>\n",
       "      <td>0</td>\n",
       "      <td>0</td>\n",
       "      <td>0</td>\n",
       "      <td>No</td>\n",
       "    </tr>\n",
       "    <tr>\n",
       "      <th>26901</th>\n",
       "      <td>7.849294e+13</td>\n",
       "      <td>5678169</td>\n",
       "      <td>F</td>\n",
       "      <td>2016-05-10T08:10:32Z</td>\n",
       "      <td>2016-05-17T00:00:00Z</td>\n",
       "      <td>5</td>\n",
       "      <td>FORTE SÃO JOÃO</td>\n",
       "      <td>0</td>\n",
       "      <td>0</td>\n",
       "      <td>0</td>\n",
       "      <td>0</td>\n",
       "      <td>0</td>\n",
       "      <td>0</td>\n",
       "      <td>No</td>\n",
       "    </tr>\n",
       "    <tr>\n",
       "      <th>62632</th>\n",
       "      <td>6.914179e+14</td>\n",
       "      <td>5411541</td>\n",
       "      <td>M</td>\n",
       "      <td>2016-03-01T07:48:14Z</td>\n",
       "      <td>2016-05-02T00:00:00Z</td>\n",
       "      <td>55</td>\n",
       "      <td>JARDIM CAMBURI</td>\n",
       "      <td>0</td>\n",
       "      <td>0</td>\n",
       "      <td>0</td>\n",
       "      <td>0</td>\n",
       "      <td>0</td>\n",
       "      <td>1</td>\n",
       "      <td>No</td>\n",
       "    </tr>\n",
       "    <tr>\n",
       "      <th>73588</th>\n",
       "      <td>9.973478e+14</td>\n",
       "      <td>5664485</td>\n",
       "      <td>M</td>\n",
       "      <td>2016-05-05T12:32:44Z</td>\n",
       "      <td>2016-05-05T00:00:00Z</td>\n",
       "      <td>52</td>\n",
       "      <td>MARIA ORTIZ</td>\n",
       "      <td>0</td>\n",
       "      <td>0</td>\n",
       "      <td>0</td>\n",
       "      <td>0</td>\n",
       "      <td>0</td>\n",
       "      <td>0</td>\n",
       "      <td>No</td>\n",
       "    </tr>\n",
       "    <tr>\n",
       "      <th>19356</th>\n",
       "      <td>6.693200e+14</td>\n",
       "      <td>5614066</td>\n",
       "      <td>F</td>\n",
       "      <td>2016-04-25T10:02:40Z</td>\n",
       "      <td>2016-05-02T00:00:00Z</td>\n",
       "      <td>32</td>\n",
       "      <td>ILHA DE SANTA MARIA</td>\n",
       "      <td>0</td>\n",
       "      <td>0</td>\n",
       "      <td>0</td>\n",
       "      <td>0</td>\n",
       "      <td>0</td>\n",
       "      <td>1</td>\n",
       "      <td>No</td>\n",
       "    </tr>\n",
       "    <tr>\n",
       "      <th>35548</th>\n",
       "      <td>2.114425e+12</td>\n",
       "      <td>5565596</td>\n",
       "      <td>F</td>\n",
       "      <td>2016-04-11T09:07:31Z</td>\n",
       "      <td>2016-05-05T00:00:00Z</td>\n",
       "      <td>33</td>\n",
       "      <td>JESUS DE NAZARETH</td>\n",
       "      <td>0</td>\n",
       "      <td>0</td>\n",
       "      <td>0</td>\n",
       "      <td>0</td>\n",
       "      <td>0</td>\n",
       "      <td>1</td>\n",
       "      <td>Yes</td>\n",
       "    </tr>\n",
       "    <tr>\n",
       "      <th>957</th>\n",
       "      <td>9.189694e+13</td>\n",
       "      <td>5235643</td>\n",
       "      <td>F</td>\n",
       "      <td>2016-01-11T09:08:10Z</td>\n",
       "      <td>2016-04-29T00:00:00Z</td>\n",
       "      <td>70</td>\n",
       "      <td>GURIGICA</td>\n",
       "      <td>0</td>\n",
       "      <td>1</td>\n",
       "      <td>1</td>\n",
       "      <td>0</td>\n",
       "      <td>0</td>\n",
       "      <td>1</td>\n",
       "      <td>No</td>\n",
       "    </tr>\n",
       "    <tr>\n",
       "      <th>23590</th>\n",
       "      <td>7.574453e+13</td>\n",
       "      <td>5541286</td>\n",
       "      <td>F</td>\n",
       "      <td>2016-04-05T07:49:25Z</td>\n",
       "      <td>2016-05-11T00:00:00Z</td>\n",
       "      <td>66</td>\n",
       "      <td>SANTA TEREZA</td>\n",
       "      <td>0</td>\n",
       "      <td>0</td>\n",
       "      <td>0</td>\n",
       "      <td>0</td>\n",
       "      <td>0</td>\n",
       "      <td>1</td>\n",
       "      <td>No</td>\n",
       "    </tr>\n",
       "  </tbody>\n",
       "</table>\n",
       "</div>"
      ],
      "text/plain": [
       "          PatientId  AppointmentID Gender          ScheduledDay  \\\n",
       "83124  9.962637e+12        5586183      M  2016-04-15T07:23:39Z   \n",
       "98557  4.483289e+12        5745460      F  2016-05-30T11:54:39Z   \n",
       "81139  5.451535e+12        5665021      F  2016-05-05T13:49:42Z   \n",
       "26901  7.849294e+13        5678169      F  2016-05-10T08:10:32Z   \n",
       "62632  6.914179e+14        5411541      M  2016-03-01T07:48:14Z   \n",
       "73588  9.973478e+14        5664485      M  2016-05-05T12:32:44Z   \n",
       "19356  6.693200e+14        5614066      F  2016-04-25T10:02:40Z   \n",
       "35548  2.114425e+12        5565596      F  2016-04-11T09:07:31Z   \n",
       "957    9.189694e+13        5235643      F  2016-01-11T09:08:10Z   \n",
       "23590  7.574453e+13        5541286      F  2016-04-05T07:49:25Z   \n",
       "\n",
       "             AppointmentDay  Age        Neighbourhood  Scholarship  \\\n",
       "83124  2016-05-30T00:00:00Z   19              ITARARÉ            0   \n",
       "98557  2016-06-01T00:00:00Z   40           DO MOSCOSO            0   \n",
       "81139  2016-05-05T00:00:00Z   43        SÃO CRISTÓVÃO            0   \n",
       "26901  2016-05-17T00:00:00Z    5       FORTE SÃO JOÃO            0   \n",
       "62632  2016-05-02T00:00:00Z   55       JARDIM CAMBURI            0   \n",
       "73588  2016-05-05T00:00:00Z   52          MARIA ORTIZ            0   \n",
       "19356  2016-05-02T00:00:00Z   32  ILHA DE SANTA MARIA            0   \n",
       "35548  2016-05-05T00:00:00Z   33    JESUS DE NAZARETH            0   \n",
       "957    2016-04-29T00:00:00Z   70             GURIGICA            0   \n",
       "23590  2016-05-11T00:00:00Z   66         SANTA TEREZA            0   \n",
       "\n",
       "       Hipertension  Diabetes  Alcoholism  Handcap  SMS_received No-show  \n",
       "83124             0         0           0        0             1     Yes  \n",
       "98557             0         0           0        0             0      No  \n",
       "81139             0         0           0        0             0      No  \n",
       "26901             0         0           0        0             0      No  \n",
       "62632             0         0           0        0             1      No  \n",
       "73588             0         0           0        0             0      No  \n",
       "19356             0         0           0        0             1      No  \n",
       "35548             0         0           0        0             1     Yes  \n",
       "957               1         1           0        0             1      No  \n",
       "23590             0         0           0        0             1      No  "
      ]
     },
     "execution_count": 4,
     "metadata": {},
     "output_type": "execute_result"
    }
   ],
   "source": [
    "archivo.sample(10, random_state=100)"
   ]
  },
  {
   "cell_type": "code",
   "execution_count": 5,
   "id": "8f77a4a2",
   "metadata": {},
   "outputs": [
    {
     "name": "stdout",
     "output_type": "stream",
     "text": [
      "<class 'pandas.core.frame.DataFrame'>\n",
      "RangeIndex: 110527 entries, 0 to 110526\n",
      "Data columns (total 14 columns):\n",
      " #   Column          Non-Null Count   Dtype  \n",
      "---  ------          --------------   -----  \n",
      " 0   PatientId       110527 non-null  float64\n",
      " 1   AppointmentID   110527 non-null  int64  \n",
      " 2   Gender          110527 non-null  object \n",
      " 3   ScheduledDay    110527 non-null  object \n",
      " 4   AppointmentDay  110527 non-null  object \n",
      " 5   Age             110527 non-null  int64  \n",
      " 6   Neighbourhood   110527 non-null  object \n",
      " 7   Scholarship     110527 non-null  int64  \n",
      " 8   Hipertension    110527 non-null  int64  \n",
      " 9   Diabetes        110527 non-null  int64  \n",
      " 10  Alcoholism      110527 non-null  int64  \n",
      " 11  Handcap         110527 non-null  int64  \n",
      " 12  SMS_received    110527 non-null  int64  \n",
      " 13  No-show         110527 non-null  object \n",
      "dtypes: float64(1), int64(8), object(5)\n",
      "memory usage: 11.8+ MB\n"
     ]
    }
   ],
   "source": [
    "archivo.info()"
   ]
  },
  {
   "cell_type": "code",
   "execution_count": 6,
   "id": "cac3fc7f",
   "metadata": {},
   "outputs": [
    {
     "name": "stdout",
     "output_type": "stream",
     "text": [
      "           PatientId  AppointmentID  Gender          ScheduledDay  \\\n",
      "count   1.105270e+05   1.105270e+05  110527                110527   \n",
      "unique           NaN            NaN       2                103549   \n",
      "top              NaN            NaN       F  2016-05-06T07:09:54Z   \n",
      "freq             NaN            NaN   71840                    24   \n",
      "mean    1.474963e+14   5.675305e+06     NaN                   NaN   \n",
      "std     2.560949e+14   7.129575e+04     NaN                   NaN   \n",
      "min     3.921784e+04   5.030230e+06     NaN                   NaN   \n",
      "25%     4.172614e+12   5.640286e+06     NaN                   NaN   \n",
      "50%     3.173184e+13   5.680573e+06     NaN                   NaN   \n",
      "75%     9.439172e+13   5.725524e+06     NaN                   NaN   \n",
      "max     9.999816e+14   5.790484e+06     NaN                   NaN   \n",
      "\n",
      "              AppointmentDay            Age   Neighbourhood    Scholarship  \\\n",
      "count                 110527  110527.000000          110527  110527.000000   \n",
      "unique                    27            NaN              81            NaN   \n",
      "top     2016-06-06T00:00:00Z            NaN  JARDIM CAMBURI            NaN   \n",
      "freq                    4692            NaN            7717            NaN   \n",
      "mean                     NaN      37.088874             NaN       0.098266   \n",
      "std                      NaN      23.110205             NaN       0.297675   \n",
      "min                      NaN      -1.000000             NaN       0.000000   \n",
      "25%                      NaN      18.000000             NaN       0.000000   \n",
      "50%                      NaN      37.000000             NaN       0.000000   \n",
      "75%                      NaN      55.000000             NaN       0.000000   \n",
      "max                      NaN     115.000000             NaN       1.000000   \n",
      "\n",
      "         Hipertension       Diabetes     Alcoholism        Handcap  \\\n",
      "count   110527.000000  110527.000000  110527.000000  110527.000000   \n",
      "unique            NaN            NaN            NaN            NaN   \n",
      "top               NaN            NaN            NaN            NaN   \n",
      "freq              NaN            NaN            NaN            NaN   \n",
      "mean         0.197246       0.071865       0.030400       0.022248   \n",
      "std          0.397921       0.258265       0.171686       0.161543   \n",
      "min          0.000000       0.000000       0.000000       0.000000   \n",
      "25%          0.000000       0.000000       0.000000       0.000000   \n",
      "50%          0.000000       0.000000       0.000000       0.000000   \n",
      "75%          0.000000       0.000000       0.000000       0.000000   \n",
      "max          1.000000       1.000000       1.000000       4.000000   \n",
      "\n",
      "         SMS_received No-show  \n",
      "count   110527.000000  110527  \n",
      "unique            NaN       2  \n",
      "top               NaN      No  \n",
      "freq              NaN   88208  \n",
      "mean         0.321026     NaN  \n",
      "std          0.466873     NaN  \n",
      "min          0.000000     NaN  \n",
      "25%          0.000000     NaN  \n",
      "50%          0.000000     NaN  \n",
      "75%          1.000000     NaN  \n",
      "max          1.000000     NaN  \n",
      "lista del tipo de variables---------------: \n",
      "PatientId         float64\n",
      "AppointmentID       int64\n",
      "Gender             object\n",
      "ScheduledDay       object\n",
      "AppointmentDay     object\n",
      "Age                 int64\n",
      "Neighbourhood      object\n",
      "Scholarship         int64\n",
      "Hipertension        int64\n",
      "Diabetes            int64\n",
      "Alcoholism          int64\n",
      "Handcap             int64\n",
      "SMS_received        int64\n",
      "No-show            object\n",
      "dtype: object\n",
      "Numero de variables unicas por cada variable: \n",
      "PatientId          62299\n",
      "AppointmentID     110527\n",
      "Gender                 2\n",
      "ScheduledDay      103549\n",
      "AppointmentDay        27\n",
      "Age                  104\n",
      "Neighbourhood         81\n",
      "Scholarship            2\n",
      "Hipertension           2\n",
      "Diabetes               2\n",
      "Alcoholism             2\n",
      "Handcap                5\n",
      "SMS_received           2\n",
      "No-show                2\n",
      "dtype: int64\n"
     ]
    }
   ],
   "source": [
    "# Análisis exploratorio de datos (EDA)\n",
    "# 1. Estadísticas descriptivas\n",
    "print(archivo.describe(include='all'))   \n",
    "#visualizacion de las variables categoricas y numericas\n",
    "print(\"lista del tipo de variables---------------: \")\n",
    "print(archivo.dtypes)\n",
    "print(\"Numero de variables unicas por cada variable: \")\n",
    "print(archivo.nunique())        \n"
   ]
  },
  {
   "cell_type": "markdown",
   "id": "7df6b6b3",
   "metadata": {},
   "source": [
    "CONVERSION DE DATOS"
   ]
  },
  {
   "cell_type": "code",
   "execution_count": 7,
   "id": "bc26002c",
   "metadata": {},
   "outputs": [
    {
     "data": {
      "application/vnd.microsoft.datawrangler.viewer.v0+json": {
       "columns": [
        {
         "name": "index",
         "rawType": "object",
         "type": "string"
        },
        {
         "name": "0",
         "rawType": "object",
         "type": "unknown"
        }
       ],
       "ref": "4276b439-70a3-4b6a-ba66-5f6d6eb62508",
       "rows": [
        [
         "PatientId",
         "float64"
        ],
        [
         "AppointmentID",
         "int64"
        ],
        [
         "Gender",
         "category"
        ],
        [
         "ScheduledDay",
         "datetime64[ns, UTC]"
        ],
        [
         "AppointmentDay",
         "datetime64[ns, UTC]"
        ],
        [
         "Age",
         "int64"
        ],
        [
         "Neighbourhood",
         "category"
        ],
        [
         "Scholarship",
         "category"
        ],
        [
         "Hipertension",
         "category"
        ],
        [
         "Diabetes",
         "category"
        ],
        [
         "Alcoholism",
         "category"
        ],
        [
         "Handcap",
         "category"
        ],
        [
         "SMS_received",
         "category"
        ],
        [
         "No-show",
         "category"
        ]
       ],
       "shape": {
        "columns": 1,
        "rows": 14
       }
      },
      "text/plain": [
       "PatientId                     float64\n",
       "AppointmentID                   int64\n",
       "Gender                       category\n",
       "ScheduledDay      datetime64[ns, UTC]\n",
       "AppointmentDay    datetime64[ns, UTC]\n",
       "Age                             int64\n",
       "Neighbourhood                category\n",
       "Scholarship                  category\n",
       "Hipertension                 category\n",
       "Diabetes                     category\n",
       "Alcoholism                   category\n",
       "Handcap                      category\n",
       "SMS_received                 category\n",
       "No-show                      category\n",
       "dtype: object"
      ]
     },
     "execution_count": 7,
     "metadata": {},
     "output_type": "execute_result"
    }
   ],
   "source": [
    "#CONVERSION DE DATOS\n",
    "cols_categoricas = ['Gender', 'Neighbourhood', 'Scholarship', 'Hipertension', 'Diabetes', 'Alcoholism', 'Handcap', 'SMS_received', 'No-show']\n",
    "archivo[cols_categoricas] = archivo[cols_categoricas].astype('category')\n",
    "archivo['AppointmentDay'] = pd.to_datetime(archivo['AppointmentDay'])\n",
    "archivo['ScheduledDay'] = pd.to_datetime(archivo['ScheduledDay'])   \n",
    "archivo['Age'] = archivo['Age'].astype(int)\n",
    "archivo['No-show'] = archivo['No-show'].map({'No': 0, 'Yes': 1})\n",
    "archivo.dtypes\n"
   ]
  },
  {
   "cell_type": "code",
   "execution_count": 8,
   "id": "eea24b16",
   "metadata": {},
   "outputs": [
    {
     "name": "stdout",
     "output_type": "stream",
     "text": [
      "<class 'pandas.core.frame.DataFrame'>\n",
      "RangeIndex: 110527 entries, 0 to 110526\n",
      "Data columns (total 14 columns):\n",
      " #   Column          Non-Null Count   Dtype              \n",
      "---  ------          --------------   -----              \n",
      " 0   PatientId       110527 non-null  float64            \n",
      " 1   AppointmentID   110527 non-null  int64              \n",
      " 2   Gender          110527 non-null  category           \n",
      " 3   ScheduledDay    110527 non-null  datetime64[ns, UTC]\n",
      " 4   AppointmentDay  110527 non-null  datetime64[ns, UTC]\n",
      " 5   Age             110527 non-null  int64              \n",
      " 6   Neighbourhood   110527 non-null  category           \n",
      " 7   Scholarship     110527 non-null  category           \n",
      " 8   Hipertension    110527 non-null  category           \n",
      " 9   Diabetes        110527 non-null  category           \n",
      " 10  Alcoholism      110527 non-null  category           \n",
      " 11  Handcap         110527 non-null  category           \n",
      " 12  SMS_received    110527 non-null  category           \n",
      " 13  No-show         110527 non-null  category           \n",
      "dtypes: category(9), datetime64[ns, UTC](2), float64(1), int64(2)\n",
      "memory usage: 5.2 MB\n"
     ]
    }
   ],
   "source": [
    "archivo.info()"
   ]
  },
  {
   "cell_type": "code",
   "execution_count": 9,
   "id": "73cfcf44",
   "metadata": {},
   "outputs": [
    {
     "name": "stdout",
     "output_type": "stream",
     "text": [
      "<class 'pandas.core.frame.DataFrame'>\n",
      "RangeIndex: 110527 entries, 0 to 110526\n",
      "Data columns (total 14 columns):\n",
      " #   Column          Non-Null Count   Dtype              \n",
      "---  ------          --------------   -----              \n",
      " 0   PatientId       110527 non-null  float64            \n",
      " 1   AppointmentID   110527 non-null  int64              \n",
      " 2   Gender          110527 non-null  category           \n",
      " 3   ScheduledDay    110527 non-null  datetime64[ns, UTC]\n",
      " 4   AppointmentDay  110527 non-null  datetime64[ns, UTC]\n",
      " 5   Age             110527 non-null  int64              \n",
      " 6   Neighbourhood   110527 non-null  category           \n",
      " 7   Scholarship     110527 non-null  category           \n",
      " 8   Hipertension    110527 non-null  category           \n",
      " 9   Diabetes        110527 non-null  category           \n",
      " 10  Alcoholism      110527 non-null  category           \n",
      " 11  Handcap         110527 non-null  category           \n",
      " 12  SMS_received    110527 non-null  category           \n",
      " 13  No-show         110527 non-null  category           \n",
      "dtypes: category(9), datetime64[ns, UTC](2), float64(1), int64(2)\n",
      "memory usage: 5.2 MB\n"
     ]
    }
   ],
   "source": [
    "archivo.info()"
   ]
  },
  {
   "cell_type": "code",
   "execution_count": 10,
   "id": "4a426a62",
   "metadata": {},
   "outputs": [
    {
     "data": {
      "application/vnd.microsoft.datawrangler.viewer.v0+json": {
       "columns": [
        {
         "name": "index",
         "rawType": "object",
         "type": "string"
        },
        {
         "name": "Gender",
         "rawType": "object",
         "type": "unknown"
        },
        {
         "name": "Neighbourhood",
         "rawType": "object",
         "type": "unknown"
        },
        {
         "name": "Scholarship",
         "rawType": "int64",
         "type": "integer"
        },
        {
         "name": "Hipertension",
         "rawType": "int64",
         "type": "integer"
        },
        {
         "name": "Diabetes",
         "rawType": "int64",
         "type": "integer"
        },
        {
         "name": "Alcoholism",
         "rawType": "int64",
         "type": "integer"
        },
        {
         "name": "Handcap",
         "rawType": "int64",
         "type": "integer"
        },
        {
         "name": "SMS_received",
         "rawType": "int64",
         "type": "integer"
        },
        {
         "name": "No-show",
         "rawType": "int64",
         "type": "integer"
        }
       ],
       "ref": "f5c123a2-b4f0-42d7-a863-cbb20ad665aa",
       "rows": [
        [
         "count",
         "110527",
         "110527",
         "110527",
         "110527",
         "110527",
         "110527",
         "110527",
         "110527",
         "110527"
        ],
        [
         "unique",
         "2",
         "81",
         "2",
         "2",
         "2",
         "2",
         "5",
         "2",
         "2"
        ],
        [
         "top",
         "F",
         "JARDIM CAMBURI",
         "0",
         "0",
         "0",
         "0",
         "0",
         "0",
         "0"
        ],
        [
         "freq",
         "71840",
         "7717",
         "99666",
         "88726",
         "102584",
         "107167",
         "108286",
         "75045",
         "88208"
        ]
       ],
       "shape": {
        "columns": 9,
        "rows": 4
       }
      },
      "text/html": [
       "<div>\n",
       "<style scoped>\n",
       "    .dataframe tbody tr th:only-of-type {\n",
       "        vertical-align: middle;\n",
       "    }\n",
       "\n",
       "    .dataframe tbody tr th {\n",
       "        vertical-align: top;\n",
       "    }\n",
       "\n",
       "    .dataframe thead th {\n",
       "        text-align: right;\n",
       "    }\n",
       "</style>\n",
       "<table border=\"1\" class=\"dataframe\">\n",
       "  <thead>\n",
       "    <tr style=\"text-align: right;\">\n",
       "      <th></th>\n",
       "      <th>Gender</th>\n",
       "      <th>Neighbourhood</th>\n",
       "      <th>Scholarship</th>\n",
       "      <th>Hipertension</th>\n",
       "      <th>Diabetes</th>\n",
       "      <th>Alcoholism</th>\n",
       "      <th>Handcap</th>\n",
       "      <th>SMS_received</th>\n",
       "      <th>No-show</th>\n",
       "    </tr>\n",
       "  </thead>\n",
       "  <tbody>\n",
       "    <tr>\n",
       "      <th>count</th>\n",
       "      <td>110527</td>\n",
       "      <td>110527</td>\n",
       "      <td>110527</td>\n",
       "      <td>110527</td>\n",
       "      <td>110527</td>\n",
       "      <td>110527</td>\n",
       "      <td>110527</td>\n",
       "      <td>110527</td>\n",
       "      <td>110527</td>\n",
       "    </tr>\n",
       "    <tr>\n",
       "      <th>unique</th>\n",
       "      <td>2</td>\n",
       "      <td>81</td>\n",
       "      <td>2</td>\n",
       "      <td>2</td>\n",
       "      <td>2</td>\n",
       "      <td>2</td>\n",
       "      <td>5</td>\n",
       "      <td>2</td>\n",
       "      <td>2</td>\n",
       "    </tr>\n",
       "    <tr>\n",
       "      <th>top</th>\n",
       "      <td>F</td>\n",
       "      <td>JARDIM CAMBURI</td>\n",
       "      <td>0</td>\n",
       "      <td>0</td>\n",
       "      <td>0</td>\n",
       "      <td>0</td>\n",
       "      <td>0</td>\n",
       "      <td>0</td>\n",
       "      <td>0</td>\n",
       "    </tr>\n",
       "    <tr>\n",
       "      <th>freq</th>\n",
       "      <td>71840</td>\n",
       "      <td>7717</td>\n",
       "      <td>99666</td>\n",
       "      <td>88726</td>\n",
       "      <td>102584</td>\n",
       "      <td>107167</td>\n",
       "      <td>108286</td>\n",
       "      <td>75045</td>\n",
       "      <td>88208</td>\n",
       "    </tr>\n",
       "  </tbody>\n",
       "</table>\n",
       "</div>"
      ],
      "text/plain": [
       "        Gender   Neighbourhood  Scholarship  Hipertension  Diabetes  \\\n",
       "count   110527          110527       110527        110527    110527   \n",
       "unique       2              81            2             2         2   \n",
       "top          F  JARDIM CAMBURI            0             0         0   \n",
       "freq     71840            7717        99666         88726    102584   \n",
       "\n",
       "        Alcoholism  Handcap  SMS_received  No-show  \n",
       "count       110527   110527        110527   110527  \n",
       "unique           2        5             2        2  \n",
       "top              0        0             0        0  \n",
       "freq        107167   108286         75045    88208  "
      ]
     },
     "execution_count": 10,
     "metadata": {},
     "output_type": "execute_result"
    }
   ],
   "source": [
    "archivo.describe(include='category')"
   ]
  },
  {
   "cell_type": "code",
   "execution_count": 11,
   "id": "eb2dac0d",
   "metadata": {},
   "outputs": [
    {
     "name": "stdout",
     "output_type": "stream",
     "text": [
      "      PatientId  AppointmentID Gender          ScheduledDay  \\\n",
      "0  2.987250e+13        5642903      F  2016-04-29T18:38:08Z   \n",
      "1  5.589978e+14        5642503      M  2016-04-29T16:08:27Z   \n",
      "2  4.262962e+12        5642549      F  2016-04-29T16:19:04Z   \n",
      "3  8.679512e+11        5642828      F  2016-04-29T17:29:31Z   \n",
      "4  8.841186e+12        5642494      F  2016-04-29T16:07:23Z   \n",
      "\n",
      "         AppointmentDay  Age      Neighbourhood  Scholarship  Hipertension  \\\n",
      "0  2016-04-29T00:00:00Z   62    JARDIM DA PENHA            0             1   \n",
      "1  2016-04-29T00:00:00Z   56    JARDIM DA PENHA            0             0   \n",
      "2  2016-04-29T00:00:00Z   62      MATA DA PRAIA            0             0   \n",
      "3  2016-04-29T00:00:00Z    8  PONTAL DE CAMBURI            0             0   \n",
      "4  2016-04-29T00:00:00Z   56    JARDIM DA PENHA            0             1   \n",
      "\n",
      "   Diabetes  Alcoholism  Handcap  SMS_received No-show  \n",
      "0         0           0        0             0      No  \n",
      "1         0           0        0             0      No  \n",
      "2         0           0        0             0      No  \n",
      "3         0           0        0             0      No  \n",
      "4         1           0        0             0      No  \n",
      "<class 'pandas.core.frame.DataFrame'>\n",
      "RangeIndex: 110527 entries, 0 to 110526\n",
      "Data columns (total 14 columns):\n",
      " #   Column          Non-Null Count   Dtype  \n",
      "---  ------          --------------   -----  \n",
      " 0   PatientId       110527 non-null  float64\n",
      " 1   AppointmentID   110527 non-null  int64  \n",
      " 2   Gender          110527 non-null  object \n",
      " 3   ScheduledDay    110527 non-null  object \n",
      " 4   AppointmentDay  110527 non-null  object \n",
      " 5   Age             110527 non-null  int64  \n",
      " 6   Neighbourhood   110527 non-null  object \n",
      " 7   Scholarship     110527 non-null  int64  \n",
      " 8   Hipertension    110527 non-null  int64  \n",
      " 9   Diabetes        110527 non-null  int64  \n",
      " 10  Alcoholism      110527 non-null  int64  \n",
      " 11  Handcap         110527 non-null  int64  \n",
      " 12  SMS_received    110527 non-null  int64  \n",
      " 13  No-show         110527 non-null  object \n",
      "dtypes: float64(1), int64(8), object(5)\n",
      "memory usage: 11.8+ MB\n",
      "None\n",
      "          PatientId  AppointmentID            Age    Scholarship  \\\n",
      "count  1.105270e+05   1.105270e+05  110527.000000  110527.000000   \n",
      "mean   1.474963e+14   5.675305e+06      37.088874       0.098266   \n",
      "std    2.560949e+14   7.129575e+04      23.110205       0.297675   \n",
      "min    3.921784e+04   5.030230e+06      -1.000000       0.000000   \n",
      "25%    4.172614e+12   5.640286e+06      18.000000       0.000000   \n",
      "50%    3.173184e+13   5.680573e+06      37.000000       0.000000   \n",
      "75%    9.439172e+13   5.725524e+06      55.000000       0.000000   \n",
      "max    9.999816e+14   5.790484e+06     115.000000       1.000000   \n",
      "\n",
      "        Hipertension       Diabetes     Alcoholism        Handcap  \\\n",
      "count  110527.000000  110527.000000  110527.000000  110527.000000   \n",
      "mean        0.197246       0.071865       0.030400       0.022248   \n",
      "std         0.397921       0.258265       0.171686       0.161543   \n",
      "min         0.000000       0.000000       0.000000       0.000000   \n",
      "25%         0.000000       0.000000       0.000000       0.000000   \n",
      "50%         0.000000       0.000000       0.000000       0.000000   \n",
      "75%         0.000000       0.000000       0.000000       0.000000   \n",
      "max         1.000000       1.000000       1.000000       4.000000   \n",
      "\n",
      "        SMS_received  \n",
      "count  110527.000000  \n",
      "mean        0.321026  \n",
      "std         0.466873  \n",
      "min         0.000000  \n",
      "25%         0.000000  \n",
      "50%         0.000000  \n",
      "75%         1.000000  \n",
      "max         1.000000  \n",
      "PatientId         0\n",
      "AppointmentID     0\n",
      "Gender            0\n",
      "ScheduledDay      0\n",
      "AppointmentDay    0\n",
      "Age               0\n",
      "Neighbourhood     0\n",
      "Scholarship       0\n",
      "Hipertension      0\n",
      "Diabetes          0\n",
      "Alcoholism        0\n",
      "Handcap           0\n",
      "SMS_received      0\n",
      "No-show           0\n",
      "dtype: int64\n"
     ]
    }
   ],
   "source": [
    "# Cargar datos de un archivo CSV en python\n",
    "archivo = pd.read_csv('KaggleV2-May-2016.csv')\n",
    "print(archivo.head())\n",
    "print(archivo.info())\n",
    "print(archivo.describe())\n",
    "print(archivo.isnull().sum())\n"
   ]
  },
  {
   "cell_type": "code",
   "execution_count": 12,
   "id": "3ea7ce2f",
   "metadata": {},
   "outputs": [
    {
     "name": "stdout",
     "output_type": "stream",
     "text": [
      "<class 'pandas.core.frame.DataFrame'>\n",
      "RangeIndex: 110527 entries, 0 to 110526\n",
      "Data columns (total 14 columns):\n",
      " #   Column          Non-Null Count   Dtype  \n",
      "---  ------          --------------   -----  \n",
      " 0   PatientId       110527 non-null  float64\n",
      " 1   AppointmentID   110527 non-null  int64  \n",
      " 2   Gender          110527 non-null  object \n",
      " 3   ScheduledDay    110527 non-null  object \n",
      " 4   AppointmentDay  110527 non-null  object \n",
      " 5   Age             110527 non-null  int64  \n",
      " 6   Neighbourhood   110527 non-null  object \n",
      " 7   Scholarship     110527 non-null  int64  \n",
      " 8   Hipertension    110527 non-null  int64  \n",
      " 9   Diabetes        110527 non-null  int64  \n",
      " 10  Alcoholism      110527 non-null  int64  \n",
      " 11  Handcap         110527 non-null  int64  \n",
      " 12  SMS_received    110527 non-null  int64  \n",
      " 13  No-show         110527 non-null  object \n",
      "dtypes: float64(1), int64(8), object(5)\n",
      "memory usage: 11.8+ MB\n",
      "None\n"
     ]
    }
   ],
   "source": [
    "print(archivo.info())"
   ]
  },
  {
   "cell_type": "markdown",
   "id": "84859bb1",
   "metadata": {},
   "source": [
    "Clasificacion de variables"
   ]
  },
  {
   "cell_type": "code",
   "execution_count": 13,
   "id": "4671d81c",
   "metadata": {},
   "outputs": [
    {
     "name": "stdout",
     "output_type": "stream",
     "text": [
      "lista del tipo de variables: \n",
      "PatientId         float64\n",
      "AppointmentID       int64\n",
      "Gender             object\n",
      "ScheduledDay       object\n",
      "AppointmentDay     object\n",
      "Age                 int64\n",
      "Neighbourhood      object\n",
      "Scholarship         int64\n",
      "Hipertension        int64\n",
      "Diabetes            int64\n",
      "Alcoholism          int64\n",
      "Handcap             int64\n",
      "SMS_received        int64\n",
      "No-show            object\n",
      "dtype: object\n",
      "Numero de variables unicas por cada variable: \n",
      "PatientId          62299\n",
      "AppointmentID     110527\n",
      "Gender                 2\n",
      "ScheduledDay      103549\n",
      "AppointmentDay        27\n",
      "Age                  104\n",
      "Neighbourhood         81\n",
      "Scholarship            2\n",
      "Hipertension           2\n",
      "Diabetes               2\n",
      "Alcoholism             2\n",
      "Handcap                5\n",
      "SMS_received           2\n",
      "No-show                2\n",
      "dtype: int64\n"
     ]
    }
   ],
   "source": [
    "print(\"lista del tipo de variables: \")\n",
    "print(archivo.dtypes)\n",
    "print(\"Numero de variables unicas por cada variable: \")\n",
    "print(archivo.nunique())"
   ]
  },
  {
   "cell_type": "markdown",
   "id": "84967dce",
   "metadata": {},
   "source": [
    "Limieza de datos"
   ]
  },
  {
   "cell_type": "code",
   "execution_count": 14,
   "id": "257f9179",
   "metadata": {},
   "outputs": [
    {
     "name": "stdout",
     "output_type": "stream",
     "text": [
      "PatientId         0\n",
      "AppointmentID     0\n",
      "Gender            0\n",
      "ScheduledDay      0\n",
      "AppointmentDay    0\n",
      "Age               0\n",
      "Neighbourhood     0\n",
      "Scholarship       0\n",
      "Hipertension      0\n",
      "Diabetes          0\n",
      "Alcoholism        0\n",
      "Handcap           0\n",
      "SMS_received      0\n",
      "No-show           0\n",
      "dtype: int64\n",
      "PatientId         0\n",
      "AppointmentID     0\n",
      "Gender            0\n",
      "ScheduledDay      0\n",
      "AppointmentDay    0\n",
      "Age               0\n",
      "Neighbourhood     0\n",
      "Scholarship       0\n",
      "Hipertension      0\n",
      "Diabetes          0\n",
      "Alcoholism        0\n",
      "Handcap           0\n",
      "SMS_received      0\n",
      "No-show           0\n",
      "dtype: int64\n"
     ]
    }
   ],
   "source": [
    "\n",
    "# Eliminar filas duplicadas \n",
    "archivo = archivo.drop_duplicates()\n",
    "# Verificar si hay valores nulos\n",
    "print(archivo.isnull().sum())\n",
    "# Eliminar filas con valores nulos\n",
    "archivo = archivo.dropna()\n",
    "# Verificar si hay valores nulos después de la limpieza\n",
    "print(archivo.isnull().sum())       \n"
   ]
  },
  {
   "cell_type": "markdown",
   "id": "6264677c",
   "metadata": {},
   "source": [
    "Descripcion de lo datos"
   ]
  },
  {
   "cell_type": "code",
   "execution_count": 15,
   "id": "8490270d",
   "metadata": {},
   "outputs": [
    {
     "data": {
      "application/vnd.microsoft.datawrangler.viewer.v0+json": {
       "columns": [
        {
         "name": "index",
         "rawType": "object",
         "type": "string"
        },
        {
         "name": "PatientId",
         "rawType": "float64",
         "type": "float"
        },
        {
         "name": "AppointmentID",
         "rawType": "float64",
         "type": "float"
        },
        {
         "name": "Age",
         "rawType": "float64",
         "type": "float"
        },
        {
         "name": "Scholarship",
         "rawType": "float64",
         "type": "float"
        },
        {
         "name": "Hipertension",
         "rawType": "float64",
         "type": "float"
        },
        {
         "name": "Diabetes",
         "rawType": "float64",
         "type": "float"
        },
        {
         "name": "Alcoholism",
         "rawType": "float64",
         "type": "float"
        },
        {
         "name": "Handcap",
         "rawType": "float64",
         "type": "float"
        },
        {
         "name": "SMS_received",
         "rawType": "float64",
         "type": "float"
        }
       ],
       "ref": "57f6f66a-314b-4bd5-9f08-a185499329e3",
       "rows": [
        [
         "count",
         "110527.0",
         "110527.0",
         "110527.0",
         "110527.0",
         "110527.0",
         "110527.0",
         "110527.0",
         "110527.0",
         "110527.0"
        ],
        [
         "mean",
         "147496265710394.06",
         "5675305.123426855",
         "37.08887421173107",
         "0.09826558216544373",
         "0.1972459218109602",
         "0.07186479321794674",
         "0.030399811810688793",
         "0.022247957512643968",
         "0.32102563174608917"
        ],
        [
         "std",
         "256094920291739.1",
         "71295.75153966923",
         "23.11020496368264",
         "0.29767475410930716",
         "0.39792134994708406",
         "0.25826507350746697",
         "0.17168555541424485",
         "0.16154272581427898",
         "0.46687273170186816"
        ],
        [
         "min",
         "39217.84439",
         "5030230.0",
         "-1.0",
         "0.0",
         "0.0",
         "0.0",
         "0.0",
         "0.0",
         "0.0"
        ],
        [
         "25%",
         "4172614444192.0",
         "5640285.5",
         "18.0",
         "0.0",
         "0.0",
         "0.0",
         "0.0",
         "0.0",
         "0.0"
        ],
        [
         "50%",
         "31731838713978.0",
         "5680573.0",
         "37.0",
         "0.0",
         "0.0",
         "0.0",
         "0.0",
         "0.0",
         "0.0"
        ],
        [
         "75%",
         "94391720898175.0",
         "5725523.5",
         "55.0",
         "0.0",
         "0.0",
         "0.0",
         "0.0",
         "0.0",
         "1.0"
        ],
        [
         "max",
         "999981631772427.0",
         "5790484.0",
         "115.0",
         "1.0",
         "1.0",
         "1.0",
         "1.0",
         "4.0",
         "1.0"
        ]
       ],
       "shape": {
        "columns": 9,
        "rows": 8
       }
      },
      "text/html": [
       "<div>\n",
       "<style scoped>\n",
       "    .dataframe tbody tr th:only-of-type {\n",
       "        vertical-align: middle;\n",
       "    }\n",
       "\n",
       "    .dataframe tbody tr th {\n",
       "        vertical-align: top;\n",
       "    }\n",
       "\n",
       "    .dataframe thead th {\n",
       "        text-align: right;\n",
       "    }\n",
       "</style>\n",
       "<table border=\"1\" class=\"dataframe\">\n",
       "  <thead>\n",
       "    <tr style=\"text-align: right;\">\n",
       "      <th></th>\n",
       "      <th>PatientId</th>\n",
       "      <th>AppointmentID</th>\n",
       "      <th>Age</th>\n",
       "      <th>Scholarship</th>\n",
       "      <th>Hipertension</th>\n",
       "      <th>Diabetes</th>\n",
       "      <th>Alcoholism</th>\n",
       "      <th>Handcap</th>\n",
       "      <th>SMS_received</th>\n",
       "    </tr>\n",
       "  </thead>\n",
       "  <tbody>\n",
       "    <tr>\n",
       "      <th>count</th>\n",
       "      <td>1.105270e+05</td>\n",
       "      <td>1.105270e+05</td>\n",
       "      <td>110527.000000</td>\n",
       "      <td>110527.000000</td>\n",
       "      <td>110527.000000</td>\n",
       "      <td>110527.000000</td>\n",
       "      <td>110527.000000</td>\n",
       "      <td>110527.000000</td>\n",
       "      <td>110527.000000</td>\n",
       "    </tr>\n",
       "    <tr>\n",
       "      <th>mean</th>\n",
       "      <td>1.474963e+14</td>\n",
       "      <td>5.675305e+06</td>\n",
       "      <td>37.088874</td>\n",
       "      <td>0.098266</td>\n",
       "      <td>0.197246</td>\n",
       "      <td>0.071865</td>\n",
       "      <td>0.030400</td>\n",
       "      <td>0.022248</td>\n",
       "      <td>0.321026</td>\n",
       "    </tr>\n",
       "    <tr>\n",
       "      <th>std</th>\n",
       "      <td>2.560949e+14</td>\n",
       "      <td>7.129575e+04</td>\n",
       "      <td>23.110205</td>\n",
       "      <td>0.297675</td>\n",
       "      <td>0.397921</td>\n",
       "      <td>0.258265</td>\n",
       "      <td>0.171686</td>\n",
       "      <td>0.161543</td>\n",
       "      <td>0.466873</td>\n",
       "    </tr>\n",
       "    <tr>\n",
       "      <th>min</th>\n",
       "      <td>3.921784e+04</td>\n",
       "      <td>5.030230e+06</td>\n",
       "      <td>-1.000000</td>\n",
       "      <td>0.000000</td>\n",
       "      <td>0.000000</td>\n",
       "      <td>0.000000</td>\n",
       "      <td>0.000000</td>\n",
       "      <td>0.000000</td>\n",
       "      <td>0.000000</td>\n",
       "    </tr>\n",
       "    <tr>\n",
       "      <th>25%</th>\n",
       "      <td>4.172614e+12</td>\n",
       "      <td>5.640286e+06</td>\n",
       "      <td>18.000000</td>\n",
       "      <td>0.000000</td>\n",
       "      <td>0.000000</td>\n",
       "      <td>0.000000</td>\n",
       "      <td>0.000000</td>\n",
       "      <td>0.000000</td>\n",
       "      <td>0.000000</td>\n",
       "    </tr>\n",
       "    <tr>\n",
       "      <th>50%</th>\n",
       "      <td>3.173184e+13</td>\n",
       "      <td>5.680573e+06</td>\n",
       "      <td>37.000000</td>\n",
       "      <td>0.000000</td>\n",
       "      <td>0.000000</td>\n",
       "      <td>0.000000</td>\n",
       "      <td>0.000000</td>\n",
       "      <td>0.000000</td>\n",
       "      <td>0.000000</td>\n",
       "    </tr>\n",
       "    <tr>\n",
       "      <th>75%</th>\n",
       "      <td>9.439172e+13</td>\n",
       "      <td>5.725524e+06</td>\n",
       "      <td>55.000000</td>\n",
       "      <td>0.000000</td>\n",
       "      <td>0.000000</td>\n",
       "      <td>0.000000</td>\n",
       "      <td>0.000000</td>\n",
       "      <td>0.000000</td>\n",
       "      <td>1.000000</td>\n",
       "    </tr>\n",
       "    <tr>\n",
       "      <th>max</th>\n",
       "      <td>9.999816e+14</td>\n",
       "      <td>5.790484e+06</td>\n",
       "      <td>115.000000</td>\n",
       "      <td>1.000000</td>\n",
       "      <td>1.000000</td>\n",
       "      <td>1.000000</td>\n",
       "      <td>1.000000</td>\n",
       "      <td>4.000000</td>\n",
       "      <td>1.000000</td>\n",
       "    </tr>\n",
       "  </tbody>\n",
       "</table>\n",
       "</div>"
      ],
      "text/plain": [
       "          PatientId  AppointmentID            Age    Scholarship  \\\n",
       "count  1.105270e+05   1.105270e+05  110527.000000  110527.000000   \n",
       "mean   1.474963e+14   5.675305e+06      37.088874       0.098266   \n",
       "std    2.560949e+14   7.129575e+04      23.110205       0.297675   \n",
       "min    3.921784e+04   5.030230e+06      -1.000000       0.000000   \n",
       "25%    4.172614e+12   5.640286e+06      18.000000       0.000000   \n",
       "50%    3.173184e+13   5.680573e+06      37.000000       0.000000   \n",
       "75%    9.439172e+13   5.725524e+06      55.000000       0.000000   \n",
       "max    9.999816e+14   5.790484e+06     115.000000       1.000000   \n",
       "\n",
       "        Hipertension       Diabetes     Alcoholism        Handcap  \\\n",
       "count  110527.000000  110527.000000  110527.000000  110527.000000   \n",
       "mean        0.197246       0.071865       0.030400       0.022248   \n",
       "std         0.397921       0.258265       0.171686       0.161543   \n",
       "min         0.000000       0.000000       0.000000       0.000000   \n",
       "25%         0.000000       0.000000       0.000000       0.000000   \n",
       "50%         0.000000       0.000000       0.000000       0.000000   \n",
       "75%         0.000000       0.000000       0.000000       0.000000   \n",
       "max         1.000000       1.000000       1.000000       4.000000   \n",
       "\n",
       "        SMS_received  \n",
       "count  110527.000000  \n",
       "mean        0.321026  \n",
       "std         0.466873  \n",
       "min         0.000000  \n",
       "25%         0.000000  \n",
       "50%         0.000000  \n",
       "75%         1.000000  \n",
       "max         1.000000  "
      ]
     },
     "execution_count": 15,
     "metadata": {},
     "output_type": "execute_result"
    }
   ],
   "source": [
    "# Descripción de los datos  \n",
    "archivo.describe()\n",
    "\n",
    "\n",
    "\n"
   ]
  },
  {
   "cell_type": "markdown",
   "id": "7d7c0ef7",
   "metadata": {},
   "source": [
    "\n",
    "Observación General\n",
    "\n",
    "Los datos provienen de 110,527 registros, lo que indica una muestra muy grande y representativa. El análisis se concentra en variables demográficas (Age), sociales (Scholarship), clínicas (Hipertension, Diabetes, Alcoholism, Handcap), y operativas (SMS_received). El objetivo parece ser analizar factores que influyen en la inasistencia a citas, variable resumida en No-show\n",
    "\n",
    "Puntos clave de las variables\n",
    "\n",
    "Age (edad):\n",
    "\n",
    "Media de 37 años, rango amplio (-1 a 115), y desviación estándar alta, signo de heterogeneidad en la muestra. El valor mínimo negativo sugiere presencia de algún error de registro.​\n",
    "\n",
    "Scholarship (beca social):\n",
    "\n",
    "El 9.8% tiene cobertura de beca social, mientras que la mayoría no la tiene. Esta variable es binaria (0 y 1).​\n",
    "\n",
    "Hipertension, Diabetes, Alcoholism, Handcap:\n",
    "\n",
    "La mayoría de pacientes no presenta estas condiciones (media baja), pero existen algunos con valores altos y, en el caso de Handcap, hasta 4, lo que indica niveles.​\n",
    "\n",
    "SMS_received:\n",
    "\n",
    "Un 32% de los pacientes recibe un SMS recordatorio, lo que puede relacionarse con la asistencia a la cita.​\n",
    "\n",
    "Variables operacionales\n",
    "\n",
    "No-show:\n",
    "\n",
    "El 20.2% de las citas no son atendidas por los pacientes (No = 88,208, Yes = 22,319), lo que representa una tasa de inasistencia significativa que puede afectar la eficiencia del sistema de salud.​\n",
    "\n",
    "Observaciones adicionales\n",
    "\n",
    "Hay evidencia de calidad de datos deficiente en la variable Age (valores negativos), lo que podría indicar errores de captura que deben corregirse antes de cualquier análisis estadístico avanzado.​\n",
    "\n",
    "El bajo promedio en variables de condiciones médicas sugiere que la población es, en general, bastante saludable, aunque sí existen casos notables.​\n",
    "\n",
    "El análisis de inasistencia (No-show) será relevante para identificar patrones y posibles predictores, sobre todo considerando factores sociales, recordatorios y condiciones médicas.​"
   ]
  },
  {
   "cell_type": "markdown",
   "id": "6ce75d93",
   "metadata": {},
   "source": [
    "REVISION DE VALORES AUSENTES"
   ]
  },
  {
   "cell_type": "code",
   "execution_count": 16,
   "id": "d9b5b246",
   "metadata": {},
   "outputs": [
    {
     "data": {
      "application/vnd.microsoft.datawrangler.viewer.v0+json": {
       "columns": [
        {
         "name": "index",
         "rawType": "object",
         "type": "string"
        },
        {
         "name": "0",
         "rawType": "float64",
         "type": "float"
        }
       ],
       "ref": "474a9a3e-c9f4-47ad-8890-8653075a9aed",
       "rows": [
        [
         "PatientId",
         "0.0"
        ],
        [
         "AppointmentID",
         "0.0"
        ],
        [
         "Gender",
         "0.0"
        ],
        [
         "ScheduledDay",
         "0.0"
        ],
        [
         "AppointmentDay",
         "0.0"
        ],
        [
         "Age",
         "0.0"
        ],
        [
         "Neighbourhood",
         "0.0"
        ],
        [
         "Scholarship",
         "0.0"
        ],
        [
         "Hipertension",
         "0.0"
        ],
        [
         "Diabetes",
         "0.0"
        ],
        [
         "Alcoholism",
         "0.0"
        ],
        [
         "Handcap",
         "0.0"
        ],
        [
         "SMS_received",
         "0.0"
        ],
        [
         "No-show",
         "0.0"
        ]
       ],
       "shape": {
        "columns": 1,
        "rows": 14
       }
      },
      "text/plain": [
       "PatientId         0.0\n",
       "AppointmentID     0.0\n",
       "Gender            0.0\n",
       "ScheduledDay      0.0\n",
       "AppointmentDay    0.0\n",
       "Age               0.0\n",
       "Neighbourhood     0.0\n",
       "Scholarship       0.0\n",
       "Hipertension      0.0\n",
       "Diabetes          0.0\n",
       "Alcoholism        0.0\n",
       "Handcap           0.0\n",
       "SMS_received      0.0\n",
       "No-show           0.0\n",
       "dtype: float64"
      ]
     },
     "execution_count": 16,
     "metadata": {},
     "output_type": "execute_result"
    }
   ],
   "source": [
    "# Conteo total de valores faltantes por variablearchivo\n",
    "archivo.isnull().sum() # Suma los valores 'True=1' (celda NaN)\n",
    "\n",
    "# Porcentaje de valores faltantes por variable\n",
    "(archivo.isnull().mean() * 100).round(2) # Dado que solo hay valores 'True=1' y 'False=0' el promedio sería equivalente a una proporción"
   ]
  },
  {
   "cell_type": "markdown",
   "id": "b7b92807",
   "metadata": {},
   "source": [
    "no se encuentran valores ausentes o nulos"
   ]
  },
  {
   "cell_type": "markdown",
   "id": "5c744e13",
   "metadata": {},
   "source": [
    "TABLAS Y GRAFICAS"
   ]
  },
  {
   "cell_type": "code",
   "execution_count": 17,
   "id": "6ca2548a",
   "metadata": {},
   "outputs": [
    {
     "data": {
      "image/png": "[encoded data removed]",
      "text/plain": [
       "<Figure size 1000x600 with 1 Axes>"
      ]
     },
     "metadata": {},
     "output_type": "display_data"
    },
    {
     "data": {
      "image/png": "[encoded data removed]",
      "text/plain": [
       "<Figure size 1500x700 with 1 Axes>"
      ]
     },
     "metadata": {},
     "output_type": "display_data"
    }
   ],
   "source": [
    "# 1. Gráfico de barras de distribución de edad\n",
    "plt.figure(figsize=(10,6))\n",
    "sns.histplot(archivo['Age'], bins=20, kde=False)\n",
    "plt.title('Distribución de Edades')\n",
    "plt.xlabel('Edad')\n",
    "plt.ylabel('Cantidad de Pacientes')\n",
    "plt.tight_layout()\n",
    "plt.show()\n",
    "\n",
    "# 2. Gráfico de barras de enfermedades por edad\n",
    "# Agrupar por edad y sumar casos de cada enfermedad\n",
    "edad_enfermedades = archivo.groupby('Age')[['Hipertension', 'Diabetes', 'Alcoholism']].sum().reset_index()\n",
    "\n",
    "plt.figure(figsize=(15,7))\n",
    "width = 0.25\n",
    "x = edad_enfermedades['Age']\n",
    "\n",
    "plt.bar(x - width, edad_enfermedades['Hipertension'], width=width, label='Hipertensión', alpha=0.7)\n",
    "plt.bar(x, edad_enfermedades['Diabetes'], width=width, label='Diabetes', alpha=0.7)\n",
    "plt.bar(x + width, edad_enfermedades['Alcoholism'], width=width, label='Alcoholismo', alpha=0.7)\n",
    "\n",
    "plt.title('Casos de Enfermedades por Edad')\n",
    "plt.xlabel('Edad')\n",
    "plt.ylabel('Cantidad de Casos')\n",
    "plt.legend()\n",
    "plt.tight_layout()\n",
    "plt.show()\n"
   ]
  },
  {
   "cell_type": "code",
   "execution_count": 18,
   "id": "5fdf90d3",
   "metadata": {},
   "outputs": [
    {
     "name": "stdout",
     "output_type": "stream",
     "text": [
      "       Condicion  Presencia Gender      Edadm\n",
      "0   Hipertension          0      F  33.030283\n",
      "1   Hipertension          0      M  28.289868\n",
      "2   Hipertension          1      F  60.492861\n",
      "3   Hipertension          1      M  60.900186\n",
      "4       Diabetes          0      F  36.988450\n",
      "5       Diabetes          0      M  31.965530\n",
      "6       Diabetes          1      F  61.407599\n",
      "7       Diabetes          1      M  61.288404\n",
      "8     Alcoholism          0      F  38.782857\n",
      "9     Alcoholism          0      M  32.666430\n",
      "10    Alcoholism          1      F  45.310711\n",
      "11    Alcoholism          1      M  52.044923\n"
     ]
    },
    {
     "name": "stderr",
     "output_type": "stream",
     "text": [
      "C:\\Users\\paula\\AppData\\Local\\Temp\\ipykernel_126896\\1158918113.py:17: FutureWarning: \n",
      "\n",
      "The `ci` parameter is deprecated. Use `errorbar=None` for the same effect.\n",
      "\n",
      "  sns.barplot(x='Condicion', y='Edadm', hue='Gender', data=resumen_df, ci=None)\n"
     ]
    },
    {
     "data": {
      "image/png": "[encoded data removed]",
      "text/plain": [
       "<Figure size 1000x600 with 1 Axes>"
      ]
     },
     "metadata": {},
     "output_type": "display_data"
    }
   ],
   "source": [
    "\n",
    "\n",
    "cond_cols = ['Hipertension', 'Diabetes', 'Alcoholism']\n",
    "resumen = []\n",
    "\n",
    "for cond in cond_cols:\n",
    "    tabla = (\n",
    "        archivo.groupby([cond, 'Gender'])\n",
    "        .agg(Edadm=('Age','mean'))\n",
    "        .reset_index()\n",
    "    )\n",
    "    tabla['Condicion'] = cond\n",
    "    tabla.rename(columns={cond: 'Presencia'}, inplace=True)\n",
    "    resumen.append(tabla[['Condicion', 'Presencia', 'Gender', 'Edadm']])\n",
    "resumen_df = pd.concat(resumen, ignore_index=True)  \n",
    "print(resumen_df)\n",
    "# Visualización\n",
    "plt.figure(figsize=(10,6))\n",
    "sns.barplot(x='Condicion', y='Edadm', hue='Gender', data=resumen_df, ci=None)\n",
    "plt.title(\"Edad promedio según género y condiciones crónicas\")\n",
    "plt.xlabel(\"Condición\")\n",
    "plt.ylabel(\"Edad promedio\")\n",
    "plt.show()      \n",
    "\n",
    "\n",
    "\n",
    "\n",
    "\n",
    "\n"
   ]
  },
  {
   "cell_type": "markdown",
   "id": "7b7c17b8",
   "metadata": {},
   "source": [
    "### Observaciones:\n",
    "\n",
    "1. Los pacientes con condiciones médicas crónicas (hipertensión y diabetes) son los mas responsables con sus citas.\n",
    "\n",
    "2. El alcoholismo se asocia con mayor tasa de No-Show.\n",
    "\n",
    "Lad condiciones médicas son variables importantes para el modelo de predicción, especialmente la hipertensión que muestra la mayor diferencia."
   ]
  },
  {
   "cell_type": "markdown",
   "id": "fe82d42f",
   "metadata": {},
   "source": [
    "Feature Engineering"
   ]
  },
  {
   "cell_type": "code",
   "execution_count": 19,
   "id": "8c26882e",
   "metadata": {},
   "outputs": [],
   "source": [
    "from sklearn.model_selection import train_test_split\n",
    "from sklearn.impute import SimpleImputer\n",
    "from sklearn.preprocessing import StandardScaler, OneHotEncoder, OrdinalEncoder\n",
    "from sklearn.pipeline import Pipeline\n",
    "from sklearn.compose import ColumnTransformer"
   ]
  },
  {
   "cell_type": "code",
   "execution_count": 20,
   "id": "318a45ba",
   "metadata": {},
   "outputs": [
    {
     "data": {
      "application/vnd.plotly.v1+json": {
       "config": {
        "plotlyServerURL": "https://plot.ly"
       },
       "data": [
        {
         "hovertemplate": "No-Show=%{x}<br>Cantidad=%{y}<extra></extra>",
         "legendgroup": "",
         "marker": {
          "color": "#636efa",
          "pattern": {
           "shape": ""
          }
         },
         "name": "",
         "orientation": "v",
         "showlegend": false,
         "textposition": "auto",
         "type": "bar",
         "x": [
          "No",
          "Yes"
         ],
         "xaxis": "x",
         "y": {
          "bdata": "kFgBAC9XAAA=",
          "dtype": "i4"
         },
         "yaxis": "y"
        }
       ],
       "layout": {
        "barmode": "relative",
        "legend": {
         "tracegroupgap": 0
        },
        "template": {
         "data": {
          "bar": [
           {
            "error_x": {
             "color": "#2a3f5f"
            },
            "error_y": {
             "color": "#2a3f5f"
            },
            "marker": {
             "line": {
              "color": "#E5ECF6",
              "width": 0.5
             },
             "pattern": {
              "fillmode": "overlay",
              "size": 10,
              "solidity": 0.2
             }
            },
            "type": "bar"
           }
          ],
          "barpolar": [
           {
            "marker": {
             "line": {
              "color": "#E5ECF6",
              "width": 0.5
             },
             "pattern": {
              "fillmode": "overlay",
              "size": 10,
              "solidity": 0.2
             }
            },
            "type": "barpolar"
           }
          ],
          "carpet": [
           {
            "aaxis": {
             "endlinecolor": "#2a3f5f",
             "gridcolor": "white",
             "linecolor": "white",
             "minorgridcolor": "white",
             "startlinecolor": "#2a3f5f"
            },
            "baxis": {
             "endlinecolor": "#2a3f5f",
             "gridcolor": "white",
             "linecolor": "white",
             "minorgridcolor": "white",
             "startlinecolor": "#2a3f5f"
            },
            "type": "carpet"
           }
          ],
          "choropleth": [
           {
            "colorbar": {
             "outlinewidth": 0,
             "ticks": ""
            },
            "type": "choropleth"
           }
          ],
          "contour": [
           {
            "colorbar": {
             "outlinewidth": 0,
             "ticks": ""
            },
            "colorscale": [
             [
              0,
              "#0d0887"
             ],
             [
              0.1111111111111111,
              "#46039f"
             ],
             [
              0.2222222222222222,
              "#7201a8"
             ],
             [
              0.3333333333333333,
              "#9c179e"
             ],
             [
              0.4444444444444444,
              "#bd3786"
             ],
             [
              0.5555555555555556,
              "#d8576b"
             ],
             [
              0.6666666666666666,
              "#ed7953"
             ],
             [
              0.7777777777777778,
              "#fb9f3a"
             ],
             [
              0.8888888888888888,
              "#fdca26"
             ],
             [
              1,
              "#f0f921"
             ]
            ],
            "type": "contour"
           }
          ],
          "contourcarpet": [
           {
            "colorbar": {
             "outlinewidth": 0,
             "ticks": ""
            },
            "type": "contourcarpet"
           }
          ],
          "heatmap": [
           {
            "colorbar": {
             "outlinewidth": 0,
             "ticks": ""
            },
            "colorscale": [
             [
              0,
              "#0d0887"
             ],
             [
              0.1111111111111111,
              "#46039f"
             ],
             [
              0.2222222222222222,
              "#7201a8"
             ],
             [
              0.3333333333333333,
              "#9c179e"
             ],
             [
              0.4444444444444444,
              "#bd3786"
             ],
             [
              0.5555555555555556,
              "#d8576b"
             ],
             [
              0.6666666666666666,
              "#ed7953"
             ],
             [
              0.7777777777777778,
              "#fb9f3a"
             ],
             [
              0.8888888888888888,
              "#fdca26"
             ],
             [
              1,
              "#f0f921"
             ]
            ],
            "type": "heatmap"
           }
          ],
          "histogram": [
           {
            "marker": {
             "pattern": {
              "fillmode": "overlay",
              "size": 10,
              "solidity": 0.2
             }
            },
            "type": "histogram"
           }
          ],
          "histogram2d": [
           {
            "colorbar": {
             "outlinewidth": 0,
             "ticks": ""
            },
            "colorscale": [
             [
              0,
              "#0d0887"
             ],
             [
              0.1111111111111111,
              "#46039f"
             ],
             [
              0.2222222222222222,
              "#7201a8"
             ],
             [
              0.3333333333333333,
              "#9c179e"
             ],
             [
              0.4444444444444444,
              "#bd3786"
             ],
             [
              0.5555555555555556,
              "#d8576b"
             ],
             [
              0.6666666666666666,
              "#ed7953"
             ],
             [
              0.7777777777777778,
              "#fb9f3a"
             ],
             [
              0.8888888888888888,
              "#fdca26"
             ],
             [
              1,
              "#f0f921"
             ]
            ],
            "type": "histogram2d"
           }
          ],
          "histogram2dcontour": [
           {
            "colorbar": {
             "outlinewidth": 0,
             "ticks": ""
            },
            "colorscale": [
             [
              0,
              "#0d0887"
             ],
             [
              0.1111111111111111,
              "#46039f"
             ],
             [
              0.2222222222222222,
              "#7201a8"
             ],
             [
              0.3333333333333333,
              "#9c179e"
             ],
             [
              0.4444444444444444,
              "#bd3786"
             ],
             [
              0.5555555555555556,
              "#d8576b"
             ],
             [
              0.6666666666666666,
              "#ed7953"
             ],
             [
              0.7777777777777778,
              "#fb9f3a"
             ],
             [
              0.8888888888888888,
              "#fdca26"
             ],
             [
              1,
              "#f0f921"
             ]
            ],
            "type": "histogram2dcontour"
           }
          ],
          "mesh3d": [
           {
            "colorbar": {
             "outlinewidth": 0,
             "ticks": ""
            },
            "type": "mesh3d"
           }
          ],
          "parcoords": [
           {
            "line": {
             "colorbar": {
              "outlinewidth": 0,
              "ticks": ""
             }
            },
            "type": "parcoords"
           }
          ],
          "pie": [
           {
            "automargin": true,
            "type": "pie"
           }
          ],
          "scatter": [
           {
            "fillpattern": {
             "fillmode": "overlay",
             "size": 10,
             "solidity": 0.2
            },
            "type": "scatter"
           }
          ],
          "scatter3d": [
           {
            "line": {
             "colorbar": {
              "outlinewidth": 0,
              "ticks": ""
             }
            },
            "marker": {
             "colorbar": {
              "outlinewidth": 0,
              "ticks": ""
             }
            },
            "type": "scatter3d"
           }
          ],
          "scattercarpet": [
           {
            "marker": {
             "colorbar": {
              "outlinewidth": 0,
              "ticks": ""
             }
            },
            "type": "scattercarpet"
           }
          ],
          "scattergeo": [
           {
            "marker": {
             "colorbar": {
              "outlinewidth": 0,
              "ticks": ""
             }
            },
            "type": "scattergeo"
           }
          ],
          "scattergl": [
           {
            "marker": {
             "colorbar": {
              "outlinewidth": 0,
              "ticks": ""
             }
            },
            "type": "scattergl"
           }
          ],
          "scattermap": [
           {
            "marker": {
             "colorbar": {
              "outlinewidth": 0,
              "ticks": ""
             }
            },
            "type": "scattermap"
           }
          ],
          "scattermapbox": [
           {
            "marker": {
             "colorbar": {
              "outlinewidth": 0,
              "ticks": ""
             }
            },
            "type": "scattermapbox"
           }
          ],
          "scatterpolar": [
           {
            "marker": {
             "colorbar": {
              "outlinewidth": 0,
              "ticks": ""
             }
            },
            "type": "scatterpolar"
           }
          ],
          "scatterpolargl": [
           {
            "marker": {
             "colorbar": {
              "outlinewidth": 0,
              "ticks": ""
             }
            },
            "type": "scatterpolargl"
           }
          ],
          "scatterternary": [
           {
            "marker": {
             "colorbar": {
              "outlinewidth": 0,
              "ticks": ""
             }
            },
            "type": "scatterternary"
           }
          ],
          "surface": [
           {
            "colorbar": {
             "outlinewidth": 0,
             "ticks": ""
            },
            "colorscale": [
             [
              0,
              "#0d0887"
             ],
             [
              0.1111111111111111,
              "#46039f"
             ],
             [
              0.2222222222222222,
              "#7201a8"
             ],
             [
              0.3333333333333333,
              "#9c179e"
             ],
             [
              0.4444444444444444,
              "#bd3786"
             ],
             [
              0.5555555555555556,
              "#d8576b"
             ],
             [
              0.6666666666666666,
              "#ed7953"
             ],
             [
              0.7777777777777778,
              "#fb9f3a"
             ],
             [
              0.8888888888888888,
              "#fdca26"
             ],
             [
              1,
              "#f0f921"
             ]
            ],
            "type": "surface"
           }
          ],
          "table": [
           {
            "cells": {
             "fill": {
              "color": "#EBF0F8"
             },
             "line": {
              "color": "white"
             }
            },
            "header": {
             "fill": {
              "color": "#C8D4E3"
             },
             "line": {
              "color": "white"
             }
            },
            "type": "table"
           }
          ]
         },
         "layout": {
          "annotationdefaults": {
           "arrowcolor": "#2a3f5f",
           "arrowhead": 0,
           "arrowwidth": 1
          },
          "autotypenumbers": "strict",
          "coloraxis": {
           "colorbar": {
            "outlinewidth": 0,
            "ticks": ""
           }
          },
          "colorscale": {
           "diverging": [
            [
             0,
             "#8e0152"
            ],
            [
             0.1,
             "#c51b7d"
            ],
            [
             0.2,
             "#de77ae"
            ],
            [
             0.3,
             "#f1b6da"
            ],
            [
             0.4,
             "#fde0ef"
            ],
            [
             0.5,
             "#f7f7f7"
            ],
            [
             0.6,
             "#e6f5d0"
            ],
            [
             0.7,
             "#b8e186"
            ],
            [
             0.8,
             "#7fbc41"
            ],
            [
             0.9,
             "#4d9221"
            ],
            [
             1,
             "#276419"
            ]
           ],
           "sequential": [
            [
             0,
             "#0d0887"
            ],
            [
             0.1111111111111111,
             "#46039f"
            ],
            [
             0.2222222222222222,
             "#7201a8"
            ],
            [
             0.3333333333333333,
             "#9c179e"
            ],
            [
             0.4444444444444444,
             "#bd3786"
            ],
            [
             0.5555555555555556,
             "#d8576b"
            ],
            [
             0.6666666666666666,
             "#ed7953"
            ],
            [
             0.7777777777777778,
             "#fb9f3a"
            ],
            [
             0.8888888888888888,
             "#fdca26"
            ],
            [
             1,
             "#f0f921"
            ]
           ],
           "sequentialminus": [
            [
             0,
             "#0d0887"
            ],
            [
             0.1111111111111111,
             "#46039f"
            ],
            [
             0.2222222222222222,
             "#7201a8"
            ],
            [
             0.3333333333333333,
             "#9c179e"
            ],
            [
             0.4444444444444444,
             "#bd3786"
            ],
            [
             0.5555555555555556,
             "#d8576b"
            ],
            [
             0.6666666666666666,
             "#ed7953"
            ],
            [
             0.7777777777777778,
             "#fb9f3a"
            ],
            [
             0.8888888888888888,
             "#fdca26"
            ],
            [
             1,
             "#f0f921"
            ]
           ]
          },
          "colorway": [
           "#636efa",
           "#EF553B",
           "#00cc96",
           "#ab63fa",
           "#FFA15A",
           "#19d3f3",
           "#FF6692",
           "#B6E880",
           "#FF97FF",
           "#FECB52"
          ],
          "font": {
           "color": "#2a3f5f"
          },
          "geo": {
           "bgcolor": "white",
           "lakecolor": "white",
           "landcolor": "#E5ECF6",
           "showlakes": true,
           "showland": true,
           "subunitcolor": "white"
          },
          "hoverlabel": {
           "align": "left"
          },
          "hovermode": "closest",
          "mapbox": {
           "style": "light"
          },
          "paper_bgcolor": "white",
          "plot_bgcolor": "#E5ECF6",
          "polar": {
           "angularaxis": {
            "gridcolor": "white",
            "linecolor": "white",
            "ticks": ""
           },
           "bgcolor": "#E5ECF6",
           "radialaxis": {
            "gridcolor": "white",
            "linecolor": "white",
            "ticks": ""
           }
          },
          "scene": {
           "xaxis": {
            "backgroundcolor": "#E5ECF6",
            "gridcolor": "white",
            "gridwidth": 2,
            "linecolor": "white",
            "showbackground": true,
            "ticks": "",
            "zerolinecolor": "white"
           },
           "yaxis": {
            "backgroundcolor": "#E5ECF6",
            "gridcolor": "white",
            "gridwidth": 2,
            "linecolor": "white",
            "showbackground": true,
            "ticks": "",
            "zerolinecolor": "white"
           },
           "zaxis": {
            "backgroundcolor": "#E5ECF6",
            "gridcolor": "white",
            "gridwidth": 2,
            "linecolor": "white",
            "showbackground": true,
            "ticks": "",
            "zerolinecolor": "white"
           }
          },
          "shapedefaults": {
           "line": {
            "color": "#2a3f5f"
           }
          },
          "ternary": {
           "aaxis": {
            "gridcolor": "white",
            "linecolor": "white",
            "ticks": ""
           },
           "baxis": {
            "gridcolor": "white",
            "linecolor": "white",
            "ticks": ""
           },
           "bgcolor": "#E5ECF6",
           "caxis": {
            "gridcolor": "white",
            "linecolor": "white",
            "ticks": ""
           }
          },
          "title": {
           "x": 0.05
          },
          "xaxis": {
           "automargin": true,
           "gridcolor": "white",
           "linecolor": "white",
           "ticks": "",
           "title": {
            "standoff": 15
           },
           "zerolinecolor": "white",
           "zerolinewidth": 2
          },
          "yaxis": {
           "automargin": true,
           "gridcolor": "white",
           "linecolor": "white",
           "ticks": "",
           "title": {
            "standoff": 15
           },
           "zerolinecolor": "white",
           "zerolinewidth": 2
          }
         }
        },
        "title": {
         "text": "Distribución de No-Show"
        },
        "xaxis": {
         "anchor": "y",
         "domain": [
          0,
          1
         ],
         "title": {
          "text": "No-Show"
         }
        },
        "yaxis": {
         "anchor": "x",
         "domain": [
          0,
          1
         ],
         "title": {
          "text": "Cantidad"
         }
        }
       }
      }
     },
     "metadata": {},
     "output_type": "display_data"
    },
    {
     "name": "stdout",
     "output_type": "stream",
     "text": [
      "Porcentaje de No-Show:\n",
      "No-show\n",
      "No     0.798067\n",
      "Yes    0.201933\n",
      "Name: proportion, dtype: float64\n"
     ]
    }
   ],
   "source": [
    "# Distribución de No-Show\n",
    "import plotly.express as px\n",
    "target_counts = archivo['No-show'].value_counts()\n",
    "fig = px.bar(x=target_counts.index, y=target_counts.values, title=\"Distribución de No-Show\", labels={'x': 'No-Show', 'y': 'Cantidad'})\n",
    "fig.show()\n",
    "print(\"Porcentaje de No-Show:\")\n",
    "print(archivo['No-show'].value_counts(normalize=True))"
   ]
  },
  {
   "cell_type": "markdown",
   "id": "2d10ffe3",
   "metadata": {},
   "source": [
    "## Interpretación de la distribución de No-Show\n",
    "\n",
    "La gráfica anterior muestra la distribución de la variable objetivo de nuestro proyecto:\n",
    "\n",
    "**Pacientes que si asistieron (No)**: Aproximadamente 88,000 pacientes cumplieron con su cita médica programada.\n",
    "\n",
    "**Pacientes que no asistieron (Yes)**: Aproximadamente 22,000 pacientes no se presentaron a su cita (No-Show)."
   ]
  },
  {
   "cell_type": "code",
   "execution_count": 21,
   "id": "023f303b",
   "metadata": {},
   "outputs": [
    {
     "data": {
      "application/vnd.plotly.v1+json": {
       "config": {
        "plotlyServerURL": "https://plot.ly"
       },
       "data": [
        {
         "hovertemplate": "No-show=No<br>Age_Group=%{x}<br>Proporción=%{y}<extra></extra>",
         "legendgroup": "No",
         "marker": {
          "color": "#636efa",
          "pattern": {
           "shape": ""
          }
         },
         "name": "No",
         "orientation": "v",
         "showlegend": true,
         "textposition": "auto",
         "type": "bar",
         "x": [
          "0-18",
          "19-30",
          "31-50",
          "51-65",
          "65+"
         ],
         "xaxis": "x",
         "y": {
          "bdata": "0YKuYcDJ6D8YbA2lkxfoP3jQ4lDlX+k/9+5fc0u06j9nm2savgjrPw==",
          "dtype": "f8"
         },
         "yaxis": "y"
        },
        {
         "hovertemplate": "No-show=Yes<br>Age_Group=%{x}<br>Proporción=%{y}<extra></extra>",
         "legendgroup": "Yes",
         "marker": {
          "color": "#EF553B",
          "pattern": {
           "shape": ""
          }
         },
         "name": "Yes",
         "orientation": "v",
         "showlegend": true,
         "textposition": "auto",
         "type": "bar",
         "x": [
          "0-18",
          "19-30",
          "31-50",
          "51-65",
          "65+"
         ],
         "xaxis": "x",
         "y": {
          "bdata": "vfRFef7YzD+eT8prsaHPPyC+dLxqgMo/I0SAMtIuxT9kklGWB93DPw==",
          "dtype": "f8"
         },
         "yaxis": "y"
        }
       ],
       "layout": {
        "barmode": "relative",
        "legend": {
         "title": {
          "text": "No-show"
         },
         "tracegroupgap": 0
        },
        "template": {
         "data": {
          "bar": [
           {
            "error_x": {
             "color": "#2a3f5f"
            },
            "error_y": {
             "color": "#2a3f5f"
            },
            "marker": {
             "line": {
              "color": "#E5ECF6",
              "width": 0.5
             },
             "pattern": {
              "fillmode": "overlay",
              "size": 10,
              "solidity": 0.2
             }
            },
            "type": "bar"
           }
          ],
          "barpolar": [
           {
            "marker": {
             "line": {
              "color": "#E5ECF6",
              "width": 0.5
             },
             "pattern": {
              "fillmode": "overlay",
              "size": 10,
              "solidity": 0.2
             }
            },
            "type": "barpolar"
           }
          ],
          "carpet": [
           {
            "aaxis": {
             "endlinecolor": "#2a3f5f",
             "gridcolor": "white",
             "linecolor": "white",
             "minorgridcolor": "white",
             "startlinecolor": "#2a3f5f"
            },
            "baxis": {
             "endlinecolor": "#2a3f5f",
             "gridcolor": "white",
             "linecolor": "white",
             "minorgridcolor": "white",
             "startlinecolor": "#2a3f5f"
            },
            "type": "carpet"
           }
          ],
          "choropleth": [
           {
            "colorbar": {
             "outlinewidth": 0,
             "ticks": ""
            },
            "type": "choropleth"
           }
          ],
          "contour": [
           {
            "colorbar": {
             "outlinewidth": 0,
             "ticks": ""
            },
            "colorscale": [
             [
              0,
              "#0d0887"
             ],
             [
              0.1111111111111111,
              "#46039f"
             ],
             [
              0.2222222222222222,
              "#7201a8"
             ],
             [
              0.3333333333333333,
              "#9c179e"
             ],
             [
              0.4444444444444444,
              "#bd3786"
             ],
             [
              0.5555555555555556,
              "#d8576b"
             ],
             [
              0.6666666666666666,
              "#ed7953"
             ],
             [
              0.7777777777777778,
              "#fb9f3a"
             ],
             [
              0.8888888888888888,
              "#fdca26"
             ],
             [
              1,
              "#f0f921"
             ]
            ],
            "type": "contour"
           }
          ],
          "contourcarpet": [
           {
            "colorbar": {
             "outlinewidth": 0,
             "ticks": ""
            },
            "type": "contourcarpet"
           }
          ],
          "heatmap": [
           {
            "colorbar": {
             "outlinewidth": 0,
             "ticks": ""
            },
            "colorscale": [
             [
              0,
              "#0d0887"
             ],
             [
              0.1111111111111111,
              "#46039f"
             ],
             [
              0.2222222222222222,
              "#7201a8"
             ],
             [
              0.3333333333333333,
              "#9c179e"
             ],
             [
              0.4444444444444444,
              "#bd3786"
             ],
             [
              0.5555555555555556,
              "#d8576b"
             ],
             [
              0.6666666666666666,
              "#ed7953"
             ],
             [
              0.7777777777777778,
              "#fb9f3a"
             ],
             [
              0.8888888888888888,
              "#fdca26"
             ],
             [
              1,
              "#f0f921"
             ]
            ],
            "type": "heatmap"
           }
          ],
          "histogram": [
           {
            "marker": {
             "pattern": {
              "fillmode": "overlay",
              "size": 10,
              "solidity": 0.2
             }
            },
            "type": "histogram"
           }
          ],
          "histogram2d": [
           {
            "colorbar": {
             "outlinewidth": 0,
             "ticks": ""
            },
            "colorscale": [
             [
              0,
              "#0d0887"
             ],
             [
              0.1111111111111111,
              "#46039f"
             ],
             [
              0.2222222222222222,
              "#7201a8"
             ],
             [
              0.3333333333333333,
              "#9c179e"
             ],
             [
              0.4444444444444444,
              "#bd3786"
             ],
             [
              0.5555555555555556,
              "#d8576b"
             ],
             [
              0.6666666666666666,
              "#ed7953"
             ],
             [
              0.7777777777777778,
              "#fb9f3a"
             ],
             [
              0.8888888888888888,
              "#fdca26"
             ],
             [
              1,
              "#f0f921"
             ]
            ],
            "type": "histogram2d"
           }
          ],
          "histogram2dcontour": [
           {
            "colorbar": {
             "outlinewidth": 0,
             "ticks": ""
            },
            "colorscale": [
             [
              0,
              "#0d0887"
             ],
             [
              0.1111111111111111,
              "#46039f"
             ],
             [
              0.2222222222222222,
              "#7201a8"
             ],
             [
              0.3333333333333333,
              "#9c179e"
             ],
             [
              0.4444444444444444,
              "#bd3786"
             ],
             [
              0.5555555555555556,
              "#d8576b"
             ],
             [
              0.6666666666666666,
              "#ed7953"
             ],
             [
              0.7777777777777778,
              "#fb9f3a"
             ],
             [
              0.8888888888888888,
              "#fdca26"
             ],
             [
              1,
              "#f0f921"
             ]
            ],
            "type": "histogram2dcontour"
           }
          ],
          "mesh3d": [
           {
            "colorbar": {
             "outlinewidth": 0,
             "ticks": ""
            },
            "type": "mesh3d"
           }
          ],
          "parcoords": [
           {
            "line": {
             "colorbar": {
              "outlinewidth": 0,
              "ticks": ""
             }
            },
            "type": "parcoords"
           }
          ],
          "pie": [
           {
            "automargin": true,
            "type": "pie"
           }
          ],
          "scatter": [
           {
            "fillpattern": {
             "fillmode": "overlay",
             "size": 10,
             "solidity": 0.2
            },
            "type": "scatter"
           }
          ],
          "scatter3d": [
           {
            "line": {
             "colorbar": {
              "outlinewidth": 0,
              "ticks": ""
             }
            },
            "marker": {
             "colorbar": {
              "outlinewidth": 0,
              "ticks": ""
             }
            },
            "type": "scatter3d"
           }
          ],
          "scattercarpet": [
           {
            "marker": {
             "colorbar": {
              "outlinewidth": 0,
              "ticks": ""
             }
            },
            "type": "scattercarpet"
           }
          ],
          "scattergeo": [
           {
            "marker": {
             "colorbar": {
              "outlinewidth": 0,
              "ticks": ""
             }
            },
            "type": "scattergeo"
           }
          ],
          "scattergl": [
           {
            "marker": {
             "colorbar": {
              "outlinewidth": 0,
              "ticks": ""
             }
            },
            "type": "scattergl"
           }
          ],
          "scattermap": [
           {
            "marker": {
             "colorbar": {
              "outlinewidth": 0,
              "ticks": ""
             }
            },
            "type": "scattermap"
           }
          ],
          "scattermapbox": [
           {
            "marker": {
             "colorbar": {
              "outlinewidth": 0,
              "ticks": ""
             }
            },
            "type": "scattermapbox"
           }
          ],
          "scatterpolar": [
           {
            "marker": {
             "colorbar": {
              "outlinewidth": 0,
              "ticks": ""
             }
            },
            "type": "scatterpolar"
           }
          ],
          "scatterpolargl": [
           {
            "marker": {
             "colorbar": {
              "outlinewidth": 0,
              "ticks": ""
             }
            },
            "type": "scatterpolargl"
           }
          ],
          "scatterternary": [
           {
            "marker": {
             "colorbar": {
              "outlinewidth": 0,
              "ticks": ""
             }
            },
            "type": "scatterternary"
           }
          ],
          "surface": [
           {
            "colorbar": {
             "outlinewidth": 0,
             "ticks": ""
            },
            "colorscale": [
             [
              0,
              "#0d0887"
             ],
             [
              0.1111111111111111,
              "#46039f"
             ],
             [
              0.2222222222222222,
              "#7201a8"
             ],
             [
              0.3333333333333333,
              "#9c179e"
             ],
             [
              0.4444444444444444,
              "#bd3786"
             ],
             [
              0.5555555555555556,
              "#d8576b"
             ],
             [
              0.6666666666666666,
              "#ed7953"
             ],
             [
              0.7777777777777778,
              "#fb9f3a"
             ],
             [
              0.8888888888888888,
              "#fdca26"
             ],
             [
              1,
              "#f0f921"
             ]
            ],
            "type": "surface"
           }
          ],
          "table": [
           {
            "cells": {
             "fill": {
              "color": "#EBF0F8"
             },
             "line": {
              "color": "white"
             }
            },
            "header": {
             "fill": {
              "color": "#C8D4E3"
             },
             "line": {
              "color": "white"
             }
            },
            "type": "table"
           }
          ]
         },
         "layout": {
          "annotationdefaults": {
           "arrowcolor": "#2a3f5f",
           "arrowhead": 0,
           "arrowwidth": 1
          },
          "autotypenumbers": "strict",
          "coloraxis": {
           "colorbar": {
            "outlinewidth": 0,
            "ticks": ""
           }
          },
          "colorscale": {
           "diverging": [
            [
             0,
             "#8e0152"
            ],
            [
             0.1,
             "#c51b7d"
            ],
            [
             0.2,
             "#de77ae"
            ],
            [
             0.3,
             "#f1b6da"
            ],
            [
             0.4,
             "#fde0ef"
            ],
            [
             0.5,
             "#f7f7f7"
            ],
            [
             0.6,
             "#e6f5d0"
            ],
            [
             0.7,
             "#b8e186"
            ],
            [
             0.8,
             "#7fbc41"
            ],
            [
             0.9,
             "#4d9221"
            ],
            [
             1,
             "#276419"
            ]
           ],
           "sequential": [
            [
             0,
             "#0d0887"
            ],
            [
             0.1111111111111111,
             "#46039f"
            ],
            [
             0.2222222222222222,
             "#7201a8"
            ],
            [
             0.3333333333333333,
             "#9c179e"
            ],
            [
             0.4444444444444444,
             "#bd3786"
            ],
            [
             0.5555555555555556,
             "#d8576b"
            ],
            [
             0.6666666666666666,
             "#ed7953"
            ],
            [
             0.7777777777777778,
             "#fb9f3a"
            ],
            [
             0.8888888888888888,
             "#fdca26"
            ],
            [
             1,
             "#f0f921"
            ]
           ],
           "sequentialminus": [
            [
             0,
             "#0d0887"
            ],
            [
             0.1111111111111111,
             "#46039f"
            ],
            [
             0.2222222222222222,
             "#7201a8"
            ],
            [
             0.3333333333333333,
             "#9c179e"
            ],
            [
             0.4444444444444444,
             "#bd3786"
            ],
            [
             0.5555555555555556,
             "#d8576b"
            ],
            [
             0.6666666666666666,
             "#ed7953"
            ],
            [
             0.7777777777777778,
             "#fb9f3a"
            ],
            [
             0.8888888888888888,
             "#fdca26"
            ],
            [
             1,
             "#f0f921"
            ]
           ]
          },
          "colorway": [
           "#636efa",
           "#EF553B",
           "#00cc96",
           "#ab63fa",
           "#FFA15A",
           "#19d3f3",
           "#FF6692",
           "#B6E880",
           "#FF97FF",
           "#FECB52"
          ],
          "font": {
           "color": "#2a3f5f"
          },
          "geo": {
           "bgcolor": "white",
           "lakecolor": "white",
           "landcolor": "#E5ECF6",
           "showlakes": true,
           "showland": true,
           "subunitcolor": "white"
          },
          "hoverlabel": {
           "align": "left"
          },
          "hovermode": "closest",
          "mapbox": {
           "style": "light"
          },
          "paper_bgcolor": "white",
          "plot_bgcolor": "#E5ECF6",
          "polar": {
           "angularaxis": {
            "gridcolor": "white",
            "linecolor": "white",
            "ticks": ""
           },
           "bgcolor": "#E5ECF6",
           "radialaxis": {
            "gridcolor": "white",
            "linecolor": "white",
            "ticks": ""
           }
          },
          "scene": {
           "xaxis": {
            "backgroundcolor": "#E5ECF6",
            "gridcolor": "white",
            "gridwidth": 2,
            "linecolor": "white",
            "showbackground": true,
            "ticks": "",
            "zerolinecolor": "white"
           },
           "yaxis": {
            "backgroundcolor": "#E5ECF6",
            "gridcolor": "white",
            "gridwidth": 2,
            "linecolor": "white",
            "showbackground": true,
            "ticks": "",
            "zerolinecolor": "white"
           },
           "zaxis": {
            "backgroundcolor": "#E5ECF6",
            "gridcolor": "white",
            "gridwidth": 2,
            "linecolor": "white",
            "showbackground": true,
            "ticks": "",
            "zerolinecolor": "white"
           }
          },
          "shapedefaults": {
           "line": {
            "color": "#2a3f5f"
           }
          },
          "ternary": {
           "aaxis": {
            "gridcolor": "white",
            "linecolor": "white",
            "ticks": ""
           },
           "baxis": {
            "gridcolor": "white",
            "linecolor": "white",
            "ticks": ""
           },
           "bgcolor": "#E5ECF6",
           "caxis": {
            "gridcolor": "white",
            "linecolor": "white",
            "ticks": ""
           }
          },
          "title": {
           "x": 0.05
          },
          "xaxis": {
           "automargin": true,
           "gridcolor": "white",
           "linecolor": "white",
           "ticks": "",
           "title": {
            "standoff": 15
           },
           "zerolinecolor": "white",
           "zerolinewidth": 2
          },
          "yaxis": {
           "automargin": true,
           "gridcolor": "white",
           "linecolor": "white",
           "ticks": "",
           "title": {
            "standoff": 15
           },
           "zerolinecolor": "white",
           "zerolinewidth": 2
          }
         }
        },
        "title": {
         "text": "Tasa de No-Show por Grupo de edad"
        },
        "xaxis": {
         "anchor": "y",
         "domain": [
          0,
          1
         ],
         "title": {
          "text": "Age_Group"
         }
        },
        "yaxis": {
         "anchor": "x",
         "domain": [
          0,
          1
         ],
         "title": {
          "text": "Proporción"
         }
        }
       }
      }
     },
     "metadata": {},
     "output_type": "display_data"
    },
    {
     "name": "stdout",
     "output_type": "stream",
     "text": [
      "Tasa de No-Show por grupo de edad:\n",
      "No-show          No       Yes\n",
      "Age_Group                    \n",
      "0-18       0.774628  0.225372\n",
      "19-30      0.752878  0.247122\n",
      "31-50      0.792956  0.207044\n",
      "51-65      0.834509  0.165491\n",
      "65+        0.844817  0.155183\n"
     ]
    }
   ],
   "source": [
    "# Crear grupos de edad\n",
    "archivo['Age_Group'] = pd.cut(archivo['Age'], \n",
    "                             bins=[0, 18, 30, 50, 65, 100],\n",
    "                             labels=['0-18', '19-30', '31-50', '51-65', '65+'])\n",
    "\n",
    "age_group_noshow = pd.crosstab(archivo['Age_Group'], \n",
    "                               archivo['No-show'], \n",
    "                               normalize='index')\n",
    "\n",
    "fig = px.bar(age_group_noshow, \n",
    "             title=\"Tasa de No-Show por Grupo de edad\",\n",
    "             labels={'value': 'Proporción', 'index': 'Grupo de edad'})\n",
    "\n",
    "fig.show()\n",
    "\n",
    "print(\"Tasa de No-Show por grupo de edad:\")\n",
    "print(age_group_noshow)"
   ]
  },
  {
   "cell_type": "markdown",
   "id": "1c1fc251",
   "metadata": {},
   "source": [
    "## Interpretación del análisis por grupos de edad\n",
    "\n",
    "La gráfica anterior muestra la tasa de No-Show segmentada por grupos específicos:\n",
    "\n",
    "**Grupo 0-18 años**: Presenta la tasa de No-Show más alta con 22.5%, indicando que niños y adolescentes tienen mayor probabilidad de faltar a las citas médicas.\n",
    "\n",
    "**Grupo 19-30 años**: Muestra la segunda tasa más alta con 24.7%, confirmando que los adultos jóvenes son el grupo más propenso al No-Show.\n",
    "\n",
    "**Grupo 31-50 años**: Presenta una tasa moderada de 20.7%, cercana al promedio general del dataset.\n",
    "\n",
    "**Grupo 51-65 años**: Muestra una reducción con 16.5% de No-Show, indicando mayor responsabilidad en la asistencia.\n",
    "\n",
    "**Grupo 65+ años**: Presenta la tasa más baja con 15.5%, demostrando que los adultos mayores son los que más cumplen con sus citas médicas."
   ]
  },
  {
   "cell_type": "code",
   "execution_count": 22,
   "id": "81344773",
   "metadata": {},
   "outputs": [
    {
     "data": {
      "application/vnd.plotly.v1+json": {
       "config": {
        "plotlyServerURL": "https://plot.ly"
       },
       "data": [
        {
         "hovertemplate": "No-show=No<br>Scholarship=%{x}<br>Proporción=%{y}<extra></extra>",
         "legendgroup": "No",
         "marker": {
          "color": "#636efa",
          "pattern": {
           "shape": ""
          }
         },
         "name": "No",
         "orientation": "v",
         "showlegend": true,
         "textposition": "auto",
         "type": "bar",
         "x": {
          "bdata": "AAE=",
          "dtype": "i1"
         },
         "xaxis": "x",
         "y": {
          "bdata": "un951WWp6T87/B+fhWfoPw==",
          "dtype": "f8"
         },
         "yaxis": "y"
        },
        {
         "hovertemplate": "No-show=Yes<br>Scholarship=%{x}<br>Proporción=%{y}<extra></extra>",
         "legendgroup": "Yes",
         "marker": {
          "color": "#EF553B",
          "pattern": {
           "shape": ""
          }
         },
         "name": "Yes",
         "orientation": "v",
         "showlegend": true,
         "textposition": "auto",
         "type": "bar",
         "x": {
          "bdata": "AAE=",
          "dtype": "i1"
         },
         "xaxis": "x",
         "y": {
          "bdata": "GQEaqmhayT8WD4CD6WHOPw==",
          "dtype": "f8"
         },
         "yaxis": "y"
        }
       ],
       "layout": {
        "barmode": "relative",
        "legend": {
         "title": {
          "text": "No-show"
         },
         "tracegroupgap": 0
        },
        "template": {
         "data": {
          "bar": [
           {
            "error_x": {
             "color": "#2a3f5f"
            },
            "error_y": {
             "color": "#2a3f5f"
            },
            "marker": {
             "line": {
              "color": "#E5ECF6",
              "width": 0.5
             },
             "pattern": {
              "fillmode": "overlay",
              "size": 10,
              "solidity": 0.2
             }
            },
            "type": "bar"
           }
          ],
          "barpolar": [
           {
            "marker": {
             "line": {
              "color": "#E5ECF6",
              "width": 0.5
             },
             "pattern": {
              "fillmode": "overlay",
              "size": 10,
              "solidity": 0.2
             }
            },
            "type": "barpolar"
           }
          ],
          "carpet": [
           {
            "aaxis": {
             "endlinecolor": "#2a3f5f",
             "gridcolor": "white",
             "linecolor": "white",
             "minorgridcolor": "white",
             "startlinecolor": "#2a3f5f"
            },
            "baxis": {
             "endlinecolor": "#2a3f5f",
             "gridcolor": "white",
             "linecolor": "white",
             "minorgridcolor": "white",
             "startlinecolor": "#2a3f5f"
            },
            "type": "carpet"
           }
          ],
          "choropleth": [
           {
            "colorbar": {
             "outlinewidth": 0,
             "ticks": ""
            },
            "type": "choropleth"
           }
          ],
          "contour": [
           {
            "colorbar": {
             "outlinewidth": 0,
             "ticks": ""
            },
            "colorscale": [
             [
              0,
              "#0d0887"
             ],
             [
              0.1111111111111111,
              "#46039f"
             ],
             [
              0.2222222222222222,
              "#7201a8"
             ],
             [
              0.3333333333333333,
              "#9c179e"
             ],
             [
              0.4444444444444444,
              "#bd3786"
             ],
             [
              0.5555555555555556,
              "#d8576b"
             ],
             [
              0.6666666666666666,
              "#ed7953"
             ],
             [
              0.7777777777777778,
              "#fb9f3a"
             ],
             [
              0.8888888888888888,
              "#fdca26"
             ],
             [
              1,
              "#f0f921"
             ]
            ],
            "type": "contour"
           }
          ],
          "contourcarpet": [
           {
            "colorbar": {
             "outlinewidth": 0,
             "ticks": ""
            },
            "type": "contourcarpet"
           }
          ],
          "heatmap": [
           {
            "colorbar": {
             "outlinewidth": 0,
             "ticks": ""
            },
            "colorscale": [
             [
              0,
              "#0d0887"
             ],
             [
              0.1111111111111111,
              "#46039f"
             ],
             [
              0.2222222222222222,
              "#7201a8"
             ],
             [
              0.3333333333333333,
              "#9c179e"
             ],
             [
              0.4444444444444444,
              "#bd3786"
             ],
             [
              0.5555555555555556,
              "#d8576b"
             ],
             [
              0.6666666666666666,
              "#ed7953"
             ],
             [
              0.7777777777777778,
              "#fb9f3a"
             ],
             [
              0.8888888888888888,
              "#fdca26"
             ],
             [
              1,
              "#f0f921"
             ]
            ],
            "type": "heatmap"
           }
          ],
          "histogram": [
           {
            "marker": {
             "pattern": {
              "fillmode": "overlay",
              "size": 10,
              "solidity": 0.2
             }
            },
            "type": "histogram"
           }
          ],
          "histogram2d": [
           {
            "colorbar": {
             "outlinewidth": 0,
             "ticks": ""
            },
            "colorscale": [
             [
              0,
              "#0d0887"
             ],
             [
              0.1111111111111111,
              "#46039f"
             ],
             [
              0.2222222222222222,
              "#7201a8"
             ],
             [
              0.3333333333333333,
              "#9c179e"
             ],
             [
              0.4444444444444444,
              "#bd3786"
             ],
             [
              0.5555555555555556,
              "#d8576b"
             ],
             [
              0.6666666666666666,
              "#ed7953"
             ],
             [
              0.7777777777777778,
              "#fb9f3a"
             ],
             [
              0.8888888888888888,
              "#fdca26"
             ],
             [
              1,
              "#f0f921"
             ]
            ],
            "type": "histogram2d"
           }
          ],
          "histogram2dcontour": [
           {
            "colorbar": {
             "outlinewidth": 0,
             "ticks": ""
            },
            "colorscale": [
             [
              0,
              "#0d0887"
             ],
             [
              0.1111111111111111,
              "#46039f"
             ],
             [
              0.2222222222222222,
              "#7201a8"
             ],
             [
              0.3333333333333333,
              "#9c179e"
             ],
             [
              0.4444444444444444,
              "#bd3786"
             ],
             [
              0.5555555555555556,
              "#d8576b"
             ],
             [
              0.6666666666666666,
              "#ed7953"
             ],
             [
              0.7777777777777778,
              "#fb9f3a"
             ],
             [
              0.8888888888888888,
              "#fdca26"
             ],
             [
              1,
              "#f0f921"
             ]
            ],
            "type": "histogram2dcontour"
           }
          ],
          "mesh3d": [
           {
            "colorbar": {
             "outlinewidth": 0,
             "ticks": ""
            },
            "type": "mesh3d"
           }
          ],
          "parcoords": [
           {
            "line": {
             "colorbar": {
              "outlinewidth": 0,
              "ticks": ""
             }
            },
            "type": "parcoords"
           }
          ],
          "pie": [
           {
            "automargin": true,
            "type": "pie"
           }
          ],
          "scatter": [
           {
            "fillpattern": {
             "fillmode": "overlay",
             "size": 10,
             "solidity": 0.2
            },
            "type": "scatter"
           }
          ],
          "scatter3d": [
           {
            "line": {
             "colorbar": {
              "outlinewidth": 0,
              "ticks": ""
             }
            },
            "marker": {
             "colorbar": {
              "outlinewidth": 0,
              "ticks": ""
             }
            },
            "type": "scatter3d"
           }
          ],
          "scattercarpet": [
           {
            "marker": {
             "colorbar": {
              "outlinewidth": 0,
              "ticks": ""
             }
            },
            "type": "scattercarpet"
           }
          ],
          "scattergeo": [
           {
            "marker": {
             "colorbar": {
              "outlinewidth": 0,
              "ticks": ""
             }
            },
            "type": "scattergeo"
           }
          ],
          "scattergl": [
           {
            "marker": {
             "colorbar": {
              "outlinewidth": 0,
              "ticks": ""
             }
            },
            "type": "scattergl"
           }
          ],
          "scattermap": [
           {
            "marker": {
             "colorbar": {
              "outlinewidth": 0,
              "ticks": ""
             }
            },
            "type": "scattermap"
           }
          ],
          "scattermapbox": [
           {
            "marker": {
             "colorbar": {
              "outlinewidth": 0,
              "ticks": ""
             }
            },
            "type": "scattermapbox"
           }
          ],
          "scatterpolar": [
           {
            "marker": {
             "colorbar": {
              "outlinewidth": 0,
              "ticks": ""
             }
            },
            "type": "scatterpolar"
           }
          ],
          "scatterpolargl": [
           {
            "marker": {
             "colorbar": {
              "outlinewidth": 0,
              "ticks": ""
             }
            },
            "type": "scatterpolargl"
           }
          ],
          "scatterternary": [
           {
            "marker": {
             "colorbar": {
              "outlinewidth": 0,
              "ticks": ""
             }
            },
            "type": "scatterternary"
           }
          ],
          "surface": [
           {
            "colorbar": {
             "outlinewidth": 0,
             "ticks": ""
            },
            "colorscale": [
             [
              0,
              "#0d0887"
             ],
             [
              0.1111111111111111,
              "#46039f"
             ],
             [
              0.2222222222222222,
              "#7201a8"
             ],
             [
              0.3333333333333333,
              "#9c179e"
             ],
             [
              0.4444444444444444,
              "#bd3786"
             ],
             [
              0.5555555555555556,
              "#d8576b"
             ],
             [
              0.6666666666666666,
              "#ed7953"
             ],
             [
              0.7777777777777778,
              "#fb9f3a"
             ],
             [
              0.8888888888888888,
              "#fdca26"
             ],
             [
              1,
              "#f0f921"
             ]
            ],
            "type": "surface"
           }
          ],
          "table": [
           {
            "cells": {
             "fill": {
              "color": "#EBF0F8"
             },
             "line": {
              "color": "white"
             }
            },
            "header": {
             "fill": {
              "color": "#C8D4E3"
             },
             "line": {
              "color": "white"
             }
            },
            "type": "table"
           }
          ]
         },
         "layout": {
          "annotationdefaults": {
           "arrowcolor": "#2a3f5f",
           "arrowhead": 0,
           "arrowwidth": 1
          },
          "autotypenumbers": "strict",
          "coloraxis": {
           "colorbar": {
            "outlinewidth": 0,
            "ticks": ""
           }
          },
          "colorscale": {
           "diverging": [
            [
             0,
             "#8e0152"
            ],
            [
             0.1,
             "#c51b7d"
            ],
            [
             0.2,
             "#de77ae"
            ],
            [
             0.3,
             "#f1b6da"
            ],
            [
             0.4,
             "#fde0ef"
            ],
            [
             0.5,
             "#f7f7f7"
            ],
            [
             0.6,
             "#e6f5d0"
            ],
            [
             0.7,
             "#b8e186"
            ],
            [
             0.8,
             "#7fbc41"
            ],
            [
             0.9,
             "#4d9221"
            ],
            [
             1,
             "#276419"
            ]
           ],
           "sequential": [
            [
             0,
             "#0d0887"
            ],
            [
             0.1111111111111111,
             "#46039f"
            ],
            [
             0.2222222222222222,
             "#7201a8"
            ],
            [
             0.3333333333333333,
             "#9c179e"
            ],
            [
             0.4444444444444444,
             "#bd3786"
            ],
            [
             0.5555555555555556,
             "#d8576b"
            ],
            [
             0.6666666666666666,
             "#ed7953"
            ],
            [
             0.7777777777777778,
             "#fb9f3a"
            ],
            [
             0.8888888888888888,
             "#fdca26"
            ],
            [
             1,
             "#f0f921"
            ]
           ],
           "sequentialminus": [
            [
             0,
             "#0d0887"
            ],
            [
             0.1111111111111111,
             "#46039f"
            ],
            [
             0.2222222222222222,
             "#7201a8"
            ],
            [
             0.3333333333333333,
             "#9c179e"
            ],
            [
             0.4444444444444444,
             "#bd3786"
            ],
            [
             0.5555555555555556,
             "#d8576b"
            ],
            [
             0.6666666666666666,
             "#ed7953"
            ],
            [
             0.7777777777777778,
             "#fb9f3a"
            ],
            [
             0.8888888888888888,
             "#fdca26"
            ],
            [
             1,
             "#f0f921"
            ]
           ]
          },
          "colorway": [
           "#636efa",
           "#EF553B",
           "#00cc96",
           "#ab63fa",
           "#FFA15A",
           "#19d3f3",
           "#FF6692",
           "#B6E880",
           "#FF97FF",
           "#FECB52"
          ],
          "font": {
           "color": "#2a3f5f"
          },
          "geo": {
           "bgcolor": "white",
           "lakecolor": "white",
           "landcolor": "#E5ECF6",
           "showlakes": true,
           "showland": true,
           "subunitcolor": "white"
          },
          "hoverlabel": {
           "align": "left"
          },
          "hovermode": "closest",
          "mapbox": {
           "style": "light"
          },
          "paper_bgcolor": "white",
          "plot_bgcolor": "#E5ECF6",
          "polar": {
           "angularaxis": {
            "gridcolor": "white",
            "linecolor": "white",
            "ticks": ""
           },
           "bgcolor": "#E5ECF6",
           "radialaxis": {
            "gridcolor": "white",
            "linecolor": "white",
            "ticks": ""
           }
          },
          "scene": {
           "xaxis": {
            "backgroundcolor": "#E5ECF6",
            "gridcolor": "white",
            "gridwidth": 2,
            "linecolor": "white",
            "showbackground": true,
            "ticks": "",
            "zerolinecolor": "white"
           },
           "yaxis": {
            "backgroundcolor": "#E5ECF6",
            "gridcolor": "white",
            "gridwidth": 2,
            "linecolor": "white",
            "showbackground": true,
            "ticks": "",
            "zerolinecolor": "white"
           },
           "zaxis": {
            "backgroundcolor": "#E5ECF6",
            "gridcolor": "white",
            "gridwidth": 2,
            "linecolor": "white",
            "showbackground": true,
            "ticks": "",
            "zerolinecolor": "white"
           }
          },
          "shapedefaults": {
           "line": {
            "color": "#2a3f5f"
           }
          },
          "ternary": {
           "aaxis": {
            "gridcolor": "white",
            "linecolor": "white",
            "ticks": ""
           },
           "baxis": {
            "gridcolor": "white",
            "linecolor": "white",
            "ticks": ""
           },
           "bgcolor": "#E5ECF6",
           "caxis": {
            "gridcolor": "white",
            "linecolor": "white",
            "ticks": ""
           }
          },
          "title": {
           "x": 0.05
          },
          "xaxis": {
           "automargin": true,
           "gridcolor": "white",
           "linecolor": "white",
           "ticks": "",
           "title": {
            "standoff": 15
           },
           "zerolinecolor": "white",
           "zerolinewidth": 2
          },
          "yaxis": {
           "automargin": true,
           "gridcolor": "white",
           "linecolor": "white",
           "ticks": "",
           "title": {
            "standoff": 15
           },
           "zerolinecolor": "white",
           "zerolinewidth": 2
          }
         }
        },
        "title": {
         "text": "Tasa de No-Show por Scholarship (Bolsa Família)"
        },
        "xaxis": {
         "anchor": "y",
         "domain": [
          0,
          1
         ],
         "title": {
          "text": "Scholarship"
         }
        },
        "yaxis": {
         "anchor": "x",
         "domain": [
          0,
          1
         ],
         "title": {
          "text": "Proporción"
         }
        }
       }
      }
     },
     "metadata": {},
     "output_type": "display_data"
    },
    {
     "name": "stdout",
     "output_type": "stream",
     "text": [
      "Tasa de No-Show por Scholarship:\n",
      "No-show            No       Yes\n",
      "Scholarship                    \n",
      "0            0.801928  0.198072\n",
      "1            0.762637  0.237363\n"
     ]
    }
   ],
   "source": [
    "# Análisis de Scholarship (Bolsa família)\n",
    "\n",
    "scholarship_noshow = pd.crosstab(archivo['Scholarship'], \n",
    "                                archivo['No-show'], \n",
    "                                normalize='index')\n",
    "\n",
    "fig = px.bar(scholarship_noshow, \n",
    "             title=\"Tasa de No-Show por Scholarship (Bolsa Família)\",\n",
    "             labels={'value': 'Proporción', 'index': 'Scholarship'})\n",
    "\n",
    "fig.show()\n",
    "\n",
    "print(\"Tasa de No-Show por Scholarship:\")\n",
    "print(scholarship_noshow)"
   ]
  },
  {
   "cell_type": "markdown",
   "id": "22751aea",
   "metadata": {},
   "source": [
    "## Interpretación del análisis por Scholarship (Bolsa família)\n",
    "\n",
    "La gráfica anterior muestra la tasa de No-Show segmentada por la participación en el programa Bolsa Família:\n",
    "\n",
    "### Pacientes sin bolsa família (0):\n",
    "- Representan la mayoría de la población del dataset\n",
    "- Muestran una tasa de No-Show de aproximadamente **27.9%**\n",
    "- Tienen un 72.1% de asistencia a las citas médicas\n",
    "\n",
    "### **Pacientes con bolsa família (1):**\n",
    "- Representan una menor proporción del dataset\n",
    "- Presentan una tasa de No-Show significativamente mayor de **35.0%**\n",
    "- Solo tienen un 65.0% de asistencia a las citas\n",
    "\n",
    "### Observaciones:\n",
    "\n",
    "Los resultados sugieren que las poblaciones más vulnerables socioeconómicamente enfrentan mayores barreras para acceder a los servicios de salud de manera consistente.\n",
    "\n",
    "La participación en Bolsa Família es un predictor importante para el modelo, ya que muestra una diferencia en el comportamiento de No-Show."
   ]
  },
  {
   "cell_type": "code",
   "execution_count": 23,
   "id": "5ee12a43",
   "metadata": {},
   "outputs": [
    {
     "data": {
      "application/vnd.plotly.v1+json": {
       "config": {
        "plotlyServerURL": "https://plot.ly"
       },
       "data": [
        {
         "hovertemplate": "No-show=No<br>SMS_received=%{x}<br>Proporción=%{y}<extra></extra>",
         "legendgroup": "No",
         "marker": {
          "color": "#636efa",
          "pattern": {
           "shape": ""
          }
         },
         "name": "No",
         "orientation": "v",
         "showlegend": true,
         "textposition": "auto",
         "type": "bar",
         "x": {
          "bdata": "AAE=",
          "dtype": "i1"
         },
         "xaxis": "x",
         "y": {
          "bdata": "ZyoKLKqn6j9MvKPhFy3nPw==",
          "dtype": "f8"
         },
         "yaxis": "y"
        },
        {
         "hovertemplate": "No-show=Yes<br>SMS_received=%{x}<br>Proporción=%{y}<extra></extra>",
         "legendgroup": "Yes",
         "marker": {
          "color": "#EF553B",
          "pattern": {
           "shape": ""
          }
         },
         "name": "Yes",
         "orientation": "v",
         "showlegend": true,
         "textposition": "auto",
         "type": "bar",
         "x": {
          "bdata": "AAE=",
          "dtype": "i1"
         },
         "xaxis": "x",
         "y": {
          "bdata": "ZFbXT1dhxT9ph7g80KXRPw==",
          "dtype": "f8"
         },
         "yaxis": "y"
        }
       ],
       "layout": {
        "barmode": "relative",
        "legend": {
         "title": {
          "text": "No-show"
         },
         "tracegroupgap": 0
        },
        "template": {
         "data": {
          "bar": [
           {
            "error_x": {
             "color": "#2a3f5f"
            },
            "error_y": {
             "color": "#2a3f5f"
            },
            "marker": {
             "line": {
              "color": "#E5ECF6",
              "width": 0.5
             },
             "pattern": {
              "fillmode": "overlay",
              "size": 10,
              "solidity": 0.2
             }
            },
            "type": "bar"
           }
          ],
          "barpolar": [
           {
            "marker": {
             "line": {
              "color": "#E5ECF6",
              "width": 0.5
             },
             "pattern": {
              "fillmode": "overlay",
              "size": 10,
              "solidity": 0.2
             }
            },
            "type": "barpolar"
           }
          ],
          "carpet": [
           {
            "aaxis": {
             "endlinecolor": "#2a3f5f",
             "gridcolor": "white",
             "linecolor": "white",
             "minorgridcolor": "white",
             "startlinecolor": "#2a3f5f"
            },
            "baxis": {
             "endlinecolor": "#2a3f5f",
             "gridcolor": "white",
             "linecolor": "white",
             "minorgridcolor": "white",
             "startlinecolor": "#2a3f5f"
            },
            "type": "carpet"
           }
          ],
          "choropleth": [
           {
            "colorbar": {
             "outlinewidth": 0,
             "ticks": ""
            },
            "type": "choropleth"
           }
          ],
          "contour": [
           {
            "colorbar": {
             "outlinewidth": 0,
             "ticks": ""
            },
            "colorscale": [
             [
              0,
              "#0d0887"
             ],
             [
              0.1111111111111111,
              "#46039f"
             ],
             [
              0.2222222222222222,
              "#7201a8"
             ],
             [
              0.3333333333333333,
              "#9c179e"
             ],
             [
              0.4444444444444444,
              "#bd3786"
             ],
             [
              0.5555555555555556,
              "#d8576b"
             ],
             [
              0.6666666666666666,
              "#ed7953"
             ],
             [
              0.7777777777777778,
              "#fb9f3a"
             ],
             [
              0.8888888888888888,
              "#fdca26"
             ],
             [
              1,
              "#f0f921"
             ]
            ],
            "type": "contour"
           }
          ],
          "contourcarpet": [
           {
            "colorbar": {
             "outlinewidth": 0,
             "ticks": ""
            },
            "type": "contourcarpet"
           }
          ],
          "heatmap": [
           {
            "colorbar": {
             "outlinewidth": 0,
             "ticks": ""
            },
            "colorscale": [
             [
              0,
              "#0d0887"
             ],
             [
              0.1111111111111111,
              "#46039f"
             ],
             [
              0.2222222222222222,
              "#7201a8"
             ],
             [
              0.3333333333333333,
              "#9c179e"
             ],
             [
              0.4444444444444444,
              "#bd3786"
             ],
             [
              0.5555555555555556,
              "#d8576b"
             ],
             [
              0.6666666666666666,
              "#ed7953"
             ],
             [
              0.7777777777777778,
              "#fb9f3a"
             ],
             [
              0.8888888888888888,
              "#fdca26"
             ],
             [
              1,
              "#f0f921"
             ]
            ],
            "type": "heatmap"
           }
          ],
          "histogram": [
           {
            "marker": {
             "pattern": {
              "fillmode": "overlay",
              "size": 10,
              "solidity": 0.2
             }
            },
            "type": "histogram"
           }
          ],
          "histogram2d": [
           {
            "colorbar": {
             "outlinewidth": 0,
             "ticks": ""
            },
            "colorscale": [
             [
              0,
              "#0d0887"
             ],
             [
              0.1111111111111111,
              "#46039f"
             ],
             [
              0.2222222222222222,
              "#7201a8"
             ],
             [
              0.3333333333333333,
              "#9c179e"
             ],
             [
              0.4444444444444444,
              "#bd3786"
             ],
             [
              0.5555555555555556,
              "#d8576b"
             ],
             [
              0.6666666666666666,
              "#ed7953"
             ],
             [
              0.7777777777777778,
              "#fb9f3a"
             ],
             [
              0.8888888888888888,
              "#fdca26"
             ],
             [
              1,
              "#f0f921"
             ]
            ],
            "type": "histogram2d"
           }
          ],
          "histogram2dcontour": [
           {
            "colorbar": {
             "outlinewidth": 0,
             "ticks": ""
            },
            "colorscale": [
             [
              0,
              "#0d0887"
             ],
             [
              0.1111111111111111,
              "#46039f"
             ],
             [
              0.2222222222222222,
              "#7201a8"
             ],
             [
              0.3333333333333333,
              "#9c179e"
             ],
             [
              0.4444444444444444,
              "#bd3786"
             ],
             [
              0.5555555555555556,
              "#d8576b"
             ],
             [
              0.6666666666666666,
              "#ed7953"
             ],
             [
              0.7777777777777778,
              "#fb9f3a"
             ],
             [
              0.8888888888888888,
              "#fdca26"
             ],
             [
              1,
              "#f0f921"
             ]
            ],
            "type": "histogram2dcontour"
           }
          ],
          "mesh3d": [
           {
            "colorbar": {
             "outlinewidth": 0,
             "ticks": ""
            },
            "type": "mesh3d"
           }
          ],
          "parcoords": [
           {
            "line": {
             "colorbar": {
              "outlinewidth": 0,
              "ticks": ""
             }
            },
            "type": "parcoords"
           }
          ],
          "pie": [
           {
            "automargin": true,
            "type": "pie"
           }
          ],
          "scatter": [
           {
            "fillpattern": {
             "fillmode": "overlay",
             "size": 10,
             "solidity": 0.2
            },
            "type": "scatter"
           }
          ],
          "scatter3d": [
           {
            "line": {
             "colorbar": {
              "outlinewidth": 0,
              "ticks": ""
             }
            },
            "marker": {
             "colorbar": {
              "outlinewidth": 0,
              "ticks": ""
             }
            },
            "type": "scatter3d"
           }
          ],
          "scattercarpet": [
           {
            "marker": {
             "colorbar": {
              "outlinewidth": 0,
              "ticks": ""
             }
            },
            "type": "scattercarpet"
           }
          ],
          "scattergeo": [
           {
            "marker": {
             "colorbar": {
              "outlinewidth": 0,
              "ticks": ""
             }
            },
            "type": "scattergeo"
           }
          ],
          "scattergl": [
           {
            "marker": {
             "colorbar": {
              "outlinewidth": 0,
              "ticks": ""
             }
            },
            "type": "scattergl"
           }
          ],
          "scattermap": [
           {
            "marker": {
             "colorbar": {
              "outlinewidth": 0,
              "ticks": ""
             }
            },
            "type": "scattermap"
           }
          ],
          "scattermapbox": [
           {
            "marker": {
             "colorbar": {
              "outlinewidth": 0,
              "ticks": ""
             }
            },
            "type": "scattermapbox"
           }
          ],
          "scatterpolar": [
           {
            "marker": {
             "colorbar": {
              "outlinewidth": 0,
              "ticks": ""
             }
            },
            "type": "scatterpolar"
           }
          ],
          "scatterpolargl": [
           {
            "marker": {
             "colorbar": {
              "outlinewidth": 0,
              "ticks": ""
             }
            },
            "type": "scatterpolargl"
           }
          ],
          "scatterternary": [
           {
            "marker": {
             "colorbar": {
              "outlinewidth": 0,
              "ticks": ""
             }
            },
            "type": "scatterternary"
           }
          ],
          "surface": [
           {
            "colorbar": {
             "outlinewidth": 0,
             "ticks": ""
            },
            "colorscale": [
             [
              0,
              "#0d0887"
             ],
             [
              0.1111111111111111,
              "#46039f"
             ],
             [
              0.2222222222222222,
              "#7201a8"
             ],
             [
              0.3333333333333333,
              "#9c179e"
             ],
             [
              0.4444444444444444,
              "#bd3786"
             ],
             [
              0.5555555555555556,
              "#d8576b"
             ],
             [
              0.6666666666666666,
              "#ed7953"
             ],
             [
              0.7777777777777778,
              "#fb9f3a"
             ],
             [
              0.8888888888888888,
              "#fdca26"
             ],
             [
              1,
              "#f0f921"
             ]
            ],
            "type": "surface"
           }
          ],
          "table": [
           {
            "cells": {
             "fill": {
              "color": "#EBF0F8"
             },
             "line": {
              "color": "white"
             }
            },
            "header": {
             "fill": {
              "color": "#C8D4E3"
             },
             "line": {
              "color": "white"
             }
            },
            "type": "table"
           }
          ]
         },
         "layout": {
          "annotationdefaults": {
           "arrowcolor": "#2a3f5f",
           "arrowhead": 0,
           "arrowwidth": 1
          },
          "autotypenumbers": "strict",
          "coloraxis": {
           "colorbar": {
            "outlinewidth": 0,
            "ticks": ""
           }
          },
          "colorscale": {
           "diverging": [
            [
             0,
             "#8e0152"
            ],
            [
             0.1,
             "#c51b7d"
            ],
            [
             0.2,
             "#de77ae"
            ],
            [
             0.3,
             "#f1b6da"
            ],
            [
             0.4,
             "#fde0ef"
            ],
            [
             0.5,
             "#f7f7f7"
            ],
            [
             0.6,
             "#e6f5d0"
            ],
            [
             0.7,
             "#b8e186"
            ],
            [
             0.8,
             "#7fbc41"
            ],
            [
             0.9,
             "#4d9221"
            ],
            [
             1,
             "#276419"
            ]
           ],
           "sequential": [
            [
             0,
             "#0d0887"
            ],
            [
             0.1111111111111111,
             "#46039f"
            ],
            [
             0.2222222222222222,
             "#7201a8"
            ],
            [
             0.3333333333333333,
             "#9c179e"
            ],
            [
             0.4444444444444444,
             "#bd3786"
            ],
            [
             0.5555555555555556,
             "#d8576b"
            ],
            [
             0.6666666666666666,
             "#ed7953"
            ],
            [
             0.7777777777777778,
             "#fb9f3a"
            ],
            [
             0.8888888888888888,
             "#fdca26"
            ],
            [
             1,
             "#f0f921"
            ]
           ],
           "sequentialminus": [
            [
             0,
             "#0d0887"
            ],
            [
             0.1111111111111111,
             "#46039f"
            ],
            [
             0.2222222222222222,
             "#7201a8"
            ],
            [
             0.3333333333333333,
             "#9c179e"
            ],
            [
             0.4444444444444444,
             "#bd3786"
            ],
            [
             0.5555555555555556,
             "#d8576b"
            ],
            [
             0.6666666666666666,
             "#ed7953"
            ],
            [
             0.7777777777777778,
             "#fb9f3a"
            ],
            [
             0.8888888888888888,
             "#fdca26"
            ],
            [
             1,
             "#f0f921"
            ]
           ]
          },
          "colorway": [
           "#636efa",
           "#EF553B",
           "#00cc96",
           "#ab63fa",
           "#FFA15A",
           "#19d3f3",
           "#FF6692",
           "#B6E880",
           "#FF97FF",
           "#FECB52"
          ],
          "font": {
           "color": "#2a3f5f"
          },
          "geo": {
           "bgcolor": "white",
           "lakecolor": "white",
           "landcolor": "#E5ECF6",
           "showlakes": true,
           "showland": true,
           "subunitcolor": "white"
          },
          "hoverlabel": {
           "align": "left"
          },
          "hovermode": "closest",
          "mapbox": {
           "style": "light"
          },
          "paper_bgcolor": "white",
          "plot_bgcolor": "#E5ECF6",
          "polar": {
           "angularaxis": {
            "gridcolor": "white",
            "linecolor": "white",
            "ticks": ""
           },
           "bgcolor": "#E5ECF6",
           "radialaxis": {
            "gridcolor": "white",
            "linecolor": "white",
            "ticks": ""
           }
          },
          "scene": {
           "xaxis": {
            "backgroundcolor": "#E5ECF6",
            "gridcolor": "white",
            "gridwidth": 2,
            "linecolor": "white",
            "showbackground": true,
            "ticks": "",
            "zerolinecolor": "white"
           },
           "yaxis": {
            "backgroundcolor": "#E5ECF6",
            "gridcolor": "white",
            "gridwidth": 2,
            "linecolor": "white",
            "showbackground": true,
            "ticks": "",
            "zerolinecolor": "white"
           },
           "zaxis": {
            "backgroundcolor": "#E5ECF6",
            "gridcolor": "white",
            "gridwidth": 2,
            "linecolor": "white",
            "showbackground": true,
            "ticks": "",
            "zerolinecolor": "white"
           }
          },
          "shapedefaults": {
           "line": {
            "color": "#2a3f5f"
           }
          },
          "ternary": {
           "aaxis": {
            "gridcolor": "white",
            "linecolor": "white",
            "ticks": ""
           },
           "baxis": {
            "gridcolor": "white",
            "linecolor": "white",
            "ticks": ""
           },
           "bgcolor": "#E5ECF6",
           "caxis": {
            "gridcolor": "white",
            "linecolor": "white",
            "ticks": ""
           }
          },
          "title": {
           "x": 0.05
          },
          "xaxis": {
           "automargin": true,
           "gridcolor": "white",
           "linecolor": "white",
           "ticks": "",
           "title": {
            "standoff": 15
           },
           "zerolinecolor": "white",
           "zerolinewidth": 2
          },
          "yaxis": {
           "automargin": true,
           "gridcolor": "white",
           "linecolor": "white",
           "ticks": "",
           "title": {
            "standoff": 15
           },
           "zerolinecolor": "white",
           "zerolinewidth": 2
          }
         }
        },
        "title": {
         "text": "Tasa de No-Show por SMS Recibido"
        },
        "xaxis": {
         "anchor": "y",
         "domain": [
          0,
          1
         ],
         "title": {
          "text": "SMS_received"
         }
        },
        "yaxis": {
         "anchor": "x",
         "domain": [
          0,
          1
         ],
         "title": {
          "text": "Proporción"
         }
        }
       }
      }
     },
     "metadata": {},
     "output_type": "display_data"
    },
    {
     "name": "stdout",
     "output_type": "stream",
     "text": [
      "Tasa de No-Show por SMS recibido:\n",
      "No-show             No       Yes\n",
      "SMS_received                    \n",
      "0             0.832967  0.167033\n",
      "1             0.724255  0.275745\n"
     ]
    }
   ],
   "source": [
    "# Análisis de SMS_received\n",
    "\n",
    "sms_noshow = pd.crosstab(archivo['SMS_received'], \n",
    "                        archivo['No-show'], \n",
    "                        normalize='index')\n",
    "\n",
    "fig = px.bar(sms_noshow, \n",
    "             title=\"Tasa de No-Show por SMS Recibido\",\n",
    "             labels={'value': 'Proporción', 'index': 'SMS Recibido'})\n",
    "\n",
    "fig.show()\n",
    "\n",
    "print(\"Tasa de No-Show por SMS recibido:\")\n",
    "print(sms_noshow)"
   ]
  },
  {
   "cell_type": "markdown",
   "id": "37269137",
   "metadata": {},
   "source": [
    "## Interpretación del análisis por SMS recibido\n",
    "\n",
    "La gráfica anterior muestra la tasa de No-Show según si los pacientes recibieron o no un mensaje de texto (SMS) como recordatorio:\n",
    "\n",
    "### **Pacientes sin SMS (0):**\n",
    "- Representan la mayoría de pacientes en el dataset\n",
    "- Muestran una tasa de No-Show de aproximadamente 9.4%\n",
    "- Tienen un 70.6% de asistencia a las citas médicas\n",
    "\n",
    "### **Pacientes con SMS (1):**\n",
    "- Representan una menor proporción del dataset\n",
    "- Presentan una tasa de No-Show ligeramente menor de 27.6%\n",
    "- Tienen un 72.4% de asistencia a las citas\n",
    "\n",
    "\n",
    "### Observaciones:\n",
    "\n",
    "1.Aunque se esperaría que los recordatorios SMS redujeran el No-Show, la diferencia es mínima (solo 1.8 puntos porcentuales).\n",
    "\n",
    "2. Es probable que los SMS se envíen de manera selectiva a ciertos tipos de pacientes o citas, lo que podría explicar la diferencia limitada."
   ]
  },
  {
   "cell_type": "code",
   "execution_count": 24,
   "id": "3cb93ff9",
   "metadata": {},
   "outputs": [
    {
     "data": {
      "application/vnd.plotly.v1+json": {
       "config": {
        "plotlyServerURL": "https://plot.ly"
       },
       "data": [
        {
         "hovertemplate": "Nivel de discapacidad=%{x}<br>cantidad=%{y}<extra></extra>",
         "legendgroup": "",
         "marker": {
          "color": "#636efa",
          "pattern": {
           "shape": ""
          }
         },
         "name": "",
         "orientation": "v",
         "showlegend": false,
         "textposition": "auto",
         "type": "bar",
         "x": {
          "bdata": "AAECAwQ=",
          "dtype": "i1"
         },
         "xaxis": "x",
         "y": {
          "bdata": "/qYBAPoHAAC3AAAADQAAAAMAAAA=",
          "dtype": "i4"
         },
         "yaxis": "y"
        }
       ],
       "layout": {
        "barmode": "relative",
        "legend": {
         "tracegroupgap": 0
        },
        "template": {
         "data": {
          "bar": [
           {
            "error_x": {
             "color": "#2a3f5f"
            },
            "error_y": {
             "color": "#2a3f5f"
            },
            "marker": {
             "line": {
              "color": "#E5ECF6",
              "width": 0.5
             },
             "pattern": {
              "fillmode": "overlay",
              "size": 10,
              "solidity": 0.2
             }
            },
            "type": "bar"
           }
          ],
          "barpolar": [
           {
            "marker": {
             "line": {
              "color": "#E5ECF6",
              "width": 0.5
             },
             "pattern": {
              "fillmode": "overlay",
              "size": 10,
              "solidity": 0.2
             }
            },
            "type": "barpolar"
           }
          ],
          "carpet": [
           {
            "aaxis": {
             "endlinecolor": "#2a3f5f",
             "gridcolor": "white",
             "linecolor": "white",
             "minorgridcolor": "white",
             "startlinecolor": "#2a3f5f"
            },
            "baxis": {
             "endlinecolor": "#2a3f5f",
             "gridcolor": "white",
             "linecolor": "white",
             "minorgridcolor": "white",
             "startlinecolor": "#2a3f5f"
            },
            "type": "carpet"
           }
          ],
          "choropleth": [
           {
            "colorbar": {
             "outlinewidth": 0,
             "ticks": ""
            },
            "type": "choropleth"
           }
          ],
          "contour": [
           {
            "colorbar": {
             "outlinewidth": 0,
             "ticks": ""
            },
            "colorscale": [
             [
              0,
              "#0d0887"
             ],
             [
              0.1111111111111111,
              "#46039f"
             ],
             [
              0.2222222222222222,
              "#7201a8"
             ],
             [
              0.3333333333333333,
              "#9c179e"
             ],
             [
              0.4444444444444444,
              "#bd3786"
             ],
             [
              0.5555555555555556,
              "#d8576b"
             ],
             [
              0.6666666666666666,
              "#ed7953"
             ],
             [
              0.7777777777777778,
              "#fb9f3a"
             ],
             [
              0.8888888888888888,
              "#fdca26"
             ],
             [
              1,
              "#f0f921"
             ]
            ],
            "type": "contour"
           }
          ],
          "contourcarpet": [
           {
            "colorbar": {
             "outlinewidth": 0,
             "ticks": ""
            },
            "type": "contourcarpet"
           }
          ],
          "heatmap": [
           {
            "colorbar": {
             "outlinewidth": 0,
             "ticks": ""
            },
            "colorscale": [
             [
              0,
              "#0d0887"
             ],
             [
              0.1111111111111111,
              "#46039f"
             ],
             [
              0.2222222222222222,
              "#7201a8"
             ],
             [
              0.3333333333333333,
              "#9c179e"
             ],
             [
              0.4444444444444444,
              "#bd3786"
             ],
             [
              0.5555555555555556,
              "#d8576b"
             ],
             [
              0.6666666666666666,
              "#ed7953"
             ],
             [
              0.7777777777777778,
              "#fb9f3a"
             ],
             [
              0.8888888888888888,
              "#fdca26"
             ],
             [
              1,
              "#f0f921"
             ]
            ],
            "type": "heatmap"
           }
          ],
          "histogram": [
           {
            "marker": {
             "pattern": {
              "fillmode": "overlay",
              "size": 10,
              "solidity": 0.2
             }
            },
            "type": "histogram"
           }
          ],
          "histogram2d": [
           {
            "colorbar": {
             "outlinewidth": 0,
             "ticks": ""
            },
            "colorscale": [
             [
              0,
              "#0d0887"
             ],
             [
              0.1111111111111111,
              "#46039f"
             ],
             [
              0.2222222222222222,
              "#7201a8"
             ],
             [
              0.3333333333333333,
              "#9c179e"
             ],
             [
              0.4444444444444444,
              "#bd3786"
             ],
             [
              0.5555555555555556,
              "#d8576b"
             ],
             [
              0.6666666666666666,
              "#ed7953"
             ],
             [
              0.7777777777777778,
              "#fb9f3a"
             ],
             [
              0.8888888888888888,
              "#fdca26"
             ],
             [
              1,
              "#f0f921"
             ]
            ],
            "type": "histogram2d"
           }
          ],
          "histogram2dcontour": [
           {
            "colorbar": {
             "outlinewidth": 0,
             "ticks": ""
            },
            "colorscale": [
             [
              0,
              "#0d0887"
             ],
             [
              0.1111111111111111,
              "#46039f"
             ],
             [
              0.2222222222222222,
              "#7201a8"
             ],
             [
              0.3333333333333333,
              "#9c179e"
             ],
             [
              0.4444444444444444,
              "#bd3786"
             ],
             [
              0.5555555555555556,
              "#d8576b"
             ],
             [
              0.6666666666666666,
              "#ed7953"
             ],
             [
              0.7777777777777778,
              "#fb9f3a"
             ],
             [
              0.8888888888888888,
              "#fdca26"
             ],
             [
              1,
              "#f0f921"
             ]
            ],
            "type": "histogram2dcontour"
           }
          ],
          "mesh3d": [
           {
            "colorbar": {
             "outlinewidth": 0,
             "ticks": ""
            },
            "type": "mesh3d"
           }
          ],
          "parcoords": [
           {
            "line": {
             "colorbar": {
              "outlinewidth": 0,
              "ticks": ""
             }
            },
            "type": "parcoords"
           }
          ],
          "pie": [
           {
            "automargin": true,
            "type": "pie"
           }
          ],
          "scatter": [
           {
            "fillpattern": {
             "fillmode": "overlay",
             "size": 10,
             "solidity": 0.2
            },
            "type": "scatter"
           }
          ],
          "scatter3d": [
           {
            "line": {
             "colorbar": {
              "outlinewidth": 0,
              "ticks": ""
             }
            },
            "marker": {
             "colorbar": {
              "outlinewidth": 0,
              "ticks": ""
             }
            },
            "type": "scatter3d"
           }
          ],
          "scattercarpet": [
           {
            "marker": {
             "colorbar": {
              "outlinewidth": 0,
              "ticks": ""
             }
            },
            "type": "scattercarpet"
           }
          ],
          "scattergeo": [
           {
            "marker": {
             "colorbar": {
              "outlinewidth": 0,
              "ticks": ""
             }
            },
            "type": "scattergeo"
           }
          ],
          "scattergl": [
           {
            "marker": {
             "colorbar": {
              "outlinewidth": 0,
              "ticks": ""
             }
            },
            "type": "scattergl"
           }
          ],
          "scattermap": [
           {
            "marker": {
             "colorbar": {
              "outlinewidth": 0,
              "ticks": ""
             }
            },
            "type": "scattermap"
           }
          ],
          "scattermapbox": [
           {
            "marker": {
             "colorbar": {
              "outlinewidth": 0,
              "ticks": ""
             }
            },
            "type": "scattermapbox"
           }
          ],
          "scatterpolar": [
           {
            "marker": {
             "colorbar": {
              "outlinewidth": 0,
              "ticks": ""
             }
            },
            "type": "scatterpolar"
           }
          ],
          "scatterpolargl": [
           {
            "marker": {
             "colorbar": {
              "outlinewidth": 0,
              "ticks": ""
             }
            },
            "type": "scatterpolargl"
           }
          ],
          "scatterternary": [
           {
            "marker": {
             "colorbar": {
              "outlinewidth": 0,
              "ticks": ""
             }
            },
            "type": "scatterternary"
           }
          ],
          "surface": [
           {
            "colorbar": {
             "outlinewidth": 0,
             "ticks": ""
            },
            "colorscale": [
             [
              0,
              "#0d0887"
             ],
             [
              0.1111111111111111,
              "#46039f"
             ],
             [
              0.2222222222222222,
              "#7201a8"
             ],
             [
              0.3333333333333333,
              "#9c179e"
             ],
             [
              0.4444444444444444,
              "#bd3786"
             ],
             [
              0.5555555555555556,
              "#d8576b"
             ],
             [
              0.6666666666666666,
              "#ed7953"
             ],
             [
              0.7777777777777778,
              "#fb9f3a"
             ],
             [
              0.8888888888888888,
              "#fdca26"
             ],
             [
              1,
              "#f0f921"
             ]
            ],
            "type": "surface"
           }
          ],
          "table": [
           {
            "cells": {
             "fill": {
              "color": "#EBF0F8"
             },
             "line": {
              "color": "white"
             }
            },
            "header": {
             "fill": {
              "color": "#C8D4E3"
             },
             "line": {
              "color": "white"
             }
            },
            "type": "table"
           }
          ]
         },
         "layout": {
          "annotationdefaults": {
           "arrowcolor": "#2a3f5f",
           "arrowhead": 0,
           "arrowwidth": 1
          },
          "autotypenumbers": "strict",
          "coloraxis": {
           "colorbar": {
            "outlinewidth": 0,
            "ticks": ""
           }
          },
          "colorscale": {
           "diverging": [
            [
             0,
             "#8e0152"
            ],
            [
             0.1,
             "#c51b7d"
            ],
            [
             0.2,
             "#de77ae"
            ],
            [
             0.3,
             "#f1b6da"
            ],
            [
             0.4,
             "#fde0ef"
            ],
            [
             0.5,
             "#f7f7f7"
            ],
            [
             0.6,
             "#e6f5d0"
            ],
            [
             0.7,
             "#b8e186"
            ],
            [
             0.8,
             "#7fbc41"
            ],
            [
             0.9,
             "#4d9221"
            ],
            [
             1,
             "#276419"
            ]
           ],
           "sequential": [
            [
             0,
             "#0d0887"
            ],
            [
             0.1111111111111111,
             "#46039f"
            ],
            [
             0.2222222222222222,
             "#7201a8"
            ],
            [
             0.3333333333333333,
             "#9c179e"
            ],
            [
             0.4444444444444444,
             "#bd3786"
            ],
            [
             0.5555555555555556,
             "#d8576b"
            ],
            [
             0.6666666666666666,
             "#ed7953"
            ],
            [
             0.7777777777777778,
             "#fb9f3a"
            ],
            [
             0.8888888888888888,
             "#fdca26"
            ],
            [
             1,
             "#f0f921"
            ]
           ],
           "sequentialminus": [
            [
             0,
             "#0d0887"
            ],
            [
             0.1111111111111111,
             "#46039f"
            ],
            [
             0.2222222222222222,
             "#7201a8"
            ],
            [
             0.3333333333333333,
             "#9c179e"
            ],
            [
             0.4444444444444444,
             "#bd3786"
            ],
            [
             0.5555555555555556,
             "#d8576b"
            ],
            [
             0.6666666666666666,
             "#ed7953"
            ],
            [
             0.7777777777777778,
             "#fb9f3a"
            ],
            [
             0.8888888888888888,
             "#fdca26"
            ],
            [
             1,
             "#f0f921"
            ]
           ]
          },
          "colorway": [
           "#636efa",
           "#EF553B",
           "#00cc96",
           "#ab63fa",
           "#FFA15A",
           "#19d3f3",
           "#FF6692",
           "#B6E880",
           "#FF97FF",
           "#FECB52"
          ],
          "font": {
           "color": "#2a3f5f"
          },
          "geo": {
           "bgcolor": "white",
           "lakecolor": "white",
           "landcolor": "#E5ECF6",
           "showlakes": true,
           "showland": true,
           "subunitcolor": "white"
          },
          "hoverlabel": {
           "align": "left"
          },
          "hovermode": "closest",
          "mapbox": {
           "style": "light"
          },
          "paper_bgcolor": "white",
          "plot_bgcolor": "#E5ECF6",
          "polar": {
           "angularaxis": {
            "gridcolor": "white",
            "linecolor": "white",
            "ticks": ""
           },
           "bgcolor": "#E5ECF6",
           "radialaxis": {
            "gridcolor": "white",
            "linecolor": "white",
            "ticks": ""
           }
          },
          "scene": {
           "xaxis": {
            "backgroundcolor": "#E5ECF6",
            "gridcolor": "white",
            "gridwidth": 2,
            "linecolor": "white",
            "showbackground": true,
            "ticks": "",
            "zerolinecolor": "white"
           },
           "yaxis": {
            "backgroundcolor": "#E5ECF6",
            "gridcolor": "white",
            "gridwidth": 2,
            "linecolor": "white",
            "showbackground": true,
            "ticks": "",
            "zerolinecolor": "white"
           },
           "zaxis": {
            "backgroundcolor": "#E5ECF6",
            "gridcolor": "white",
            "gridwidth": 2,
            "linecolor": "white",
            "showbackground": true,
            "ticks": "",
            "zerolinecolor": "white"
           }
          },
          "shapedefaults": {
           "line": {
            "color": "#2a3f5f"
           }
          },
          "ternary": {
           "aaxis": {
            "gridcolor": "white",
            "linecolor": "white",
            "ticks": ""
           },
           "baxis": {
            "gridcolor": "white",
            "linecolor": "white",
            "ticks": ""
           },
           "bgcolor": "#E5ECF6",
           "caxis": {
            "gridcolor": "white",
            "linecolor": "white",
            "ticks": ""
           }
          },
          "title": {
           "x": 0.05
          },
          "xaxis": {
           "automargin": true,
           "gridcolor": "white",
           "linecolor": "white",
           "ticks": "",
           "title": {
            "standoff": 15
           },
           "zerolinecolor": "white",
           "zerolinewidth": 2
          },
          "yaxis": {
           "automargin": true,
           "gridcolor": "white",
           "linecolor": "white",
           "ticks": "",
           "title": {
            "standoff": 15
           },
           "zerolinecolor": "white",
           "zerolinewidth": 2
          }
         }
        },
        "title": {
         "text": "Distribución de nivel de discapacidad"
        },
        "xaxis": {
         "anchor": "y",
         "domain": [
          0,
          1
         ],
         "title": {
          "text": "Nivel de discapacidad"
         }
        },
        "yaxis": {
         "anchor": "x",
         "domain": [
          0,
          1
         ],
         "title": {
          "text": "cantidad"
         }
        }
       }
      }
     },
     "metadata": {},
     "output_type": "display_data"
    },
    {
     "name": "stdout",
     "output_type": "stream",
     "text": [
      "Distribución de nivel de discapacidad:\n",
      "Handcap\n",
      "0    108286\n",
      "1      2042\n",
      "2       183\n",
      "3        13\n",
      "4         3\n",
      "Name: count, dtype: int64\n",
      "\n",
      "Tasa de No-Show por nivel de discapacidad:\n",
      "No-show        No       Yes\n",
      "Handcap                    \n",
      "0        0.797647  0.202353\n",
      "1        0.820764  0.179236\n",
      "2        0.797814  0.202186\n",
      "3        0.769231  0.230769\n",
      "4        0.666667  0.333333\n"
     ]
    }
   ],
   "source": [
    "# Análisis de Handcap (Discapacidad)\n",
    "\n",
    "handcap_counts = archivo['Handcap'].value_counts().sort_index()\n",
    "\n",
    "fig = px.bar(x=handcap_counts.index, \n",
    "             y=handcap_counts.values,\n",
    "             title=\"Distribución de nivel de discapacidad\",\n",
    "             labels={'x': 'Nivel de discapacidad', 'y': 'cantidad'})\n",
    "\n",
    "fig.show()\n",
    "\n",
    "handcap_noshow = pd.crosstab(archivo['Handcap'], \n",
    "                           archivo['No-show'], \n",
    "                           normalize='index')\n",
    "\n",
    "print(\"Distribución de nivel de discapacidad:\")\n",
    "print(handcap_counts)\n",
    "print(\"\\nTasa de No-Show por nivel de discapacidad:\")\n",
    "print(handcap_noshow)# Análisis de Handcap (Discapacidad)\n"
   ]
  },
  {
   "cell_type": "markdown",
   "id": "209f0eab",
   "metadata": {},
   "source": [
    "## Interpretación del análisis por nivel de discapacidad (Handcap)\n",
    "\n",
    "La gráfica anterior muestra la distribución de pacientes según su nivel de discapacidad, y los datos adicionales revelan las tasas de No-Show por cada nivel:\n",
    "\n",
    "### **Distribución de la población:**\n",
    "- **Nivel 0 (Sin discapacidad)**: 70,652 pacientes (98.4% del dataset)\n",
    "- **Nivel 1**: 1,185 pacientes (1.5% del dataset)\n",
    "- **Nivel 2**: 112 pacientes (0.15% del dataset)\n",
    "- **Nivel 3**: 8 pacientes (0.01% del dataset)\n",
    "- **Nivel 4**: 2 pacientes (0.003% del dataset)\n",
    "\n",
    "### **Observaciones de la distribución:**\n",
    "\n",
    "1. La mayoría de pacientes (98.4%) no tienen discapacidad registrada.\n",
    "\n",
    "2. Solo el 1.6% del dataset tiene algún nivel de discapacidad registrado.\n",
    "\n",
    "3. Los niveles más altos de discapacidad tienen muy pocos casos, especialmente los niveles 3 y 4."
   ]
  },
  {
   "cell_type": "code",
   "execution_count": 25,
   "id": "a3ac24e9",
   "metadata": {},
   "outputs": [
    {
     "data": {
      "application/vnd.plotly.v1+json": {
       "config": {
        "plotlyServerURL": "https://plot.ly"
       },
       "data": [
        {
         "hovertemplate": "No-show=No<br>DayOfWeek=%{x}<br>Proporción=%{y}<extra></extra>",
         "legendgroup": "No",
         "marker": {
          "color": "#636efa",
          "pattern": {
           "shape": ""
          }
         },
         "name": "No",
         "orientation": "v",
         "showlegend": true,
         "textposition": "auto",
         "type": "bar",
         "x": [
          "Monday",
          "Tuesday",
          "Wednesday",
          "Thursday",
          "Friday",
          "Saturday"
         ],
         "xaxis": "x",
         "y": {
          "bdata": "9GZj5JVk6T/eOlOW7pHpP89+ufsPs+k/yml3TYPO6T9Sk12IJzXpP9mJndiJneg/",
          "dtype": "f8"
         },
         "yaxis": "y"
        },
        {
         "hovertemplate": "No-show=Yes<br>DayOfWeek=%{x}<br>Proporción=%{y}<extra></extra>",
         "legendgroup": "Yes",
         "marker": {
          "color": "#EF553B",
          "pattern": {
           "shape": ""
          }
         },
         "name": "Yes",
         "orientation": "v",
         "showlegend": true,
         "textposition": "auto",
         "type": "bar",
         "x": [
          "Monday",
          "Tuesday",
          "Wednesday",
          "Thursday",
          "Friday",
          "Saturday"
         ],
         "xaxis": "x",
         "y": {
          "bdata": "MWRybqhtyj+HFLOmRbjJP8UEGhHAM8k/2lgiyvLFyD+2soneYSvLP57YiZ3Yic0/",
          "dtype": "f8"
         },
         "yaxis": "y"
        }
       ],
       "layout": {
        "barmode": "relative",
        "legend": {
         "title": {
          "text": "No-show"
         },
         "tracegroupgap": 0
        },
        "template": {
         "data": {
          "bar": [
           {
            "error_x": {
             "color": "#2a3f5f"
            },
            "error_y": {
             "color": "#2a3f5f"
            },
            "marker": {
             "line": {
              "color": "#E5ECF6",
              "width": 0.5
             },
             "pattern": {
              "fillmode": "overlay",
              "size": 10,
              "solidity": 0.2
             }
            },
            "type": "bar"
           }
          ],
          "barpolar": [
           {
            "marker": {
             "line": {
              "color": "#E5ECF6",
              "width": 0.5
             },
             "pattern": {
              "fillmode": "overlay",
              "size": 10,
              "solidity": 0.2
             }
            },
            "type": "barpolar"
           }
          ],
          "carpet": [
           {
            "aaxis": {
             "endlinecolor": "#2a3f5f",
             "gridcolor": "white",
             "linecolor": "white",
             "minorgridcolor": "white",
             "startlinecolor": "#2a3f5f"
            },
            "baxis": {
             "endlinecolor": "#2a3f5f",
             "gridcolor": "white",
             "linecolor": "white",
             "minorgridcolor": "white",
             "startlinecolor": "#2a3f5f"
            },
            "type": "carpet"
           }
          ],
          "choropleth": [
           {
            "colorbar": {
             "outlinewidth": 0,
             "ticks": ""
            },
            "type": "choropleth"
           }
          ],
          "contour": [
           {
            "colorbar": {
             "outlinewidth": 0,
             "ticks": ""
            },
            "colorscale": [
             [
              0,
              "#0d0887"
             ],
             [
              0.1111111111111111,
              "#46039f"
             ],
             [
              0.2222222222222222,
              "#7201a8"
             ],
             [
              0.3333333333333333,
              "#9c179e"
             ],
             [
              0.4444444444444444,
              "#bd3786"
             ],
             [
              0.5555555555555556,
              "#d8576b"
             ],
             [
              0.6666666666666666,
              "#ed7953"
             ],
             [
              0.7777777777777778,
              "#fb9f3a"
             ],
             [
              0.8888888888888888,
              "#fdca26"
             ],
             [
              1,
              "#f0f921"
             ]
            ],
            "type": "contour"
           }
          ],
          "contourcarpet": [
           {
            "colorbar": {
             "outlinewidth": 0,
             "ticks": ""
            },
            "type": "contourcarpet"
           }
          ],
          "heatmap": [
           {
            "colorbar": {
             "outlinewidth": 0,
             "ticks": ""
            },
            "colorscale": [
             [
              0,
              "#0d0887"
             ],
             [
              0.1111111111111111,
              "#46039f"
             ],
             [
              0.2222222222222222,
              "#7201a8"
             ],
             [
              0.3333333333333333,
              "#9c179e"
             ],
             [
              0.4444444444444444,
              "#bd3786"
             ],
             [
              0.5555555555555556,
              "#d8576b"
             ],
             [
              0.6666666666666666,
              "#ed7953"
             ],
             [
              0.7777777777777778,
              "#fb9f3a"
             ],
             [
              0.8888888888888888,
              "#fdca26"
             ],
             [
              1,
              "#f0f921"
             ]
            ],
            "type": "heatmap"
           }
          ],
          "histogram": [
           {
            "marker": {
             "pattern": {
              "fillmode": "overlay",
              "size": 10,
              "solidity": 0.2
             }
            },
            "type": "histogram"
           }
          ],
          "histogram2d": [
           {
            "colorbar": {
             "outlinewidth": 0,
             "ticks": ""
            },
            "colorscale": [
             [
              0,
              "#0d0887"
             ],
             [
              0.1111111111111111,
              "#46039f"
             ],
             [
              0.2222222222222222,
              "#7201a8"
             ],
             [
              0.3333333333333333,
              "#9c179e"
             ],
             [
              0.4444444444444444,
              "#bd3786"
             ],
             [
              0.5555555555555556,
              "#d8576b"
             ],
             [
              0.6666666666666666,
              "#ed7953"
             ],
             [
              0.7777777777777778,
              "#fb9f3a"
             ],
             [
              0.8888888888888888,
              "#fdca26"
             ],
             [
              1,
              "#f0f921"
             ]
            ],
            "type": "histogram2d"
           }
          ],
          "histogram2dcontour": [
           {
            "colorbar": {
             "outlinewidth": 0,
             "ticks": ""
            },
            "colorscale": [
             [
              0,
              "#0d0887"
             ],
             [
              0.1111111111111111,
              "#46039f"
             ],
             [
              0.2222222222222222,
              "#7201a8"
             ],
             [
              0.3333333333333333,
              "#9c179e"
             ],
             [
              0.4444444444444444,
              "#bd3786"
             ],
             [
              0.5555555555555556,
              "#d8576b"
             ],
             [
              0.6666666666666666,
              "#ed7953"
             ],
             [
              0.7777777777777778,
              "#fb9f3a"
             ],
             [
              0.8888888888888888,
              "#fdca26"
             ],
             [
              1,
              "#f0f921"
             ]
            ],
            "type": "histogram2dcontour"
           }
          ],
          "mesh3d": [
           {
            "colorbar": {
             "outlinewidth": 0,
             "ticks": ""
            },
            "type": "mesh3d"
           }
          ],
          "parcoords": [
           {
            "line": {
             "colorbar": {
              "outlinewidth": 0,
              "ticks": ""
             }
            },
            "type": "parcoords"
           }
          ],
          "pie": [
           {
            "automargin": true,
            "type": "pie"
           }
          ],
          "scatter": [
           {
            "fillpattern": {
             "fillmode": "overlay",
             "size": 10,
             "solidity": 0.2
            },
            "type": "scatter"
           }
          ],
          "scatter3d": [
           {
            "line": {
             "colorbar": {
              "outlinewidth": 0,
              "ticks": ""
             }
            },
            "marker": {
             "colorbar": {
              "outlinewidth": 0,
              "ticks": ""
             }
            },
            "type": "scatter3d"
           }
          ],
          "scattercarpet": [
           {
            "marker": {
             "colorbar": {
              "outlinewidth": 0,
              "ticks": ""
             }
            },
            "type": "scattercarpet"
           }
          ],
          "scattergeo": [
           {
            "marker": {
             "colorbar": {
              "outlinewidth": 0,
              "ticks": ""
             }
            },
            "type": "scattergeo"
           }
          ],
          "scattergl": [
           {
            "marker": {
             "colorbar": {
              "outlinewidth": 0,
              "ticks": ""
             }
            },
            "type": "scattergl"
           }
          ],
          "scattermap": [
           {
            "marker": {
             "colorbar": {
              "outlinewidth": 0,
              "ticks": ""
             }
            },
            "type": "scattermap"
           }
          ],
          "scattermapbox": [
           {
            "marker": {
             "colorbar": {
              "outlinewidth": 0,
              "ticks": ""
             }
            },
            "type": "scattermapbox"
           }
          ],
          "scatterpolar": [
           {
            "marker": {
             "colorbar": {
              "outlinewidth": 0,
              "ticks": ""
             }
            },
            "type": "scatterpolar"
           }
          ],
          "scatterpolargl": [
           {
            "marker": {
             "colorbar": {
              "outlinewidth": 0,
              "ticks": ""
             }
            },
            "type": "scatterpolargl"
           }
          ],
          "scatterternary": [
           {
            "marker": {
             "colorbar": {
              "outlinewidth": 0,
              "ticks": ""
             }
            },
            "type": "scatterternary"
           }
          ],
          "surface": [
           {
            "colorbar": {
             "outlinewidth": 0,
             "ticks": ""
            },
            "colorscale": [
             [
              0,
              "#0d0887"
             ],
             [
              0.1111111111111111,
              "#46039f"
             ],
             [
              0.2222222222222222,
              "#7201a8"
             ],
             [
              0.3333333333333333,
              "#9c179e"
             ],
             [
              0.4444444444444444,
              "#bd3786"
             ],
             [
              0.5555555555555556,
              "#d8576b"
             ],
             [
              0.6666666666666666,
              "#ed7953"
             ],
             [
              0.7777777777777778,
              "#fb9f3a"
             ],
             [
              0.8888888888888888,
              "#fdca26"
             ],
             [
              1,
              "#f0f921"
             ]
            ],
            "type": "surface"
           }
          ],
          "table": [
           {
            "cells": {
             "fill": {
              "color": "#EBF0F8"
             },
             "line": {
              "color": "white"
             }
            },
            "header": {
             "fill": {
              "color": "#C8D4E3"
             },
             "line": {
              "color": "white"
             }
            },
            "type": "table"
           }
          ]
         },
         "layout": {
          "annotationdefaults": {
           "arrowcolor": "#2a3f5f",
           "arrowhead": 0,
           "arrowwidth": 1
          },
          "autotypenumbers": "strict",
          "coloraxis": {
           "colorbar": {
            "outlinewidth": 0,
            "ticks": ""
           }
          },
          "colorscale": {
           "diverging": [
            [
             0,
             "#8e0152"
            ],
            [
             0.1,
             "#c51b7d"
            ],
            [
             0.2,
             "#de77ae"
            ],
            [
             0.3,
             "#f1b6da"
            ],
            [
             0.4,
             "#fde0ef"
            ],
            [
             0.5,
             "#f7f7f7"
            ],
            [
             0.6,
             "#e6f5d0"
            ],
            [
             0.7,
             "#b8e186"
            ],
            [
             0.8,
             "#7fbc41"
            ],
            [
             0.9,
             "#4d9221"
            ],
            [
             1,
             "#276419"
            ]
           ],
           "sequential": [
            [
             0,
             "#0d0887"
            ],
            [
             0.1111111111111111,
             "#46039f"
            ],
            [
             0.2222222222222222,
             "#7201a8"
            ],
            [
             0.3333333333333333,
             "#9c179e"
            ],
            [
             0.4444444444444444,
             "#bd3786"
            ],
            [
             0.5555555555555556,
             "#d8576b"
            ],
            [
             0.6666666666666666,
             "#ed7953"
            ],
            [
             0.7777777777777778,
             "#fb9f3a"
            ],
            [
             0.8888888888888888,
             "#fdca26"
            ],
            [
             1,
             "#f0f921"
            ]
           ],
           "sequentialminus": [
            [
             0,
             "#0d0887"
            ],
            [
             0.1111111111111111,
             "#46039f"
            ],
            [
             0.2222222222222222,
             "#7201a8"
            ],
            [
             0.3333333333333333,
             "#9c179e"
            ],
            [
             0.4444444444444444,
             "#bd3786"
            ],
            [
             0.5555555555555556,
             "#d8576b"
            ],
            [
             0.6666666666666666,
             "#ed7953"
            ],
            [
             0.7777777777777778,
             "#fb9f3a"
            ],
            [
             0.8888888888888888,
             "#fdca26"
            ],
            [
             1,
             "#f0f921"
            ]
           ]
          },
          "colorway": [
           "#636efa",
           "#EF553B",
           "#00cc96",
           "#ab63fa",
           "#FFA15A",
           "#19d3f3",
           "#FF6692",
           "#B6E880",
           "#FF97FF",
           "#FECB52"
          ],
          "font": {
           "color": "#2a3f5f"
          },
          "geo": {
           "bgcolor": "white",
           "lakecolor": "white",
           "landcolor": "#E5ECF6",
           "showlakes": true,
           "showland": true,
           "subunitcolor": "white"
          },
          "hoverlabel": {
           "align": "left"
          },
          "hovermode": "closest",
          "mapbox": {
           "style": "light"
          },
          "paper_bgcolor": "white",
          "plot_bgcolor": "#E5ECF6",
          "polar": {
           "angularaxis": {
            "gridcolor": "white",
            "linecolor": "white",
            "ticks": ""
           },
           "bgcolor": "#E5ECF6",
           "radialaxis": {
            "gridcolor": "white",
            "linecolor": "white",
            "ticks": ""
           }
          },
          "scene": {
           "xaxis": {
            "backgroundcolor": "#E5ECF6",
            "gridcolor": "white",
            "gridwidth": 2,
            "linecolor": "white",
            "showbackground": true,
            "ticks": "",
            "zerolinecolor": "white"
           },
           "yaxis": {
            "backgroundcolor": "#E5ECF6",
            "gridcolor": "white",
            "gridwidth": 2,
            "linecolor": "white",
            "showbackground": true,
            "ticks": "",
            "zerolinecolor": "white"
           },
           "zaxis": {
            "backgroundcolor": "#E5ECF6",
            "gridcolor": "white",
            "gridwidth": 2,
            "linecolor": "white",
            "showbackground": true,
            "ticks": "",
            "zerolinecolor": "white"
           }
          },
          "shapedefaults": {
           "line": {
            "color": "#2a3f5f"
           }
          },
          "ternary": {
           "aaxis": {
            "gridcolor": "white",
            "linecolor": "white",
            "ticks": ""
           },
           "baxis": {
            "gridcolor": "white",
            "linecolor": "white",
            "ticks": ""
           },
           "bgcolor": "#E5ECF6",
           "caxis": {
            "gridcolor": "white",
            "linecolor": "white",
            "ticks": ""
           }
          },
          "title": {
           "x": 0.05
          },
          "xaxis": {
           "automargin": true,
           "gridcolor": "white",
           "linecolor": "white",
           "ticks": "",
           "title": {
            "standoff": 15
           },
           "zerolinecolor": "white",
           "zerolinewidth": 2
          },
          "yaxis": {
           "automargin": true,
           "gridcolor": "white",
           "linecolor": "white",
           "ticks": "",
           "title": {
            "standoff": 15
           },
           "zerolinecolor": "white",
           "zerolinewidth": 2
          }
         }
        },
        "title": {
         "text": "Tasa de No-Show por día de la semana"
        },
        "xaxis": {
         "anchor": "y",
         "domain": [
          0,
          1
         ],
         "title": {
          "text": "DayOfWeek"
         }
        },
        "yaxis": {
         "anchor": "x",
         "domain": [
          0,
          1
         ],
         "title": {
          "text": "Proporción"
         }
        }
       }
      }
     },
     "metadata": {},
     "output_type": "display_data"
    },
    {
     "name": "stdout",
     "output_type": "stream",
     "text": [
      "Tasa de No-Show por día de la semana:\n",
      "No-show          No       Yes\n",
      "DayOfWeek                    \n",
      "Monday     0.793529  0.206471\n",
      "Tuesday    0.799064  0.200936\n",
      "Wednesday  0.803108  0.196892\n",
      "Thursday   0.806459  0.193541\n",
      "Friday     0.787739  0.212261\n",
      "Saturday   0.769231  0.230769\n"
     ]
    }
   ],
   "source": [
    "#días de la semana\n",
    "\n",
    "# Convertir fechas\n",
    "archivo['ScheduledDay'] = pd.to_datetime(archivo['ScheduledDay'])\n",
    "archivo['AppointmentDay'] = pd.to_datetime(archivo['AppointmentDay'])\n",
    "\n",
    "# Extraer día de la semana\n",
    "archivo['DayOfWeek'] = archivo['AppointmentDay'].dt.day_name()\n",
    "\n",
    "# Ordenar días de la semana\n",
    "day_order = ['Monday', 'Tuesday', 'Wednesday', 'Thursday', 'Friday', 'Saturday', 'Sunday']\n",
    "archivo['DayOfWeek'] = pd.Categorical(archivo['DayOfWeek'], \n",
    "                                                  categories=day_order, \n",
    "                                                  ordered=True)\n",
    "\n",
    "day_noshow = pd.crosstab(archivo['DayOfWeek'], \n",
    "                        archivo['No-show'], \n",
    "                        normalize='index')\n",
    "\n",
    "fig = px.bar(day_noshow, \n",
    "             title=\"Tasa de No-Show por día de la semana\",\n",
    "             labels={'value': 'Proporción', 'index': 'Día de la semana'})\n",
    "\n",
    "fig.show()\n",
    "\n",
    "print(\"Tasa de No-Show por día de la semana:\")\n",
    "print(day_noshow)"
   ]
  },
  {
   "cell_type": "markdown",
   "id": "2084c744",
   "metadata": {},
   "source": [
    "## Interpretación del análisis por día de la semana\n",
    "\n",
    "La gráfica anterior muestra la tasa de No-Show según el día de la semana en que está programada la cita médica:\n",
    "\n",
    "### **Tasas de No-Show por día:**\n",
    "- **Lunes**: 30.2% (la tasa más alta)\n",
    "- **Martes**: 28.7%\n",
    "- **Miércoles**: 27.1% (la tasa más baja)\n",
    "- **Jueves**: 27.3%\n",
    "- **Viernes**: 29.4%\n",
    "- **Sábado**: 29.0%\n",
    "\n",
    "### **Observaciones:**\n",
    "\n",
    "Diferencia de 3.1 puntos porcentuales entre el día con mayor (Lunes: 30.2%) y menor (Miércoles: 27.1%) No-Show\n",
    "No hay datos para domingo"
   ]
  },
  {
   "cell_type": "code",
   "execution_count": 26,
   "id": "a1ba1945",
   "metadata": {},
   "outputs": [
    {
     "data": {
      "application/vnd.plotly.v1+json": {
       "config": {
        "plotlyServerURL": "https://plot.ly"
       },
       "data": [
        {
         "bingroup": "x",
         "hovertemplate": "No-show=No<br>Days_Advance=%{x}<br>count=%{y}<extra></extra>",
         "legendgroup": "No",
         "marker": {
          "color": "#636efa",
          "pattern": {
           "shape": ""
          }
         },
         "name": "No",
         "nbinsx": 30,
         "orientation": "v",
         "showlegend": true,
         "type": "histogram",
         "x": {
          "bdata": "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",
          "dtype": "i2"
         },
         "xaxis": "x",
         "yaxis": "y"
        },
        {
         "bingroup": "x",
         "hovertemplate": "No-show=Yes<br>Days_Advance=%{x}<br>count=%{y}<extra></extra>",
         "legendgroup": "Yes",
         "marker": {
          "color": "#EF553B",
          "pattern": {
           "shape": ""
          }
         },
         "name": "Yes",
         "nbinsx": 30,
         "orientation": "v",
         "showlegend": true,
         "type": "histogram",
         "x": {
          "bdata": "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",
          "dtype": "i2"
         },
         "xaxis": "x",
         "yaxis": "y"
        }
       ],
       "layout": {
        "barmode": "relative",
        "legend": {
         "title": {
          "text": "No-show"
         },
         "tracegroupgap": 0
        },
        "template": {
         "data": {
          "bar": [
           {
            "error_x": {
             "color": "#2a3f5f"
            },
            "error_y": {
             "color": "#2a3f5f"
            },
            "marker": {
             "line": {
              "color": "#E5ECF6",
              "width": 0.5
             },
             "pattern": {
              "fillmode": "overlay",
              "size": 10,
              "solidity": 0.2
             }
            },
            "type": "bar"
           }
          ],
          "barpolar": [
           {
            "marker": {
             "line": {
              "color": "#E5ECF6",
              "width": 0.5
             },
             "pattern": {
              "fillmode": "overlay",
              "size": 10,
              "solidity": 0.2
             }
            },
            "type": "barpolar"
           }
          ],
          "carpet": [
           {
            "aaxis": {
             "endlinecolor": "#2a3f5f",
             "gridcolor": "white",
             "linecolor": "white",
             "minorgridcolor": "white",
             "startlinecolor": "#2a3f5f"
            },
            "baxis": {
             "endlinecolor": "#2a3f5f",
             "gridcolor": "white",
             "linecolor": "white",
             "minorgridcolor": "white",
             "startlinecolor": "#2a3f5f"
            },
            "type": "carpet"
           }
          ],
          "choropleth": [
           {
            "colorbar": {
             "outlinewidth": 0,
             "ticks": ""
            },
            "type": "choropleth"
           }
          ],
          "contour": [
           {
            "colorbar": {
             "outlinewidth": 0,
             "ticks": ""
            },
            "colorscale": [
             [
              0,
              "#0d0887"
             ],
             [
              0.1111111111111111,
              "#46039f"
             ],
             [
              0.2222222222222222,
              "#7201a8"
             ],
             [
              0.3333333333333333,
              "#9c179e"
             ],
             [
              0.4444444444444444,
              "#bd3786"
             ],
             [
              0.5555555555555556,
              "#d8576b"
             ],
             [
              0.6666666666666666,
              "#ed7953"
             ],
             [
              0.7777777777777778,
              "#fb9f3a"
             ],
             [
              0.8888888888888888,
              "#fdca26"
             ],
             [
              1,
              "#f0f921"
             ]
            ],
            "type": "contour"
           }
          ],
          "contourcarpet": [
           {
            "colorbar": {
             "outlinewidth": 0,
             "ticks": ""
            },
            "type": "contourcarpet"
           }
          ],
          "heatmap": [
           {
            "colorbar": {
             "outlinewidth": 0,
             "ticks": ""
            },
            "colorscale": [
             [
              0,
              "#0d0887"
             ],
             [
              0.1111111111111111,
              "#46039f"
             ],
             [
              0.2222222222222222,
              "#7201a8"
             ],
             [
              0.3333333333333333,
              "#9c179e"
             ],
             [
              0.4444444444444444,
              "#bd3786"
             ],
             [
              0.5555555555555556,
              "#d8576b"
             ],
             [
              0.6666666666666666,
              "#ed7953"
             ],
             [
              0.7777777777777778,
              "#fb9f3a"
             ],
             [
              0.8888888888888888,
              "#fdca26"
             ],
             [
              1,
              "#f0f921"
             ]
            ],
            "type": "heatmap"
           }
          ],
          "histogram": [
           {
            "marker": {
             "pattern": {
              "fillmode": "overlay",
              "size": 10,
              "solidity": 0.2
             }
            },
            "type": "histogram"
           }
          ],
          "histogram2d": [
           {
            "colorbar": {
             "outlinewidth": 0,
             "ticks": ""
            },
            "colorscale": [
             [
              0,
              "#0d0887"
             ],
             [
              0.1111111111111111,
              "#46039f"
             ],
             [
              0.2222222222222222,
              "#7201a8"
             ],
             [
              0.3333333333333333,
              "#9c179e"
             ],
             [
              0.4444444444444444,
              "#bd3786"
             ],
             [
              0.5555555555555556,
              "#d8576b"
             ],
             [
              0.6666666666666666,
              "#ed7953"
             ],
             [
              0.7777777777777778,
              "#fb9f3a"
             ],
             [
              0.8888888888888888,
              "#fdca26"
             ],
             [
              1,
              "#f0f921"
             ]
            ],
            "type": "histogram2d"
           }
          ],
          "histogram2dcontour": [
           {
            "colorbar": {
             "outlinewidth": 0,
             "ticks": ""
            },
            "colorscale": [
             [
              0,
              "#0d0887"
             ],
             [
              0.1111111111111111,
              "#46039f"
             ],
             [
              0.2222222222222222,
              "#7201a8"
             ],
             [
              0.3333333333333333,
              "#9c179e"
             ],
             [
              0.4444444444444444,
              "#bd3786"
             ],
             [
              0.5555555555555556,
              "#d8576b"
             ],
             [
              0.6666666666666666,
              "#ed7953"
             ],
             [
              0.7777777777777778,
              "#fb9f3a"
             ],
             [
              0.8888888888888888,
              "#fdca26"
             ],
             [
              1,
              "#f0f921"
             ]
            ],
            "type": "histogram2dcontour"
           }
          ],
          "mesh3d": [
           {
            "colorbar": {
             "outlinewidth": 0,
             "ticks": ""
            },
            "type": "mesh3d"
           }
          ],
          "parcoords": [
           {
            "line": {
             "colorbar": {
              "outlinewidth": 0,
              "ticks": ""
             }
            },
            "type": "parcoords"
           }
          ],
          "pie": [
           {
            "automargin": true,
            "type": "pie"
           }
          ],
          "scatter": [
           {
            "fillpattern": {
             "fillmode": "overlay",
             "size": 10,
             "solidity": 0.2
            },
            "type": "scatter"
           }
          ],
          "scatter3d": [
           {
            "line": {
             "colorbar": {
              "outlinewidth": 0,
              "ticks": ""
             }
            },
            "marker": {
             "colorbar": {
              "outlinewidth": 0,
              "ticks": ""
             }
            },
            "type": "scatter3d"
           }
          ],
          "scattercarpet": [
           {
            "marker": {
             "colorbar": {
              "outlinewidth": 0,
              "ticks": ""
             }
            },
            "type": "scattercarpet"
           }
          ],
          "scattergeo": [
           {
            "marker": {
             "colorbar": {
              "outlinewidth": 0,
              "ticks": ""
             }
            },
            "type": "scattergeo"
           }
          ],
          "scattergl": [
           {
            "marker": {
             "colorbar": {
              "outlinewidth": 0,
              "ticks": ""
             }
            },
            "type": "scattergl"
           }
          ],
          "scattermap": [
           {
            "marker": {
             "colorbar": {
              "outlinewidth": 0,
              "ticks": ""
             }
            },
            "type": "scattermap"
           }
          ],
          "scattermapbox": [
           {
            "marker": {
             "colorbar": {
              "outlinewidth": 0,
              "ticks": ""
             }
            },
            "type": "scattermapbox"
           }
          ],
          "scatterpolar": [
           {
            "marker": {
             "colorbar": {
              "outlinewidth": 0,
              "ticks": ""
             }
            },
            "type": "scatterpolar"
           }
          ],
          "scatterpolargl": [
           {
            "marker": {
             "colorbar": {
              "outlinewidth": 0,
              "ticks": ""
             }
            },
            "type": "scatterpolargl"
           }
          ],
          "scatterternary": [
           {
            "marker": {
             "colorbar": {
              "outlinewidth": 0,
              "ticks": ""
             }
            },
            "type": "scatterternary"
           }
          ],
          "surface": [
           {
            "colorbar": {
             "outlinewidth": 0,
             "ticks": ""
            },
            "colorscale": [
             [
              0,
              "#0d0887"
             ],
             [
              0.1111111111111111,
              "#46039f"
             ],
             [
              0.2222222222222222,
              "#7201a8"
             ],
             [
              0.3333333333333333,
              "#9c179e"
             ],
             [
              0.4444444444444444,
              "#bd3786"
             ],
             [
              0.5555555555555556,
              "#d8576b"
             ],
             [
              0.6666666666666666,
              "#ed7953"
             ],
             [
              0.7777777777777778,
              "#fb9f3a"
             ],
             [
              0.8888888888888888,
              "#fdca26"
             ],
             [
              1,
              "#f0f921"
             ]
            ],
            "type": "surface"
           }
          ],
          "table": [
           {
            "cells": {
             "fill": {
              "color": "#EBF0F8"
             },
             "line": {
              "color": "white"
             }
            },
            "header": {
             "fill": {
              "color": "#C8D4E3"
             },
             "line": {
              "color": "white"
             }
            },
            "type": "table"
           }
          ]
         },
         "layout": {
          "annotationdefaults": {
           "arrowcolor": "#2a3f5f",
           "arrowhead": 0,
           "arrowwidth": 1
          },
          "autotypenumbers": "strict",
          "coloraxis": {
           "colorbar": {
            "outlinewidth": 0,
            "ticks": ""
           }
          },
          "colorscale": {
           "diverging": [
            [
             0,
             "#8e0152"
            ],
            [
             0.1,
             "#c51b7d"
            ],
            [
             0.2,
             "#de77ae"
            ],
            [
             0.3,
             "#f1b6da"
            ],
            [
             0.4,
             "#fde0ef"
            ],
            [
             0.5,
             "#f7f7f7"
            ],
            [
             0.6,
             "#e6f5d0"
            ],
            [
             0.7,
             "#b8e186"
            ],
            [
             0.8,
             "#7fbc41"
            ],
            [
             0.9,
             "#4d9221"
            ],
            [
             1,
             "#276419"
            ]
           ],
           "sequential": [
            [
             0,
             "#0d0887"
            ],
            [
             0.1111111111111111,
             "#46039f"
            ],
            [
             0.2222222222222222,
             "#7201a8"
            ],
            [
             0.3333333333333333,
             "#9c179e"
            ],
            [
             0.4444444444444444,
             "#bd3786"
            ],
            [
             0.5555555555555556,
             "#d8576b"
            ],
            [
             0.6666666666666666,
             "#ed7953"
            ],
            [
             0.7777777777777778,
             "#fb9f3a"
            ],
            [
             0.8888888888888888,
             "#fdca26"
            ],
            [
             1,
             "#f0f921"
            ]
           ],
           "sequentialminus": [
            [
             0,
             "#0d0887"
            ],
            [
             0.1111111111111111,
             "#46039f"
            ],
            [
             0.2222222222222222,
             "#7201a8"
            ],
            [
             0.3333333333333333,
             "#9c179e"
            ],
            [
             0.4444444444444444,
             "#bd3786"
            ],
            [
             0.5555555555555556,
             "#d8576b"
            ],
            [
             0.6666666666666666,
             "#ed7953"
            ],
            [
             0.7777777777777778,
             "#fb9f3a"
            ],
            [
             0.8888888888888888,
             "#fdca26"
            ],
            [
             1,
             "#f0f921"
            ]
           ]
          },
          "colorway": [
           "#636efa",
           "#EF553B",
           "#00cc96",
           "#ab63fa",
           "#FFA15A",
           "#19d3f3",
           "#FF6692",
           "#B6E880",
           "#FF97FF",
           "#FECB52"
          ],
          "font": {
           "color": "#2a3f5f"
          },
          "geo": {
           "bgcolor": "white",
           "lakecolor": "white",
           "landcolor": "#E5ECF6",
           "showlakes": true,
           "showland": true,
           "subunitcolor": "white"
          },
          "hoverlabel": {
           "align": "left"
          },
          "hovermode": "closest",
          "mapbox": {
           "style": "light"
          },
          "paper_bgcolor": "white",
          "plot_bgcolor": "#E5ECF6",
          "polar": {
           "angularaxis": {
            "gridcolor": "white",
            "linecolor": "white",
            "ticks": ""
           },
           "bgcolor": "#E5ECF6",
           "radialaxis": {
            "gridcolor": "white",
            "linecolor": "white",
            "ticks": ""
           }
          },
          "scene": {
           "xaxis": {
            "backgroundcolor": "#E5ECF6",
            "gridcolor": "white",
            "gridwidth": 2,
            "linecolor": "white",
            "showbackground": true,
            "ticks": "",
            "zerolinecolor": "white"
           },
           "yaxis": {
            "backgroundcolor": "#E5ECF6",
            "gridcolor": "white",
            "gridwidth": 2,
            "linecolor": "white",
            "showbackground": true,
            "ticks": "",
            "zerolinecolor": "white"
           },
           "zaxis": {
            "backgroundcolor": "#E5ECF6",
            "gridcolor": "white",
            "gridwidth": 2,
            "linecolor": "white",
            "showbackground": true,
            "ticks": "",
            "zerolinecolor": "white"
           }
          },
          "shapedefaults": {
           "line": {
            "color": "#2a3f5f"
           }
          },
          "ternary": {
           "aaxis": {
            "gridcolor": "white",
            "linecolor": "white",
            "ticks": ""
           },
           "baxis": {
            "gridcolor": "white",
            "linecolor": "white",
            "ticks": ""
           },
           "bgcolor": "#E5ECF6",
           "caxis": {
            "gridcolor": "white",
            "linecolor": "white",
            "ticks": ""
           }
          },
          "title": {
           "x": 0.05
          },
          "xaxis": {
           "automargin": true,
           "gridcolor": "white",
           "linecolor": "white",
           "ticks": "",
           "title": {
            "standoff": 15
           },
           "zerolinecolor": "white",
           "zerolinewidth": 2
          },
          "yaxis": {
           "automargin": true,
           "gridcolor": "white",
           "linecolor": "white",
           "ticks": "",
           "title": {
            "standoff": 15
           },
           "zerolinecolor": "white",
           "zerolinewidth": 2
          }
         }
        },
        "title": {
         "text": "Distribución de Días de Anticipación por No-Show"
        },
        "xaxis": {
         "anchor": "y",
         "domain": [
          0,
          1
         ],
         "title": {
          "text": "Days_Advance"
         }
        },
        "yaxis": {
         "anchor": "x",
         "domain": [
          0,
          1
         ],
         "title": {
          "text": "count"
         }
        }
       }
      }
     },
     "metadata": {},
     "output_type": "display_data"
    },
    {
     "name": "stdout",
     "output_type": "stream",
     "text": [
      "Estadísticas de días de anticipación:\n",
      "           count       mean        std  min  25%   50%   75%    max\n",
      "No-show                                                            \n",
      "No       51437.0  14.013142  16.404411  0.0  3.0   7.0  20.0  178.0\n",
      "Yes      20522.0  16.218254  16.613713  0.0  4.0  12.0  24.0  178.0\n"
     ]
    }
   ],
   "source": [
    "# Análisis de tiempo entre programación y cita\n",
    "\n",
    "archivo['Days_Advance'] = (archivo['AppointmentDay'] - \n",
    "                                       archivo['ScheduledDay']).dt.days\n",
    "\n",
    "# Filtrar valores negativos inconsistencias en datos\n",
    "archivo = archivo[archivo['Days_Advance'] >= 0]\n",
    "\n",
    "fig = px.histogram(archivo, \n",
    "                   x='Days_Advance', \n",
    "                   color='No-show',\n",
    "                   title=\"Distribución de Días de Anticipación por No-Show\",\n",
    "                   nbins=30)\n",
    "\n",
    "fig.show()\n",
    "\n",
    "print(\"Estadísticas de días de anticipación:\")\n",
    "print(archivo.groupby('No-show')['Days_Advance'].describe())"
   ]
  },
  {
   "cell_type": "markdown",
   "id": "50488aea",
   "metadata": {},
   "source": [
    "## Interpretación del análisis de días de anticipación\n",
    "\n",
    "La gráfica anterior muestra la distribución de días de anticipación entre la programación y la fecha de la cita, segmentada por comportamiento de No-Show:\n",
    "\n",
    "La mayoría de citas se programan con poca anticipación:\n",
    "   - Gran volumen de citas programadas entre 0-20 días de anticipación\n",
    "   - Pico máximo en los primeros días (0-5 días)\n",
    "\n",
    "A mayor tiempo de anticipación, mayor probabilidad de que el paciente no asista.\n",
    "\n",
    "Los días de anticipación son un predictor de No-Show\n"
   ]
  },
  {
   "cell_type": "code",
   "execution_count": 27,
   "id": "c3e4135a",
   "metadata": {},
   "outputs": [
    {
     "data": {
      "application/vnd.plotly.v1+json": {
       "config": {
        "plotlyServerURL": "https://plot.ly"
       },
       "data": [
        {
         "hovertemplate": "No-show=No<br>Neighbourhood=%{x}<br>Proporción=%{y}<extra></extra>",
         "legendgroup": "No",
         "marker": {
          "color": "#636efa",
          "pattern": {
           "shape": ""
          }
         },
         "name": "No",
         "orientation": "v",
         "showlegend": true,
         "textposition": "auto",
         "type": "bar",
         "x": [
          "JESUS DE NAZARETH",
          "ITARARÉ",
          "CARATOÍRA",
          "MARIA ORTIZ",
          "RESISTÊNCIA",
          "BONFIM",
          "CENTRO",
          "TABUAZEIRO",
          "JARDIM CAMBURI",
          "JARDIM DA PENHA"
         ],
         "xaxis": "x",
         "y": {
          "bdata": "CUCrXpUA5D8QHGfFJFLkP6DGoC4kw+U/j34226s85j/KqN+xrUTmP3yWD7KFY+Y/nt6rWnLL5j8GdOYvZkDnP1RZKS5kqOc/JV0GAvXN6D8=",
          "dtype": "f8"
         },
         "yaxis": "y"
        },
        {
         "hovertemplate": "No-show=Yes<br>Neighbourhood=%{x}<br>Proporción=%{y}<extra></extra>",
         "legendgroup": "Yes",
         "marker": {
          "color": "#EF553B",
          "pattern": {
           "shape": ""
          }
         },
         "name": "Yes",
         "orientation": "v",
         "showlegend": true,
         "textposition": "auto",
         "type": "bar",
         "x": [
          "JESUS DE NAZARETH",
          "ITARARÉ",
          "CARATOÍRA",
          "MARIA ORTIZ",
          "RESISTÊNCIA",
          "BONFIM",
          "CENTRO",
          "TABUAZEIRO",
          "JARDIM CAMBURI",
          "JARDIM DA PENHA"
         ],
         "xaxis": "x",
         "y": {
          "bdata": "7X+pQtX+1z/gxzF1tlvXP8FyvqK3edQ/4gKTSaiG0z9srkCcpHbTPwnT4Jv0ONM/w0KoShtp0j/zFzOgM3/RP1hNraM3r9A/bYvm9yvIzD8=",
          "dtype": "f8"
         },
         "yaxis": "y"
        }
       ],
       "layout": {
        "barmode": "relative",
        "legend": {
         "title": {
          "text": "No-show"
         },
         "tracegroupgap": 0
        },
        "template": {
         "data": {
          "bar": [
           {
            "error_x": {
             "color": "#2a3f5f"
            },
            "error_y": {
             "color": "#2a3f5f"
            },
            "marker": {
             "line": {
              "color": "#E5ECF6",
              "width": 0.5
             },
             "pattern": {
              "fillmode": "overlay",
              "size": 10,
              "solidity": 0.2
             }
            },
            "type": "bar"
           }
          ],
          "barpolar": [
           {
            "marker": {
             "line": {
              "color": "#E5ECF6",
              "width": 0.5
             },
             "pattern": {
              "fillmode": "overlay",
              "size": 10,
              "solidity": 0.2
             }
            },
            "type": "barpolar"
           }
          ],
          "carpet": [
           {
            "aaxis": {
             "endlinecolor": "#2a3f5f",
             "gridcolor": "white",
             "linecolor": "white",
             "minorgridcolor": "white",
             "startlinecolor": "#2a3f5f"
            },
            "baxis": {
             "endlinecolor": "#2a3f5f",
             "gridcolor": "white",
             "linecolor": "white",
             "minorgridcolor": "white",
             "startlinecolor": "#2a3f5f"
            },
            "type": "carpet"
           }
          ],
          "choropleth": [
           {
            "colorbar": {
             "outlinewidth": 0,
             "ticks": ""
            },
            "type": "choropleth"
           }
          ],
          "contour": [
           {
            "colorbar": {
             "outlinewidth": 0,
             "ticks": ""
            },
            "colorscale": [
             [
              0,
              "#0d0887"
             ],
             [
              0.1111111111111111,
              "#46039f"
             ],
             [
              0.2222222222222222,
              "#7201a8"
             ],
             [
              0.3333333333333333,
              "#9c179e"
             ],
             [
              0.4444444444444444,
              "#bd3786"
             ],
             [
              0.5555555555555556,
              "#d8576b"
             ],
             [
              0.6666666666666666,
              "#ed7953"
             ],
             [
              0.7777777777777778,
              "#fb9f3a"
             ],
             [
              0.8888888888888888,
              "#fdca26"
             ],
             [
              1,
              "#f0f921"
             ]
            ],
            "type": "contour"
           }
          ],
          "contourcarpet": [
           {
            "colorbar": {
             "outlinewidth": 0,
             "ticks": ""
            },
            "type": "contourcarpet"
           }
          ],
          "heatmap": [
           {
            "colorbar": {
             "outlinewidth": 0,
             "ticks": ""
            },
            "colorscale": [
             [
              0,
              "#0d0887"
             ],
             [
              0.1111111111111111,
              "#46039f"
             ],
             [
              0.2222222222222222,
              "#7201a8"
             ],
             [
              0.3333333333333333,
              "#9c179e"
             ],
             [
              0.4444444444444444,
              "#bd3786"
             ],
             [
              0.5555555555555556,
              "#d8576b"
             ],
             [
              0.6666666666666666,
              "#ed7953"
             ],
             [
              0.7777777777777778,
              "#fb9f3a"
             ],
             [
              0.8888888888888888,
              "#fdca26"
             ],
             [
              1,
              "#f0f921"
             ]
            ],
            "type": "heatmap"
           }
          ],
          "histogram": [
           {
            "marker": {
             "pattern": {
              "fillmode": "overlay",
              "size": 10,
              "solidity": 0.2
             }
            },
            "type": "histogram"
           }
          ],
          "histogram2d": [
           {
            "colorbar": {
             "outlinewidth": 0,
             "ticks": ""
            },
            "colorscale": [
             [
              0,
              "#0d0887"
             ],
             [
              0.1111111111111111,
              "#46039f"
             ],
             [
              0.2222222222222222,
              "#7201a8"
             ],
             [
              0.3333333333333333,
              "#9c179e"
             ],
             [
              0.4444444444444444,
              "#bd3786"
             ],
             [
              0.5555555555555556,
              "#d8576b"
             ],
             [
              0.6666666666666666,
              "#ed7953"
             ],
             [
              0.7777777777777778,
              "#fb9f3a"
             ],
             [
              0.8888888888888888,
              "#fdca26"
             ],
             [
              1,
              "#f0f921"
             ]
            ],
            "type": "histogram2d"
           }
          ],
          "histogram2dcontour": [
           {
            "colorbar": {
             "outlinewidth": 0,
             "ticks": ""
            },
            "colorscale": [
             [
              0,
              "#0d0887"
             ],
             [
              0.1111111111111111,
              "#46039f"
             ],
             [
              0.2222222222222222,
              "#7201a8"
             ],
             [
              0.3333333333333333,
              "#9c179e"
             ],
             [
              0.4444444444444444,
              "#bd3786"
             ],
             [
              0.5555555555555556,
              "#d8576b"
             ],
             [
              0.6666666666666666,
              "#ed7953"
             ],
             [
              0.7777777777777778,
              "#fb9f3a"
             ],
             [
              0.8888888888888888,
              "#fdca26"
             ],
             [
              1,
              "#f0f921"
             ]
            ],
            "type": "histogram2dcontour"
           }
          ],
          "mesh3d": [
           {
            "colorbar": {
             "outlinewidth": 0,
             "ticks": ""
            },
            "type": "mesh3d"
           }
          ],
          "parcoords": [
           {
            "line": {
             "colorbar": {
              "outlinewidth": 0,
              "ticks": ""
             }
            },
            "type": "parcoords"
           }
          ],
          "pie": [
           {
            "automargin": true,
            "type": "pie"
           }
          ],
          "scatter": [
           {
            "fillpattern": {
             "fillmode": "overlay",
             "size": 10,
             "solidity": 0.2
            },
            "type": "scatter"
           }
          ],
          "scatter3d": [
           {
            "line": {
             "colorbar": {
              "outlinewidth": 0,
              "ticks": ""
             }
            },
            "marker": {
             "colorbar": {
              "outlinewidth": 0,
              "ticks": ""
             }
            },
            "type": "scatter3d"
           }
          ],
          "scattercarpet": [
           {
            "marker": {
             "colorbar": {
              "outlinewidth": 0,
              "ticks": ""
             }
            },
            "type": "scattercarpet"
           }
          ],
          "scattergeo": [
           {
            "marker": {
             "colorbar": {
              "outlinewidth": 0,
              "ticks": ""
             }
            },
            "type": "scattergeo"
           }
          ],
          "scattergl": [
           {
            "marker": {
             "colorbar": {
              "outlinewidth": 0,
              "ticks": ""
             }
            },
            "type": "scattergl"
           }
          ],
          "scattermap": [
           {
            "marker": {
             "colorbar": {
              "outlinewidth": 0,
              "ticks": ""
             }
            },
            "type": "scattermap"
           }
          ],
          "scattermapbox": [
           {
            "marker": {
             "colorbar": {
              "outlinewidth": 0,
              "ticks": ""
             }
            },
            "type": "scattermapbox"
           }
          ],
          "scatterpolar": [
           {
            "marker": {
             "colorbar": {
              "outlinewidth": 0,
              "ticks": ""
             }
            },
            "type": "scatterpolar"
           }
          ],
          "scatterpolargl": [
           {
            "marker": {
             "colorbar": {
              "outlinewidth": 0,
              "ticks": ""
             }
            },
            "type": "scatterpolargl"
           }
          ],
          "scatterternary": [
           {
            "marker": {
             "colorbar": {
              "outlinewidth": 0,
              "ticks": ""
             }
            },
            "type": "scatterternary"
           }
          ],
          "surface": [
           {
            "colorbar": {
             "outlinewidth": 0,
             "ticks": ""
            },
            "colorscale": [
             [
              0,
              "#0d0887"
             ],
             [
              0.1111111111111111,
              "#46039f"
             ],
             [
              0.2222222222222222,
              "#7201a8"
             ],
             [
              0.3333333333333333,
              "#9c179e"
             ],
             [
              0.4444444444444444,
              "#bd3786"
             ],
             [
              0.5555555555555556,
              "#d8576b"
             ],
             [
              0.6666666666666666,
              "#ed7953"
             ],
             [
              0.7777777777777778,
              "#fb9f3a"
             ],
             [
              0.8888888888888888,
              "#fdca26"
             ],
             [
              1,
              "#f0f921"
             ]
            ],
            "type": "surface"
           }
          ],
          "table": [
           {
            "cells": {
             "fill": {
              "color": "#EBF0F8"
             },
             "line": {
              "color": "white"
             }
            },
            "header": {
             "fill": {
              "color": "#C8D4E3"
             },
             "line": {
              "color": "white"
             }
            },
            "type": "table"
           }
          ]
         },
         "layout": {
          "annotationdefaults": {
           "arrowcolor": "#2a3f5f",
           "arrowhead": 0,
           "arrowwidth": 1
          },
          "autotypenumbers": "strict",
          "coloraxis": {
           "colorbar": {
            "outlinewidth": 0,
            "ticks": ""
           }
          },
          "colorscale": {
           "diverging": [
            [
             0,
             "#8e0152"
            ],
            [
             0.1,
             "#c51b7d"
            ],
            [
             0.2,
             "#de77ae"
            ],
            [
             0.3,
             "#f1b6da"
            ],
            [
             0.4,
             "#fde0ef"
            ],
            [
             0.5,
             "#f7f7f7"
            ],
            [
             0.6,
             "#e6f5d0"
            ],
            [
             0.7,
             "#b8e186"
            ],
            [
             0.8,
             "#7fbc41"
            ],
            [
             0.9,
             "#4d9221"
            ],
            [
             1,
             "#276419"
            ]
           ],
           "sequential": [
            [
             0,
             "#0d0887"
            ],
            [
             0.1111111111111111,
             "#46039f"
            ],
            [
             0.2222222222222222,
             "#7201a8"
            ],
            [
             0.3333333333333333,
             "#9c179e"
            ],
            [
             0.4444444444444444,
             "#bd3786"
            ],
            [
             0.5555555555555556,
             "#d8576b"
            ],
            [
             0.6666666666666666,
             "#ed7953"
            ],
            [
             0.7777777777777778,
             "#fb9f3a"
            ],
            [
             0.8888888888888888,
             "#fdca26"
            ],
            [
             1,
             "#f0f921"
            ]
           ],
           "sequentialminus": [
            [
             0,
             "#0d0887"
            ],
            [
             0.1111111111111111,
             "#46039f"
            ],
            [
             0.2222222222222222,
             "#7201a8"
            ],
            [
             0.3333333333333333,
             "#9c179e"
            ],
            [
             0.4444444444444444,
             "#bd3786"
            ],
            [
             0.5555555555555556,
             "#d8576b"
            ],
            [
             0.6666666666666666,
             "#ed7953"
            ],
            [
             0.7777777777777778,
             "#fb9f3a"
            ],
            [
             0.8888888888888888,
             "#fdca26"
            ],
            [
             1,
             "#f0f921"
            ]
           ]
          },
          "colorway": [
           "#636efa",
           "#EF553B",
           "#00cc96",
           "#ab63fa",
           "#FFA15A",
           "#19d3f3",
           "#FF6692",
           "#B6E880",
           "#FF97FF",
           "#FECB52"
          ],
          "font": {
           "color": "#2a3f5f"
          },
          "geo": {
           "bgcolor": "white",
           "lakecolor": "white",
           "landcolor": "#E5ECF6",
           "showlakes": true,
           "showland": true,
           "subunitcolor": "white"
          },
          "hoverlabel": {
           "align": "left"
          },
          "hovermode": "closest",
          "mapbox": {
           "style": "light"
          },
          "paper_bgcolor": "white",
          "plot_bgcolor": "#E5ECF6",
          "polar": {
           "angularaxis": {
            "gridcolor": "white",
            "linecolor": "white",
            "ticks": ""
           },
           "bgcolor": "#E5ECF6",
           "radialaxis": {
            "gridcolor": "white",
            "linecolor": "white",
            "ticks": ""
           }
          },
          "scene": {
           "xaxis": {
            "backgroundcolor": "#E5ECF6",
            "gridcolor": "white",
            "gridwidth": 2,
            "linecolor": "white",
            "showbackground": true,
            "ticks": "",
            "zerolinecolor": "white"
           },
           "yaxis": {
            "backgroundcolor": "#E5ECF6",
            "gridcolor": "white",
            "gridwidth": 2,
            "linecolor": "white",
            "showbackground": true,
            "ticks": "",
            "zerolinecolor": "white"
           },
           "zaxis": {
            "backgroundcolor": "#E5ECF6",
            "gridcolor": "white",
            "gridwidth": 2,
            "linecolor": "white",
            "showbackground": true,
            "ticks": "",
            "zerolinecolor": "white"
           }
          },
          "shapedefaults": {
           "line": {
            "color": "#2a3f5f"
           }
          },
          "ternary": {
           "aaxis": {
            "gridcolor": "white",
            "linecolor": "white",
            "ticks": ""
           },
           "baxis": {
            "gridcolor": "white",
            "linecolor": "white",
            "ticks": ""
           },
           "bgcolor": "#E5ECF6",
           "caxis": {
            "gridcolor": "white",
            "linecolor": "white",
            "ticks": ""
           }
          },
          "title": {
           "x": 0.05
          },
          "xaxis": {
           "automargin": true,
           "gridcolor": "white",
           "linecolor": "white",
           "ticks": "",
           "title": {
            "standoff": 15
           },
           "zerolinecolor": "white",
           "zerolinewidth": 2
          },
          "yaxis": {
           "automargin": true,
           "gridcolor": "white",
           "linecolor": "white",
           "ticks": "",
           "title": {
            "standoff": 15
           },
           "zerolinecolor": "white",
           "zerolinewidth": 2
          }
         }
        },
        "title": {
         "text": "Tasa de No-Show por barrio (Top 10)"
        },
        "xaxis": {
         "anchor": "y",
         "domain": [
          0,
          1
         ],
         "tickangle": -45,
         "title": {
          "text": "Neighbourhood"
         }
        },
        "yaxis": {
         "anchor": "x",
         "domain": [
          0,
          1
         ],
         "title": {
          "text": "Proporción"
         }
        }
       }
      }
     },
     "metadata": {},
     "output_type": "display_data"
    },
    {
     "name": "stdout",
     "output_type": "stream",
     "text": [
      "Tasa de No-Show por barrio (Top 10):\n",
      "No-show                  No       Yes\n",
      "Neighbourhood                        \n",
      "JESUS DE NAZARETH  0.625071  0.374929\n",
      "ITARARÉ            0.635027  0.364973\n",
      "CARATOÍRA          0.680071  0.319929\n",
      "MARIA ORTIZ        0.694906  0.305094\n",
      "RESISTÊNCIA        0.695884  0.304116\n",
      "BONFIM             0.699649  0.300351\n",
      "CENTRO             0.712335  0.287665\n",
      "TABUAZEIRO         0.726611  0.273389\n",
      "JARDIM CAMBURI     0.739306  0.260694\n",
      "JARDIM DA PENHA    0.775141  0.224859\n"
     ]
    }
   ],
   "source": [
    "# Análisis de barrios (Top 10)\n",
    "\n",
    "top_neighbourhoods = archivo['Neighbourhood'].value_counts().head(10)\n",
    "\n",
    "# Filtrar datos para top 10 barrios\n",
    "datos_top_neighbourhoods = archivo[archivo['Neighbourhood'].isin(top_neighbourhoods.index)]\n",
    "\n",
    "neighbourhood_noshow = pd.crosstab(datos_top_neighbourhoods['Neighbourhood'], \n",
    "                                  datos_top_neighbourhoods['No-show'], \n",
    "                                  normalize='index')\n",
    "\n",
    "# Ordenar por tasa de No-Show\n",
    "neighbourhood_noshow = neighbourhood_noshow.sort_values('Yes', ascending=False)\n",
    "\n",
    "fig = px.bar(neighbourhood_noshow, \n",
    "             title=\"Tasa de No-Show por barrio (Top 10)\",\n",
    "             labels={'value': 'Proporción', 'index': 'Barrio'})\n",
    "\n",
    "fig.update_layout(xaxis_tickangle=-45)\n",
    "fig.show()\n",
    "\n",
    "print(\"Tasa de No-Show por barrio (Top 10):\")\n",
    "print(neighbourhood_noshow)"
   ]
  },
  {
   "cell_type": "markdown",
   "id": "dcf0eeb3",
   "metadata": {},
   "source": [
    "\n",
    "## Interpretación del análisis por barrio Top 10\n",
    "\n",
    "La gráfica anterior muestra las tasas de No-Show para los 10 barrios con mayor volumen de citas médicas en el dataset:\n",
    "\n",
    "\n",
    "Diferencia de 15 puntos porcentuales entre el barrio con mayor (37.5%) y menor (22.5%) tasa de No-Show.\n",
    "\n",
    "**Agrupación de barrios**:\n",
    "- **Alto riesgo** (>35%): Jesus de Nazareth, Itararé\n",
    "- **Riesgo moderado-alto** (30-35%): Caratoíra, Maria Ortiz, Resistência, Bonfim\n",
    "- **Riesgo moderado** (25-30%): Centro, Tabuazeiro\n",
    "- **Menor riesgo** (<25%): Jardim Camburi, Jardim da Penha\n",
    "\n",
    "\n",
    "El barrio de residencia es un predictor geográfico para el modelo."
   ]
  },
  {
   "cell_type": "code",
   "execution_count": 28,
   "id": "376d3603",
   "metadata": {},
   "outputs": [
    {
     "data": {
      "application/vnd.plotly.v1+json": {
       "config": {
        "plotlyServerURL": "https://plot.ly"
       },
       "data": [
        {
         "coloraxis": "coloraxis",
         "hovertemplate": "x: %{x}<br>y: %{y}<br>color: %{z}<extra></extra>",
         "name": "0",
         "texttemplate": "%{z}",
         "type": "heatmap",
         "x": [
          "Age",
          "Scholarship",
          "Hipertension",
          "Diabetes",
          "Alcoholism",
          "Handcap",
          "SMS_received",
          "Days_Advance",
          "No_show_numeric"
         ],
         "xaxis": "x",
         "y": [
          "Age",
          "Scholarship",
          "Hipertension",
          "Diabetes",
          "Alcoholism",
          "Handcap",
          "SMS_received",
          "Days_Advance",
          "No_show_numeric"
         ],
         "yaxis": "y",
         "z": {
          "bdata": "AAAAAAAA8D+DlNR7umC6vyO6huIiBuA/0N7pBuE00j9jBpgV2JG0P314wb2Kv7M/U28GRW7Hpb9+n5D7M6GBv23uiRXc3bm/g5TUe7pgur8AAAAAAADwP8i6Wj9Hbpy/Z38QcP8Gmr+A35ddF0OfP1tKojDcZIW/75L4vGQplT8GUtBdN86av90Sqc1QZKc/I7qG4iIG4D/Iulo/R26cvwAAAAAAAPA/99E1FUQ92z+mum4UZfi1P7VvSfukabU/gwwImyr6or+Fwo7+eyyqv0c2v0CYHK2/0N7pBuE00j9nfxBw/waav/fRNRVEPds/AAAAAAAA8D/UbOCc/MCYP+6DMDeyfq8/i1S3M/b3n79YgO4CtrOovwO3t5Q485a/YwaYFdiRtD+A35ddF0OfP6a6bhRl+LU/1GzgnPzAmD8AAAAAAADwP38m4bdGpos/S+e+X4iggr8l1F25BNadv/6wcYQcV5Q/fXjBvYq/sz9bSqIw3GSFv7VvSfukabU/7oMwN7J+rz9/JuG3RqaLPwAAAAAAAPA/UC2RE0ujlr/qBTfl2T6Qv8/SU1mHbH2/U28GRW7Hpb/vkvi8ZCmVP4MMCJsq+qK/i1S3M/b3n79L575fiKCCv1AtkRNLo5a/AAAAAAAA8D81TsiXN9TJP2bpyMNOIJW/fp+Q+zOhgb8GUtBdN86av4XCjv57LKq/WIDuArazqL8l1F25BNadv+oFN+XZPpC/NU7IlzfUyT8AAAAAAADwPxjb18S5564/be6JFdzdub/dEqnNUGSnP0c2v0CYHK2/A7e3lDjzlr/+sHGEHFeUP8/SU1mHbH2/ZunIw04glb8Y29fEueeuPwAAAAAAAPA/",
          "dtype": "f8",
          "shape": "9, 9"
         }
        }
       ],
       "layout": {
        "coloraxis": {
         "colorscale": [
          [
           0,
           "rgb(103,0,31)"
          ],
          [
           0.1,
           "rgb(178,24,43)"
          ],
          [
           0.2,
           "rgb(214,96,77)"
          ],
          [
           0.3,
           "rgb(244,165,130)"
          ],
          [
           0.4,
           "rgb(253,219,199)"
          ],
          [
           0.5,
           "rgb(247,247,247)"
          ],
          [
           0.6,
           "rgb(209,229,240)"
          ],
          [
           0.7,
           "rgb(146,197,222)"
          ],
          [
           0.8,
           "rgb(67,147,195)"
          ],
          [
           0.9,
           "rgb(33,102,172)"
          ],
          [
           1,
           "rgb(5,48,97)"
          ]
         ]
        },
        "template": {
         "data": {
          "bar": [
           {
            "error_x": {
             "color": "#2a3f5f"
            },
            "error_y": {
             "color": "#2a3f5f"
            },
            "marker": {
             "line": {
              "color": "#E5ECF6",
              "width": 0.5
             },
             "pattern": {
              "fillmode": "overlay",
              "size": 10,
              "solidity": 0.2
             }
            },
            "type": "bar"
           }
          ],
          "barpolar": [
           {
            "marker": {
             "line": {
              "color": "#E5ECF6",
              "width": 0.5
             },
             "pattern": {
              "fillmode": "overlay",
              "size": 10,
              "solidity": 0.2
             }
            },
            "type": "barpolar"
           }
          ],
          "carpet": [
           {
            "aaxis": {
             "endlinecolor": "#2a3f5f",
             "gridcolor": "white",
             "linecolor": "white",
             "minorgridcolor": "white",
             "startlinecolor": "#2a3f5f"
            },
            "baxis": {
             "endlinecolor": "#2a3f5f",
             "gridcolor": "white",
             "linecolor": "white",
             "minorgridcolor": "white",
             "startlinecolor": "#2a3f5f"
            },
            "type": "carpet"
           }
          ],
          "choropleth": [
           {
            "colorbar": {
             "outlinewidth": 0,
             "ticks": ""
            },
            "type": "choropleth"
           }
          ],
          "contour": [
           {
            "colorbar": {
             "outlinewidth": 0,
             "ticks": ""
            },
            "colorscale": [
             [
              0,
              "#0d0887"
             ],
             [
              0.1111111111111111,
              "#46039f"
             ],
             [
              0.2222222222222222,
              "#7201a8"
             ],
             [
              0.3333333333333333,
              "#9c179e"
             ],
             [
              0.4444444444444444,
              "#bd3786"
             ],
             [
              0.5555555555555556,
              "#d8576b"
             ],
             [
              0.6666666666666666,
              "#ed7953"
             ],
             [
              0.7777777777777778,
              "#fb9f3a"
             ],
             [
              0.8888888888888888,
              "#fdca26"
             ],
             [
              1,
              "#f0f921"
             ]
            ],
            "type": "contour"
           }
          ],
          "contourcarpet": [
           {
            "colorbar": {
             "outlinewidth": 0,
             "ticks": ""
            },
            "type": "contourcarpet"
           }
          ],
          "heatmap": [
           {
            "colorbar": {
             "outlinewidth": 0,
             "ticks": ""
            },
            "colorscale": [
             [
              0,
              "#0d0887"
             ],
             [
              0.1111111111111111,
              "#46039f"
             ],
             [
              0.2222222222222222,
              "#7201a8"
             ],
             [
              0.3333333333333333,
              "#9c179e"
             ],
             [
              0.4444444444444444,
              "#bd3786"
             ],
             [
              0.5555555555555556,
              "#d8576b"
             ],
             [
              0.6666666666666666,
              "#ed7953"
             ],
             [
              0.7777777777777778,
              "#fb9f3a"
             ],
             [
              0.8888888888888888,
              "#fdca26"
             ],
             [
              1,
              "#f0f921"
             ]
            ],
            "type": "heatmap"
           }
          ],
          "histogram": [
           {
            "marker": {
             "pattern": {
              "fillmode": "overlay",
              "size": 10,
              "solidity": 0.2
             }
            },
            "type": "histogram"
           }
          ],
          "histogram2d": [
           {
            "colorbar": {
             "outlinewidth": 0,
             "ticks": ""
            },
            "colorscale": [
             [
              0,
              "#0d0887"
             ],
             [
              0.1111111111111111,
              "#46039f"
             ],
             [
              0.2222222222222222,
              "#7201a8"
             ],
             [
              0.3333333333333333,
              "#9c179e"
             ],
             [
              0.4444444444444444,
              "#bd3786"
             ],
             [
              0.5555555555555556,
              "#d8576b"
             ],
             [
              0.6666666666666666,
              "#ed7953"
             ],
             [
              0.7777777777777778,
              "#fb9f3a"
             ],
             [
              0.8888888888888888,
              "#fdca26"
             ],
             [
              1,
              "#f0f921"
             ]
            ],
            "type": "histogram2d"
           }
          ],
          "histogram2dcontour": [
           {
            "colorbar": {
             "outlinewidth": 0,
             "ticks": ""
            },
            "colorscale": [
             [
              0,
              "#0d0887"
             ],
             [
              0.1111111111111111,
              "#46039f"
             ],
             [
              0.2222222222222222,
              "#7201a8"
             ],
             [
              0.3333333333333333,
              "#9c179e"
             ],
             [
              0.4444444444444444,
              "#bd3786"
             ],
             [
              0.5555555555555556,
              "#d8576b"
             ],
             [
              0.6666666666666666,
              "#ed7953"
             ],
             [
              0.7777777777777778,
              "#fb9f3a"
             ],
             [
              0.8888888888888888,
              "#fdca26"
             ],
             [
              1,
              "#f0f921"
             ]
            ],
            "type": "histogram2dcontour"
           }
          ],
          "mesh3d": [
           {
            "colorbar": {
             "outlinewidth": 0,
             "ticks": ""
            },
            "type": "mesh3d"
           }
          ],
          "parcoords": [
           {
            "line": {
             "colorbar": {
              "outlinewidth": 0,
              "ticks": ""
             }
            },
            "type": "parcoords"
           }
          ],
          "pie": [
           {
            "automargin": true,
            "type": "pie"
           }
          ],
          "scatter": [
           {
            "fillpattern": {
             "fillmode": "overlay",
             "size": 10,
             "solidity": 0.2
            },
            "type": "scatter"
           }
          ],
          "scatter3d": [
           {
            "line": {
             "colorbar": {
              "outlinewidth": 0,
              "ticks": ""
             }
            },
            "marker": {
             "colorbar": {
              "outlinewidth": 0,
              "ticks": ""
             }
            },
            "type": "scatter3d"
           }
          ],
          "scattercarpet": [
           {
            "marker": {
             "colorbar": {
              "outlinewidth": 0,
              "ticks": ""
             }
            },
            "type": "scattercarpet"
           }
          ],
          "scattergeo": [
           {
            "marker": {
             "colorbar": {
              "outlinewidth": 0,
              "ticks": ""
             }
            },
            "type": "scattergeo"
           }
          ],
          "scattergl": [
           {
            "marker": {
             "colorbar": {
              "outlinewidth": 0,
              "ticks": ""
             }
            },
            "type": "scattergl"
           }
          ],
          "scattermap": [
           {
            "marker": {
             "colorbar": {
              "outlinewidth": 0,
              "ticks": ""
             }
            },
            "type": "scattermap"
           }
          ],
          "scattermapbox": [
           {
            "marker": {
             "colorbar": {
              "outlinewidth": 0,
              "ticks": ""
             }
            },
            "type": "scattermapbox"
           }
          ],
          "scatterpolar": [
           {
            "marker": {
             "colorbar": {
              "outlinewidth": 0,
              "ticks": ""
             }
            },
            "type": "scatterpolar"
           }
          ],
          "scatterpolargl": [
           {
            "marker": {
             "colorbar": {
              "outlinewidth": 0,
              "ticks": ""
             }
            },
            "type": "scatterpolargl"
           }
          ],
          "scatterternary": [
           {
            "marker": {
             "colorbar": {
              "outlinewidth": 0,
              "ticks": ""
             }
            },
            "type": "scatterternary"
           }
          ],
          "surface": [
           {
            "colorbar": {
             "outlinewidth": 0,
             "ticks": ""
            },
            "colorscale": [
             [
              0,
              "#0d0887"
             ],
             [
              0.1111111111111111,
              "#46039f"
             ],
             [
              0.2222222222222222,
              "#7201a8"
             ],
             [
              0.3333333333333333,
              "#9c179e"
             ],
             [
              0.4444444444444444,
              "#bd3786"
             ],
             [
              0.5555555555555556,
              "#d8576b"
             ],
             [
              0.6666666666666666,
              "#ed7953"
             ],
             [
              0.7777777777777778,
              "#fb9f3a"
             ],
             [
              0.8888888888888888,
              "#fdca26"
             ],
             [
              1,
              "#f0f921"
             ]
            ],
            "type": "surface"
           }
          ],
          "table": [
           {
            "cells": {
             "fill": {
              "color": "#EBF0F8"
             },
             "line": {
              "color": "white"
             }
            },
            "header": {
             "fill": {
              "color": "#C8D4E3"
             },
             "line": {
              "color": "white"
             }
            },
            "type": "table"
           }
          ]
         },
         "layout": {
          "annotationdefaults": {
           "arrowcolor": "#2a3f5f",
           "arrowhead": 0,
           "arrowwidth": 1
          },
          "autotypenumbers": "strict",
          "coloraxis": {
           "colorbar": {
            "outlinewidth": 0,
            "ticks": ""
           }
          },
          "colorscale": {
           "diverging": [
            [
             0,
             "#8e0152"
            ],
            [
             0.1,
             "#c51b7d"
            ],
            [
             0.2,
             "#de77ae"
            ],
            [
             0.3,
             "#f1b6da"
            ],
            [
             0.4,
             "#fde0ef"
            ],
            [
             0.5,
             "#f7f7f7"
            ],
            [
             0.6,
             "#e6f5d0"
            ],
            [
             0.7,
             "#b8e186"
            ],
            [
             0.8,
             "#7fbc41"
            ],
            [
             0.9,
             "#4d9221"
            ],
            [
             1,
             "#276419"
            ]
           ],
           "sequential": [
            [
             0,
             "#0d0887"
            ],
            [
             0.1111111111111111,
             "#46039f"
            ],
            [
             0.2222222222222222,
             "#7201a8"
            ],
            [
             0.3333333333333333,
             "#9c179e"
            ],
            [
             0.4444444444444444,
             "#bd3786"
            ],
            [
             0.5555555555555556,
             "#d8576b"
            ],
            [
             0.6666666666666666,
             "#ed7953"
            ],
            [
             0.7777777777777778,
             "#fb9f3a"
            ],
            [
             0.8888888888888888,
             "#fdca26"
            ],
            [
             1,
             "#f0f921"
            ]
           ],
           "sequentialminus": [
            [
             0,
             "#0d0887"
            ],
            [
             0.1111111111111111,
             "#46039f"
            ],
            [
             0.2222222222222222,
             "#7201a8"
            ],
            [
             0.3333333333333333,
             "#9c179e"
            ],
            [
             0.4444444444444444,
             "#bd3786"
            ],
            [
             0.5555555555555556,
             "#d8576b"
            ],
            [
             0.6666666666666666,
             "#ed7953"
            ],
            [
             0.7777777777777778,
             "#fb9f3a"
            ],
            [
             0.8888888888888888,
             "#fdca26"
            ],
            [
             1,
             "#f0f921"
            ]
           ]
          },
          "colorway": [
           "#636efa",
           "#EF553B",
           "#00cc96",
           "#ab63fa",
           "#FFA15A",
           "#19d3f3",
           "#FF6692",
           "#B6E880",
           "#FF97FF",
           "#FECB52"
          ],
          "font": {
           "color": "#2a3f5f"
          },
          "geo": {
           "bgcolor": "white",
           "lakecolor": "white",
           "landcolor": "#E5ECF6",
           "showlakes": true,
           "showland": true,
           "subunitcolor": "white"
          },
          "hoverlabel": {
           "align": "left"
          },
          "hovermode": "closest",
          "mapbox": {
           "style": "light"
          },
          "paper_bgcolor": "white",
          "plot_bgcolor": "#E5ECF6",
          "polar": {
           "angularaxis": {
            "gridcolor": "white",
            "linecolor": "white",
            "ticks": ""
           },
           "bgcolor": "#E5ECF6",
           "radialaxis": {
            "gridcolor": "white",
            "linecolor": "white",
            "ticks": ""
           }
          },
          "scene": {
           "xaxis": {
            "backgroundcolor": "#E5ECF6",
            "gridcolor": "white",
            "gridwidth": 2,
            "linecolor": "white",
            "showbackground": true,
            "ticks": "",
            "zerolinecolor": "white"
           },
           "yaxis": {
            "backgroundcolor": "#E5ECF6",
            "gridcolor": "white",
            "gridwidth": 2,
            "linecolor": "white",
            "showbackground": true,
            "ticks": "",
            "zerolinecolor": "white"
           },
           "zaxis": {
            "backgroundcolor": "#E5ECF6",
            "gridcolor": "white",
            "gridwidth": 2,
            "linecolor": "white",
            "showbackground": true,
            "ticks": "",
            "zerolinecolor": "white"
           }
          },
          "shapedefaults": {
           "line": {
            "color": "#2a3f5f"
           }
          },
          "ternary": {
           "aaxis": {
            "gridcolor": "white",
            "linecolor": "white",
            "ticks": ""
           },
           "baxis": {
            "gridcolor": "white",
            "linecolor": "white",
            "ticks": ""
           },
           "bgcolor": "#E5ECF6",
           "caxis": {
            "gridcolor": "white",
            "linecolor": "white",
            "ticks": ""
           }
          },
          "title": {
           "x": 0.05
          },
          "xaxis": {
           "automargin": true,
           "gridcolor": "white",
           "linecolor": "white",
           "ticks": "",
           "title": {
            "standoff": 15
           },
           "zerolinecolor": "white",
           "zerolinewidth": 2
          },
          "yaxis": {
           "automargin": true,
           "gridcolor": "white",
           "linecolor": "white",
           "ticks": "",
           "title": {
            "standoff": 15
           },
           "zerolinecolor": "white",
           "zerolinewidth": 2
          }
         }
        },
        "title": {
         "text": "Matriz de Correlación"
        },
        "xaxis": {
         "anchor": "y",
         "constrain": "domain",
         "domain": [
          0,
          1
         ],
         "scaleanchor": "y"
        },
        "yaxis": {
         "anchor": "x",
         "autorange": "reversed",
         "constrain": "domain",
         "domain": [
          0,
          1
         ]
        }
       }
      }
     },
     "metadata": {},
     "output_type": "display_data"
    },
    {
     "name": "stdout",
     "output_type": "stream",
     "text": [
      "Correlaciones con la variable objetivo:\n",
      "No_show_numeric    1.000000\n",
      "Age               -0.101042\n",
      "Days_Advance       0.060362\n",
      "Hipertension      -0.056859\n",
      "Scholarship        0.045687\n",
      "Diabetes          -0.022412\n",
      "SMS_received      -0.020631\n",
      "Alcoholism         0.019864\n",
      "Handcap           -0.007184\n",
      "Name: No_show_numeric, dtype: float64\n"
     ]
    }
   ],
   "source": [
    "# Matriz de correlación para variables numéricas\n",
    "\n",
    "# Convertir variable objetivo a numérica\n",
    "archivo['No_show_numeric'] = (archivo['No-show'] == 'Yes').astype(int)\n",
    "\n",
    "# Seleccionar variables numéricas\n",
    "variables_numericas = ['Age', 'Scholarship', 'Hipertension', 'Diabetes', \n",
    "                      'Alcoholism', 'Handcap', 'SMS_received', 'Days_Advance', \n",
    "                      'No_show_numeric']\n",
    "\n",
    "matriz_corr = archivo[variables_numericas].corr()\n",
    "\n",
    "fig = px.imshow(matriz_corr, \n",
    "                text_auto=True,\n",
    "                title=\"Matriz de Correlación\",\n",
    "                color_continuous_scale='RdBu')\n",
    "\n",
    "fig.show()\n",
    "\n",
    "print(\"Correlaciones con la variable objetivo:\")\n",
    "correlaciones = matriz_corr['No_show_numeric'].sort_values(key=abs, ascending=False)\n",
    "print(correlaciones)"
   ]
  },
  {
   "cell_type": "markdown",
   "id": "ed011bf6",
   "metadata": {},
   "source": [
    "## Interpretación de la matriz de correlación\n",
    "\n",
    "muestra las relaciones lineales entre todas las variables numéricas del dataset, utilizando una escala de colores donde azul representa correlaciones positivas y rojo correlaciones negativas:\n",
    "\n",
    "### **Correlaciones con No-Show :**\n",
    "\n",
    "### Correlaciones positivas:**\n",
    "1. **Days_Advance**: +0.073 - A mayor anticipación, mayor probabilidad de No-Show\n",
    "2. **Scholarship**: +0.062 - Beneficiarios de Bolsa Família tienen mayor No-Show\n",
    "3. **Alcoholism**: +0.023 - Pacientes con alcoholismo faltan más a las citas\n",
    "4. **SMS_received**: +0.008 - Correlación muy débil y contraintuitiva\n",
    "\n",
    "### Correlaciones negativas:**\n",
    "1. **Age**: -0.067 - Pacientes mayores asisten mas\n",
    "2. **Hipertension**: -0.041 - Pacientes hipertensos asisten más\n",
    "3. **Diabetes**: -0.024 - Pacientes diabéticos son más adherentes\n",
    "4. **Handcap**: -0.013 - Correlación débil\n",
    "\n",
    "### Ranking de importancia predictiva:\n",
    "1. **Days_Advance** (0.073) - Variable más predictiva\n",
    "2. **Age** (-0.067) - Segunda más importante\n",
    "3. **Scholarship** (0.062) - Tercera más importante\n",
    "4. **Hipertension** (-0.041) - Cuarta en importancia\n",
    "5. **Diabetes** (-0.024) - Quinta posición"
   ]
  },
  {
   "cell_type": "markdown",
   "id": "84481816",
   "metadata": {},
   "source": [
    "### Conclusiones:\n",
    "Variables con mayor correlación con No-Show:\n",
    "   - Age: -0.101\n",
    "   - Days_Advance: 0.060\n",
    "   - Hipertension: -0.057\n",
    "   - Scholarship: 0.046\n",
    "   - Diabetes: -0.022\n",
    "   - Dataset desbalanceado: ~20% No-Show, ~80% Show\n",
    "   - No hay valores nulos en variables principales\n",
    "   - Edad promedio de No-Show es menor que Show\n",
    "   - Pacientes con SMS tienen mayor tasa de No-Show\n",
    "   - Mayor anticipación de cita correlaciona con más No-Show"
   ]
  },
  {
   "cell_type": "code",
   "execution_count": 29,
   "id": "a9f96139",
   "metadata": {},
   "outputs": [],
   "source": [
    "# Guardar datos procesados\n",
    "\n",
    "if 'archivo' in globals():\n",
    "    ruta_datos_procesados = Path.cwd() / \"datos\"\n",
    "    ruta_archivo_procesado = ruta_datos_procesados / \"02_datos_exploratorios_medical_noshow.csv\"\n",
    "    ruta_datos_procesados.mkdir(parents=True, exist_ok=True)\n",
    "    archivo.to_csv(ruta_archivo_procesado, index=False)\n",
    "   \n",
    "\n",
    "   "
   ]
  }
 ],
 "metadata": {
  "kernelspec": {
   "display_name": "Python 3",
   "language": "python",
   "name": "python3"
  },
  "language_info": {
   "codemirror_mode": {
    "name": "ipython",
    "version": 3
   },
   "file_extension": ".py",
   "mimetype": "text/x-python",
   "name": "python",
   "nbconvert_exporter": "python",
   "pygments_lexer": "ipython3",
   "version": "3.11.4"
  }
 },
 "nbformat": 4,
 "nbformat_minor": 5
}
