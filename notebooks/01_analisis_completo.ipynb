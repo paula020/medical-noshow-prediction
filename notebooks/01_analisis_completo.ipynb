{
 "cells": [
  {
   "cell_type": "markdown",
   "metadata": {},
   "source": [
    "# Análisis Completo: Predicción de No-Show Médico\n",
    "\n",
    "**Proyecto I - Especialización en Ciencia de Datos e IA**\n",
    "\n",
    "## Objetivo\n",
    "Predecir la probabilidad de que un paciente no asista a su cita médica, permitiendo a clínicas y hospitales optimizar sus recursos y reducir costos."
   ]
  },
  {
   "cell_type": "markdown",
   "metadata": {},
   "source": [
    "## 1. Importación de Librerías"
   ]
  },
  {
   "cell_type": "code",
   "execution_count": 1,
   "metadata": {},
   "outputs": [],
   "source": [
    "import sys\n",
    "sys.path.append('..')\n",
    "\n",
    "import pandas as pd\n",
    "import numpy as np\n",
    "import plotly.express as px\n",
    "import plotly.graph_objects as go\n",
    "from pathlib import Path\n",
    "\n",
    "from sklearn.model_selection import train_test_split\n",
    "from sklearn.metrics import classification_report, confusion_matrix\n",
    "\n",
    "from src.data_loader import prepare_data\n",
    "from src.preprocessing import (\n",
    "    create_preprocessing_pipeline,\n",
    "    prepare_features_target,\n",
    "    get_feature_names\n",
    ")\n",
    "from src.synthetic_data import generate_synthetic_data, get_synthetic_data_stats\n",
    "from src.models import (\n",
    "    train_random_forest,\n",
    "    train_logistic_regression,\n",
    "    evaluate_model,\n",
    "    get_feature_importance,\n",
    "    compare_models,\n",
    "    save_model\n",
    ")\n",
    "from src.visualization import (\n",
    "    plot_target_distribution,\n",
    "    plot_age_distribution,\n",
    "    plot_noshow_by_feature,\n",
    "    plot_correlation_matrix,\n",
    "    plot_feature_importance,\n",
    "    plot_model_comparison,\n",
    "    plot_chronic_conditions\n",
    ")\n",
    "\n",
    "import warnings\n",
    "warnings.filterwarnings('ignore')"
   ]
  },
  {
   "cell_type": "markdown",
   "metadata": {},
   "source": [
    "## 2. Carga y Exploración de Datos"
   ]
  },
  {
   "cell_type": "code",
   "execution_count": 2,
   "metadata": {},
   "outputs": [
    {
     "data": {
      "text/html": [
       "<div>\n",
       "<style scoped>\n",
       "    .dataframe tbody tr th:only-of-type {\n",
       "        vertical-align: middle;\n",
       "    }\n",
       "\n",
       "    .dataframe tbody tr th {\n",
       "        vertical-align: top;\n",
       "    }\n",
       "\n",
       "    .dataframe thead th {\n",
       "        text-align: right;\n",
       "    }\n",
       "</style>\n",
       "<table border=\"1\" class=\"dataframe\">\n",
       "  <thead>\n",
       "    <tr style=\"text-align: right;\">\n",
       "      <th></th>\n",
       "      <th>PatientId</th>\n",
       "      <th>AppointmentID</th>\n",
       "      <th>Gender</th>\n",
       "      <th>ScheduledDay</th>\n",
       "      <th>AppointmentDay</th>\n",
       "      <th>Age</th>\n",
       "      <th>Neighbourhood</th>\n",
       "      <th>Scholarship</th>\n",
       "      <th>Hipertension</th>\n",
       "      <th>Diabetes</th>\n",
       "      <th>Alcoholism</th>\n",
       "      <th>Handcap</th>\n",
       "      <th>SMS_received</th>\n",
       "      <th>No-show</th>\n",
       "      <th>DaysAdvance</th>\n",
       "      <th>AppointmentWeekday</th>\n",
       "      <th>AppointmentMonth</th>\n",
       "      <th>ChronicConditionsCount</th>\n",
       "    </tr>\n",
       "  </thead>\n",
       "  <tbody>\n",
       "    <tr>\n",
       "      <th>0</th>\n",
       "      <td>2.987250e+13</td>\n",
       "      <td>5642903</td>\n",
       "      <td>F</td>\n",
       "      <td>2016-04-29 18:38:08+00:00</td>\n",
       "      <td>2016-04-29 00:00:00+00:00</td>\n",
       "      <td>62</td>\n",
       "      <td>JARDIM DA PENHA</td>\n",
       "      <td>0</td>\n",
       "      <td>1</td>\n",
       "      <td>0</td>\n",
       "      <td>0</td>\n",
       "      <td>0</td>\n",
       "      <td>0</td>\n",
       "      <td>0</td>\n",
       "      <td>-1</td>\n",
       "      <td>4</td>\n",
       "      <td>4</td>\n",
       "      <td>1</td>\n",
       "    </tr>\n",
       "    <tr>\n",
       "      <th>1</th>\n",
       "      <td>5.589978e+14</td>\n",
       "      <td>5642503</td>\n",
       "      <td>M</td>\n",
       "      <td>2016-04-29 16:08:27+00:00</td>\n",
       "      <td>2016-04-29 00:00:00+00:00</td>\n",
       "      <td>56</td>\n",
       "      <td>JARDIM DA PENHA</td>\n",
       "      <td>0</td>\n",
       "      <td>0</td>\n",
       "      <td>0</td>\n",
       "      <td>0</td>\n",
       "      <td>0</td>\n",
       "      <td>0</td>\n",
       "      <td>0</td>\n",
       "      <td>-1</td>\n",
       "      <td>4</td>\n",
       "      <td>4</td>\n",
       "      <td>0</td>\n",
       "    </tr>\n",
       "    <tr>\n",
       "      <th>2</th>\n",
       "      <td>4.262962e+12</td>\n",
       "      <td>5642549</td>\n",
       "      <td>F</td>\n",
       "      <td>2016-04-29 16:19:04+00:00</td>\n",
       "      <td>2016-04-29 00:00:00+00:00</td>\n",
       "      <td>62</td>\n",
       "      <td>MATA DA PRAIA</td>\n",
       "      <td>0</td>\n",
       "      <td>0</td>\n",
       "      <td>0</td>\n",
       "      <td>0</td>\n",
       "      <td>0</td>\n",
       "      <td>0</td>\n",
       "      <td>0</td>\n",
       "      <td>-1</td>\n",
       "      <td>4</td>\n",
       "      <td>4</td>\n",
       "      <td>0</td>\n",
       "    </tr>\n",
       "    <tr>\n",
       "      <th>3</th>\n",
       "      <td>8.679512e+11</td>\n",
       "      <td>5642828</td>\n",
       "      <td>F</td>\n",
       "      <td>2016-04-29 17:29:31+00:00</td>\n",
       "      <td>2016-04-29 00:00:00+00:00</td>\n",
       "      <td>8</td>\n",
       "      <td>PONTAL DE CAMBURI</td>\n",
       "      <td>0</td>\n",
       "      <td>0</td>\n",
       "      <td>0</td>\n",
       "      <td>0</td>\n",
       "      <td>0</td>\n",
       "      <td>0</td>\n",
       "      <td>0</td>\n",
       "      <td>-1</td>\n",
       "      <td>4</td>\n",
       "      <td>4</td>\n",
       "      <td>0</td>\n",
       "    </tr>\n",
       "    <tr>\n",
       "      <th>4</th>\n",
       "      <td>8.841186e+12</td>\n",
       "      <td>5642494</td>\n",
       "      <td>F</td>\n",
       "      <td>2016-04-29 16:07:23+00:00</td>\n",
       "      <td>2016-04-29 00:00:00+00:00</td>\n",
       "      <td>56</td>\n",
       "      <td>JARDIM DA PENHA</td>\n",
       "      <td>0</td>\n",
       "      <td>1</td>\n",
       "      <td>1</td>\n",
       "      <td>0</td>\n",
       "      <td>0</td>\n",
       "      <td>0</td>\n",
       "      <td>0</td>\n",
       "      <td>-1</td>\n",
       "      <td>4</td>\n",
       "      <td>4</td>\n",
       "      <td>2</td>\n",
       "    </tr>\n",
       "  </tbody>\n",
       "</table>\n",
       "</div>"
      ],
      "text/plain": [
       "      PatientId  AppointmentID Gender              ScheduledDay  \\\n",
       "0  2.987250e+13        5642903      F 2016-04-29 18:38:08+00:00   \n",
       "1  5.589978e+14        5642503      M 2016-04-29 16:08:27+00:00   \n",
       "2  4.262962e+12        5642549      F 2016-04-29 16:19:04+00:00   \n",
       "3  8.679512e+11        5642828      F 2016-04-29 17:29:31+00:00   \n",
       "4  8.841186e+12        5642494      F 2016-04-29 16:07:23+00:00   \n",
       "\n",
       "             AppointmentDay  Age      Neighbourhood  Scholarship  \\\n",
       "0 2016-04-29 00:00:00+00:00   62    JARDIM DA PENHA            0   \n",
       "1 2016-04-29 00:00:00+00:00   56    JARDIM DA PENHA            0   \n",
       "2 2016-04-29 00:00:00+00:00   62      MATA DA PRAIA            0   \n",
       "3 2016-04-29 00:00:00+00:00    8  PONTAL DE CAMBURI            0   \n",
       "4 2016-04-29 00:00:00+00:00   56    JARDIM DA PENHA            0   \n",
       "\n",
       "   Hipertension  Diabetes  Alcoholism  Handcap  SMS_received  No-show  \\\n",
       "0             1         0           0        0             0        0   \n",
       "1             0         0           0        0             0        0   \n",
       "2             0         0           0        0             0        0   \n",
       "3             0         0           0        0             0        0   \n",
       "4             1         1           0        0             0        0   \n",
       "\n",
       "   DaysAdvance  AppointmentWeekday  AppointmentMonth  ChronicConditionsCount  \n",
       "0           -1                   4                 4                       1  \n",
       "1           -1                   4                 4                       0  \n",
       "2           -1                   4                 4                       0  \n",
       "3           -1                   4                 4                       0  \n",
       "4           -1                   4                 4                       2  "
      ]
     },
     "execution_count": 2,
     "metadata": {},
     "output_type": "execute_result"
    }
   ],
   "source": [
    "DATA_PATH = '../data/KaggleV2-May-2016.csv'\n",
    "\n",
    "df, df_original = prepare_data(DATA_PATH)\n",
    "\n",
    "df.head()"
   ]
  },
  {
   "cell_type": "code",
   "execution_count": 3,
   "metadata": {},
   "outputs": [
    {
     "name": "stdout",
     "output_type": "stream",
     "text": [
      "<class 'pandas.core.frame.DataFrame'>\n",
      "Index: 110519 entries, 0 to 110526\n",
      "Data columns (total 18 columns):\n",
      " #   Column                  Non-Null Count   Dtype              \n",
      "---  ------                  --------------   -----              \n",
      " 0   PatientId               110519 non-null  float64            \n",
      " 1   AppointmentID           110519 non-null  int64              \n",
      " 2   Gender                  110519 non-null  category           \n",
      " 3   ScheduledDay            110519 non-null  datetime64[ns, UTC]\n",
      " 4   AppointmentDay          110519 non-null  datetime64[ns, UTC]\n",
      " 5   Age                     110519 non-null  int64              \n",
      " 6   Neighbourhood           110519 non-null  category           \n",
      " 7   Scholarship             110519 non-null  int64              \n",
      " 8   Hipertension            110519 non-null  int64              \n",
      " 9   Diabetes                110519 non-null  int64              \n",
      " 10  Alcoholism              110519 non-null  int64              \n",
      " 11  Handcap                 110519 non-null  int64              \n",
      " 12  SMS_received            110519 non-null  int64              \n",
      " 13  No-show                 110519 non-null  int64              \n",
      " 14  DaysAdvance             110519 non-null  int64              \n",
      " 15  AppointmentWeekday      110519 non-null  int32              \n",
      " 16  AppointmentMonth        110519 non-null  int32              \n",
      " 17  ChronicConditionsCount  110519 non-null  int64              \n",
      "dtypes: category(2), datetime64[ns, UTC](2), float64(1), int32(2), int64(11)\n",
      "memory usage: 13.7 MB\n"
     ]
    }
   ],
   "source": [
    "df.info()"
   ]
  },
  {
   "cell_type": "code",
   "execution_count": 4,
   "metadata": {},
   "outputs": [
    {
     "data": {
      "text/html": [
       "<div>\n",
       "<style scoped>\n",
       "    .dataframe tbody tr th:only-of-type {\n",
       "        vertical-align: middle;\n",
       "    }\n",
       "\n",
       "    .dataframe tbody tr th {\n",
       "        vertical-align: top;\n",
       "    }\n",
       "\n",
       "    .dataframe thead th {\n",
       "        text-align: right;\n",
       "    }\n",
       "</style>\n",
       "<table border=\"1\" class=\"dataframe\">\n",
       "  <thead>\n",
       "    <tr style=\"text-align: right;\">\n",
       "      <th></th>\n",
       "      <th>PatientId</th>\n",
       "      <th>AppointmentID</th>\n",
       "      <th>Age</th>\n",
       "      <th>Scholarship</th>\n",
       "      <th>Hipertension</th>\n",
       "      <th>Diabetes</th>\n",
       "      <th>Alcoholism</th>\n",
       "      <th>Handcap</th>\n",
       "      <th>SMS_received</th>\n",
       "      <th>No-show</th>\n",
       "      <th>DaysAdvance</th>\n",
       "      <th>AppointmentWeekday</th>\n",
       "      <th>AppointmentMonth</th>\n",
       "      <th>ChronicConditionsCount</th>\n",
       "    </tr>\n",
       "  </thead>\n",
       "  <tbody>\n",
       "    <tr>\n",
       "      <th>count</th>\n",
       "      <td>1.105190e+05</td>\n",
       "      <td>1.105190e+05</td>\n",
       "      <td>110519.000000</td>\n",
       "      <td>110519.000000</td>\n",
       "      <td>110519.000000</td>\n",
       "      <td>110519.000000</td>\n",
       "      <td>110519.000000</td>\n",
       "      <td>110519.000000</td>\n",
       "      <td>110519.000000</td>\n",
       "      <td>110519.000000</td>\n",
       "      <td>110519.000000</td>\n",
       "      <td>110519.000000</td>\n",
       "      <td>110519.000000</td>\n",
       "      <td>110519.000000</td>\n",
       "    </tr>\n",
       "    <tr>\n",
       "      <th>mean</th>\n",
       "      <td>1.474860e+14</td>\n",
       "      <td>5.675303e+06</td>\n",
       "      <td>37.084519</td>\n",
       "      <td>0.098273</td>\n",
       "      <td>0.197251</td>\n",
       "      <td>0.071870</td>\n",
       "      <td>0.030402</td>\n",
       "      <td>0.022213</td>\n",
       "      <td>0.321040</td>\n",
       "      <td>0.201920</td>\n",
       "      <td>9.183887</td>\n",
       "      <td>1.858251</td>\n",
       "      <td>5.210036</td>\n",
       "      <td>0.299523</td>\n",
       "    </tr>\n",
       "    <tr>\n",
       "      <th>std</th>\n",
       "      <td>2.560826e+14</td>\n",
       "      <td>7.129600e+04</td>\n",
       "      <td>23.103165</td>\n",
       "      <td>0.297684</td>\n",
       "      <td>0.397925</td>\n",
       "      <td>0.258274</td>\n",
       "      <td>0.171692</td>\n",
       "      <td>0.161441</td>\n",
       "      <td>0.466878</td>\n",
       "      <td>0.401435</td>\n",
       "      <td>15.255169</td>\n",
       "      <td>1.371657</td>\n",
       "      <td>0.473777</td>\n",
       "      <td>0.597669</td>\n",
       "    </tr>\n",
       "    <tr>\n",
       "      <th>min</th>\n",
       "      <td>3.921784e+04</td>\n",
       "      <td>5.030230e+06</td>\n",
       "      <td>0.000000</td>\n",
       "      <td>0.000000</td>\n",
       "      <td>0.000000</td>\n",
       "      <td>0.000000</td>\n",
       "      <td>0.000000</td>\n",
       "      <td>0.000000</td>\n",
       "      <td>0.000000</td>\n",
       "      <td>0.000000</td>\n",
       "      <td>-7.000000</td>\n",
       "      <td>0.000000</td>\n",
       "      <td>4.000000</td>\n",
       "      <td>0.000000</td>\n",
       "    </tr>\n",
       "    <tr>\n",
       "      <th>25%</th>\n",
       "      <td>4.172457e+12</td>\n",
       "      <td>5.640284e+06</td>\n",
       "      <td>18.000000</td>\n",
       "      <td>0.000000</td>\n",
       "      <td>0.000000</td>\n",
       "      <td>0.000000</td>\n",
       "      <td>0.000000</td>\n",
       "      <td>0.000000</td>\n",
       "      <td>0.000000</td>\n",
       "      <td>0.000000</td>\n",
       "      <td>-1.000000</td>\n",
       "      <td>1.000000</td>\n",
       "      <td>5.000000</td>\n",
       "      <td>0.000000</td>\n",
       "    </tr>\n",
       "    <tr>\n",
       "      <th>50%</th>\n",
       "      <td>3.172598e+13</td>\n",
       "      <td>5.680569e+06</td>\n",
       "      <td>37.000000</td>\n",
       "      <td>0.000000</td>\n",
       "      <td>0.000000</td>\n",
       "      <td>0.000000</td>\n",
       "      <td>0.000000</td>\n",
       "      <td>0.000000</td>\n",
       "      <td>0.000000</td>\n",
       "      <td>0.000000</td>\n",
       "      <td>3.000000</td>\n",
       "      <td>2.000000</td>\n",
       "      <td>5.000000</td>\n",
       "      <td>0.000000</td>\n",
       "    </tr>\n",
       "    <tr>\n",
       "      <th>75%</th>\n",
       "      <td>9.438963e+13</td>\n",
       "      <td>5.725522e+06</td>\n",
       "      <td>55.000000</td>\n",
       "      <td>0.000000</td>\n",
       "      <td>0.000000</td>\n",
       "      <td>0.000000</td>\n",
       "      <td>0.000000</td>\n",
       "      <td>0.000000</td>\n",
       "      <td>1.000000</td>\n",
       "      <td>0.000000</td>\n",
       "      <td>14.000000</td>\n",
       "      <td>3.000000</td>\n",
       "      <td>5.000000</td>\n",
       "      <td>0.000000</td>\n",
       "    </tr>\n",
       "    <tr>\n",
       "      <th>max</th>\n",
       "      <td>9.999816e+14</td>\n",
       "      <td>5.790484e+06</td>\n",
       "      <td>100.000000</td>\n",
       "      <td>1.000000</td>\n",
       "      <td>1.000000</td>\n",
       "      <td>1.000000</td>\n",
       "      <td>1.000000</td>\n",
       "      <td>4.000000</td>\n",
       "      <td>1.000000</td>\n",
       "      <td>1.000000</td>\n",
       "      <td>178.000000</td>\n",
       "      <td>5.000000</td>\n",
       "      <td>6.000000</td>\n",
       "      <td>3.000000</td>\n",
       "    </tr>\n",
       "  </tbody>\n",
       "</table>\n",
       "</div>"
      ],
      "text/plain": [
       "          PatientId  AppointmentID            Age    Scholarship  \\\n",
       "count  1.105190e+05   1.105190e+05  110519.000000  110519.000000   \n",
       "mean   1.474860e+14   5.675303e+06      37.084519       0.098273   \n",
       "std    2.560826e+14   7.129600e+04      23.103165       0.297684   \n",
       "min    3.921784e+04   5.030230e+06       0.000000       0.000000   \n",
       "25%    4.172457e+12   5.640284e+06      18.000000       0.000000   \n",
       "50%    3.172598e+13   5.680569e+06      37.000000       0.000000   \n",
       "75%    9.438963e+13   5.725522e+06      55.000000       0.000000   \n",
       "max    9.999816e+14   5.790484e+06     100.000000       1.000000   \n",
       "\n",
       "        Hipertension       Diabetes     Alcoholism        Handcap  \\\n",
       "count  110519.000000  110519.000000  110519.000000  110519.000000   \n",
       "mean        0.197251       0.071870       0.030402       0.022213   \n",
       "std         0.397925       0.258274       0.171692       0.161441   \n",
       "min         0.000000       0.000000       0.000000       0.000000   \n",
       "25%         0.000000       0.000000       0.000000       0.000000   \n",
       "50%         0.000000       0.000000       0.000000       0.000000   \n",
       "75%         0.000000       0.000000       0.000000       0.000000   \n",
       "max         1.000000       1.000000       1.000000       4.000000   \n",
       "\n",
       "        SMS_received        No-show    DaysAdvance  AppointmentWeekday  \\\n",
       "count  110519.000000  110519.000000  110519.000000       110519.000000   \n",
       "mean        0.321040       0.201920       9.183887            1.858251   \n",
       "std         0.466878       0.401435      15.255169            1.371657   \n",
       "min         0.000000       0.000000      -7.000000            0.000000   \n",
       "25%         0.000000       0.000000      -1.000000            1.000000   \n",
       "50%         0.000000       0.000000       3.000000            2.000000   \n",
       "75%         1.000000       0.000000      14.000000            3.000000   \n",
       "max         1.000000       1.000000     178.000000            5.000000   \n",
       "\n",
       "       AppointmentMonth  ChronicConditionsCount  \n",
       "count     110519.000000           110519.000000  \n",
       "mean           5.210036                0.299523  \n",
       "std            0.473777                0.597669  \n",
       "min            4.000000                0.000000  \n",
       "25%            5.000000                0.000000  \n",
       "50%            5.000000                0.000000  \n",
       "75%            5.000000                0.000000  \n",
       "max            6.000000                3.000000  "
      ]
     },
     "execution_count": 4,
     "metadata": {},
     "output_type": "execute_result"
    }
   ],
   "source": [
    "df.describe()"
   ]
  },
  {
   "cell_type": "markdown",
   "metadata": {},
   "source": [
    "## 3. Análisis Exploratorio de Datos (EDA)"
   ]
  },
  {
   "cell_type": "markdown",
   "metadata": {},
   "source": [
    "### 3.1 Distribución de la Variable Objetivo"
   ]
  },
  {
   "cell_type": "code",
   "execution_count": 5,
   "metadata": {},
   "outputs": [
    {
     "data": {
      "application/vnd.plotly.v1+json": {
       "config": {
        "plotlyServerURL": "https://plot.ly"
       },
       "data": [
        {
         "marker": {
          "color": [
           "#2ecc71",
           "#e74c3c"
          ]
         },
         "text": {
          "bdata": "AAAAALCI9UAAAAAAAMvVQA==",
          "dtype": "f8"
         },
         "textposition": "auto",
         "type": "bar",
         "x": [
          "Asistió",
          "No Asistió"
         ],
         "y": {
          "bdata": "i1gBACxXAAA=",
          "dtype": "i4"
         }
        }
       ],
       "layout": {
        "template": {
         "data": {
          "bar": [
           {
            "error_x": {
             "color": "#2a3f5f"
            },
            "error_y": {
             "color": "#2a3f5f"
            },
            "marker": {
             "line": {
              "color": "white",
              "width": 0.5
             },
             "pattern": {
              "fillmode": "overlay",
              "size": 10,
              "solidity": 0.2
             }
            },
            "type": "bar"
           }
          ],
          "barpolar": [
           {
            "marker": {
             "line": {
              "color": "white",
              "width": 0.5
             },
             "pattern": {
              "fillmode": "overlay",
              "size": 10,
              "solidity": 0.2
             }
            },
            "type": "barpolar"
           }
          ],
          "carpet": [
           {
            "aaxis": {
             "endlinecolor": "#2a3f5f",
             "gridcolor": "#C8D4E3",
             "linecolor": "#C8D4E3",
             "minorgridcolor": "#C8D4E3",
             "startlinecolor": "#2a3f5f"
            },
            "baxis": {
             "endlinecolor": "#2a3f5f",
             "gridcolor": "#C8D4E3",
             "linecolor": "#C8D4E3",
             "minorgridcolor": "#C8D4E3",
             "startlinecolor": "#2a3f5f"
            },
            "type": "carpet"
           }
          ],
          "choropleth": [
           {
            "colorbar": {
             "outlinewidth": 0,
             "ticks": ""
            },
            "type": "choropleth"
           }
          ],
          "contour": [
           {
            "colorbar": {
             "outlinewidth": 0,
             "ticks": ""
            },
            "colorscale": [
             [
              0,
              "#0d0887"
             ],
             [
              0.1111111111111111,
              "#46039f"
             ],
             [
              0.2222222222222222,
              "#7201a8"
             ],
             [
              0.3333333333333333,
              "#9c179e"
             ],
             [
              0.4444444444444444,
              "#bd3786"
             ],
             [
              0.5555555555555556,
              "#d8576b"
             ],
             [
              0.6666666666666666,
              "#ed7953"
             ],
             [
              0.7777777777777778,
              "#fb9f3a"
             ],
             [
              0.8888888888888888,
              "#fdca26"
             ],
             [
              1,
              "#f0f921"
             ]
            ],
            "type": "contour"
           }
          ],
          "contourcarpet": [
           {
            "colorbar": {
             "outlinewidth": 0,
             "ticks": ""
            },
            "type": "contourcarpet"
           }
          ],
          "heatmap": [
           {
            "colorbar": {
             "outlinewidth": 0,
             "ticks": ""
            },
            "colorscale": [
             [
              0,
              "#0d0887"
             ],
             [
              0.1111111111111111,
              "#46039f"
             ],
             [
              0.2222222222222222,
              "#7201a8"
             ],
             [
              0.3333333333333333,
              "#9c179e"
             ],
             [
              0.4444444444444444,
              "#bd3786"
             ],
             [
              0.5555555555555556,
              "#d8576b"
             ],
             [
              0.6666666666666666,
              "#ed7953"
             ],
             [
              0.7777777777777778,
              "#fb9f3a"
             ],
             [
              0.8888888888888888,
              "#fdca26"
             ],
             [
              1,
              "#f0f921"
             ]
            ],
            "type": "heatmap"
           }
          ],
          "histogram": [
           {
            "marker": {
             "pattern": {
              "fillmode": "overlay",
              "size": 10,
              "solidity": 0.2
             }
            },
            "type": "histogram"
           }
          ],
          "histogram2d": [
           {
            "colorbar": {
             "outlinewidth": 0,
             "ticks": ""
            },
            "colorscale": [
             [
              0,
              "#0d0887"
             ],
             [
              0.1111111111111111,
              "#46039f"
             ],
             [
              0.2222222222222222,
              "#7201a8"
             ],
             [
              0.3333333333333333,
              "#9c179e"
             ],
             [
              0.4444444444444444,
              "#bd3786"
             ],
             [
              0.5555555555555556,
              "#d8576b"
             ],
             [
              0.6666666666666666,
              "#ed7953"
             ],
             [
              0.7777777777777778,
              "#fb9f3a"
             ],
             [
              0.8888888888888888,
              "#fdca26"
             ],
             [
              1,
              "#f0f921"
             ]
            ],
            "type": "histogram2d"
           }
          ],
          "histogram2dcontour": [
           {
            "colorbar": {
             "outlinewidth": 0,
             "ticks": ""
            },
            "colorscale": [
             [
              0,
              "#0d0887"
             ],
             [
              0.1111111111111111,
              "#46039f"
             ],
             [
              0.2222222222222222,
              "#7201a8"
             ],
             [
              0.3333333333333333,
              "#9c179e"
             ],
             [
              0.4444444444444444,
              "#bd3786"
             ],
             [
              0.5555555555555556,
              "#d8576b"
             ],
             [
              0.6666666666666666,
              "#ed7953"
             ],
             [
              0.7777777777777778,
              "#fb9f3a"
             ],
             [
              0.8888888888888888,
              "#fdca26"
             ],
             [
              1,
              "#f0f921"
             ]
            ],
            "type": "histogram2dcontour"
           }
          ],
          "mesh3d": [
           {
            "colorbar": {
             "outlinewidth": 0,
             "ticks": ""
            },
            "type": "mesh3d"
           }
          ],
          "parcoords": [
           {
            "line": {
             "colorbar": {
              "outlinewidth": 0,
              "ticks": ""
             }
            },
            "type": "parcoords"
           }
          ],
          "pie": [
           {
            "automargin": true,
            "type": "pie"
           }
          ],
          "scatter": [
           {
            "fillpattern": {
             "fillmode": "overlay",
             "size": 10,
             "solidity": 0.2
            },
            "type": "scatter"
           }
          ],
          "scatter3d": [
           {
            "line": {
             "colorbar": {
              "outlinewidth": 0,
              "ticks": ""
             }
            },
            "marker": {
             "colorbar": {
              "outlinewidth": 0,
              "ticks": ""
             }
            },
            "type": "scatter3d"
           }
          ],
          "scattercarpet": [
           {
            "marker": {
             "colorbar": {
              "outlinewidth": 0,
              "ticks": ""
             }
            },
            "type": "scattercarpet"
           }
          ],
          "scattergeo": [
           {
            "marker": {
             "colorbar": {
              "outlinewidth": 0,
              "ticks": ""
             }
            },
            "type": "scattergeo"
           }
          ],
          "scattergl": [
           {
            "marker": {
             "colorbar": {
              "outlinewidth": 0,
              "ticks": ""
             }
            },
            "type": "scattergl"
           }
          ],
          "scattermap": [
           {
            "marker": {
             "colorbar": {
              "outlinewidth": 0,
              "ticks": ""
             }
            },
            "type": "scattermap"
           }
          ],
          "scattermapbox": [
           {
            "marker": {
             "colorbar": {
              "outlinewidth": 0,
              "ticks": ""
             }
            },
            "type": "scattermapbox"
           }
          ],
          "scatterpolar": [
           {
            "marker": {
             "colorbar": {
              "outlinewidth": 0,
              "ticks": ""
             }
            },
            "type": "scatterpolar"
           }
          ],
          "scatterpolargl": [
           {
            "marker": {
             "colorbar": {
              "outlinewidth": 0,
              "ticks": ""
             }
            },
            "type": "scatterpolargl"
           }
          ],
          "scatterternary": [
           {
            "marker": {
             "colorbar": {
              "outlinewidth": 0,
              "ticks": ""
             }
            },
            "type": "scatterternary"
           }
          ],
          "surface": [
           {
            "colorbar": {
             "outlinewidth": 0,
             "ticks": ""
            },
            "colorscale": [
             [
              0,
              "#0d0887"
             ],
             [
              0.1111111111111111,
              "#46039f"
             ],
             [
              0.2222222222222222,
              "#7201a8"
             ],
             [
              0.3333333333333333,
              "#9c179e"
             ],
             [
              0.4444444444444444,
              "#bd3786"
             ],
             [
              0.5555555555555556,
              "#d8576b"
             ],
             [
              0.6666666666666666,
              "#ed7953"
             ],
             [
              0.7777777777777778,
              "#fb9f3a"
             ],
             [
              0.8888888888888888,
              "#fdca26"
             ],
             [
              1,
              "#f0f921"
             ]
            ],
            "type": "surface"
           }
          ],
          "table": [
           {
            "cells": {
             "fill": {
              "color": "#EBF0F8"
             },
             "line": {
              "color": "white"
             }
            },
            "header": {
             "fill": {
              "color": "#C8D4E3"
             },
             "line": {
              "color": "white"
             }
            },
            "type": "table"
           }
          ]
         },
         "layout": {
          "annotationdefaults": {
           "arrowcolor": "#2a3f5f",
           "arrowhead": 0,
           "arrowwidth": 1
          },
          "autotypenumbers": "strict",
          "coloraxis": {
           "colorbar": {
            "outlinewidth": 0,
            "ticks": ""
           }
          },
          "colorscale": {
           "diverging": [
            [
             0,
             "#8e0152"
            ],
            [
             0.1,
             "#c51b7d"
            ],
            [
             0.2,
             "#de77ae"
            ],
            [
             0.3,
             "#f1b6da"
            ],
            [
             0.4,
             "#fde0ef"
            ],
            [
             0.5,
             "#f7f7f7"
            ],
            [
             0.6,
             "#e6f5d0"
            ],
            [
             0.7,
             "#b8e186"
            ],
            [
             0.8,
             "#7fbc41"
            ],
            [
             0.9,
             "#4d9221"
            ],
            [
             1,
             "#276419"
            ]
           ],
           "sequential": [
            [
             0,
             "#0d0887"
            ],
            [
             0.1111111111111111,
             "#46039f"
            ],
            [
             0.2222222222222222,
             "#7201a8"
            ],
            [
             0.3333333333333333,
             "#9c179e"
            ],
            [
             0.4444444444444444,
             "#bd3786"
            ],
            [
             0.5555555555555556,
             "#d8576b"
            ],
            [
             0.6666666666666666,
             "#ed7953"
            ],
            [
             0.7777777777777778,
             "#fb9f3a"
            ],
            [
             0.8888888888888888,
             "#fdca26"
            ],
            [
             1,
             "#f0f921"
            ]
           ],
           "sequentialminus": [
            [
             0,
             "#0d0887"
            ],
            [
             0.1111111111111111,
             "#46039f"
            ],
            [
             0.2222222222222222,
             "#7201a8"
            ],
            [
             0.3333333333333333,
             "#9c179e"
            ],
            [
             0.4444444444444444,
             "#bd3786"
            ],
            [
             0.5555555555555556,
             "#d8576b"
            ],
            [
             0.6666666666666666,
             "#ed7953"
            ],
            [
             0.7777777777777778,
             "#fb9f3a"
            ],
            [
             0.8888888888888888,
             "#fdca26"
            ],
            [
             1,
             "#f0f921"
            ]
           ]
          },
          "colorway": [
           "#636efa",
           "#EF553B",
           "#00cc96",
           "#ab63fa",
           "#FFA15A",
           "#19d3f3",
           "#FF6692",
           "#B6E880",
           "#FF97FF",
           "#FECB52"
          ],
          "font": {
           "color": "#2a3f5f"
          },
          "geo": {
           "bgcolor": "white",
           "lakecolor": "white",
           "landcolor": "white",
           "showlakes": true,
           "showland": true,
           "subunitcolor": "#C8D4E3"
          },
          "hoverlabel": {
           "align": "left"
          },
          "hovermode": "closest",
          "mapbox": {
           "style": "light"
          },
          "paper_bgcolor": "white",
          "plot_bgcolor": "white",
          "polar": {
           "angularaxis": {
            "gridcolor": "#EBF0F8",
            "linecolor": "#EBF0F8",
            "ticks": ""
           },
           "bgcolor": "white",
           "radialaxis": {
            "gridcolor": "#EBF0F8",
            "linecolor": "#EBF0F8",
            "ticks": ""
           }
          },
          "scene": {
           "xaxis": {
            "backgroundcolor": "white",
            "gridcolor": "#DFE8F3",
            "gridwidth": 2,
            "linecolor": "#EBF0F8",
            "showbackground": true,
            "ticks": "",
            "zerolinecolor": "#EBF0F8"
           },
           "yaxis": {
            "backgroundcolor": "white",
            "gridcolor": "#DFE8F3",
            "gridwidth": 2,
            "linecolor": "#EBF0F8",
            "showbackground": true,
            "ticks": "",
            "zerolinecolor": "#EBF0F8"
           },
           "zaxis": {
            "backgroundcolor": "white",
            "gridcolor": "#DFE8F3",
            "gridwidth": 2,
            "linecolor": "#EBF0F8",
            "showbackground": true,
            "ticks": "",
            "zerolinecolor": "#EBF0F8"
           }
          },
          "shapedefaults": {
           "line": {
            "color": "#2a3f5f"
           }
          },
          "ternary": {
           "aaxis": {
            "gridcolor": "#DFE8F3",
            "linecolor": "#A2B1C6",
            "ticks": ""
           },
           "baxis": {
            "gridcolor": "#DFE8F3",
            "linecolor": "#A2B1C6",
            "ticks": ""
           },
           "bgcolor": "white",
           "caxis": {
            "gridcolor": "#DFE8F3",
            "linecolor": "#A2B1C6",
            "ticks": ""
           }
          },
          "title": {
           "x": 0.05
          },
          "xaxis": {
           "automargin": true,
           "gridcolor": "#EBF0F8",
           "linecolor": "#EBF0F8",
           "ticks": "",
           "title": {
            "standoff": 15
           },
           "zerolinecolor": "#EBF0F8",
           "zerolinewidth": 2
          },
          "yaxis": {
           "automargin": true,
           "gridcolor": "#EBF0F8",
           "linecolor": "#EBF0F8",
           "ticks": "",
           "title": {
            "standoff": 15
           },
           "zerolinecolor": "#EBF0F8",
           "zerolinewidth": 2
          }
         }
        },
        "title": {
         "text": "Distribución de Asistencia a Citas Médicas"
        },
        "xaxis": {
         "title": {
          "text": "Estado de Asistencia"
         }
        },
        "yaxis": {
         "title": {
          "text": "Cantidad de Pacientes"
         }
        }
       }
      }
     },
     "metadata": {},
     "output_type": "display_data"
    }
   ],
   "source": [
    "fig = plot_target_distribution(df)\n",
    "fig.show()"
   ]
  },
  {
   "cell_type": "markdown",
   "metadata": {},
   "source": [
    "### 3.2 Distribución de Edades"
   ]
  },
  {
   "cell_type": "code",
   "execution_count": 6,
   "metadata": {},
   "outputs": [
    {
     "data": {
      "application/vnd.plotly.v1+json": {
       "config": {
        "plotlyServerURL": "https://plot.ly"
       },
       "data": [
        {
         "bingroup": "x",
         "hovertemplate": "Edad=%{x}<br>count=%{y}<extra></extra>",
         "legendgroup": "",
         "marker": {
          "color": "#3498db",
          "pattern": {
           "shape": ""
          }
         },
         "name": "",
         "nbinsx": 30,
         "orientation": "v",
         "showlegend": false,
         "type": "histogram",
         "x": {
          "bdata": "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",
          "dtype": "i1"
         },
         "xaxis": "x",
         "yaxis": "y"
        }
       ],
       "layout": {
        "barmode": "relative",
        "legend": {
         "tracegroupgap": 0
        },
        "template": {
         "data": {
          "bar": [
           {
            "error_x": {
             "color": "#2a3f5f"
            },
            "error_y": {
             "color": "#2a3f5f"
            },
            "marker": {
             "line": {
              "color": "white",
              "width": 0.5
             },
             "pattern": {
              "fillmode": "overlay",
              "size": 10,
              "solidity": 0.2
             }
            },
            "type": "bar"
           }
          ],
          "barpolar": [
           {
            "marker": {
             "line": {
              "color": "white",
              "width": 0.5
             },
             "pattern": {
              "fillmode": "overlay",
              "size": 10,
              "solidity": 0.2
             }
            },
            "type": "barpolar"
           }
          ],
          "carpet": [
           {
            "aaxis": {
             "endlinecolor": "#2a3f5f",
             "gridcolor": "#C8D4E3",
             "linecolor": "#C8D4E3",
             "minorgridcolor": "#C8D4E3",
             "startlinecolor": "#2a3f5f"
            },
            "baxis": {
             "endlinecolor": "#2a3f5f",
             "gridcolor": "#C8D4E3",
             "linecolor": "#C8D4E3",
             "minorgridcolor": "#C8D4E3",
             "startlinecolor": "#2a3f5f"
            },
            "type": "carpet"
           }
          ],
          "choropleth": [
           {
            "colorbar": {
             "outlinewidth": 0,
             "ticks": ""
            },
            "type": "choropleth"
           }
          ],
          "contour": [
           {
            "colorbar": {
             "outlinewidth": 0,
             "ticks": ""
            },
            "colorscale": [
             [
              0,
              "#0d0887"
             ],
             [
              0.1111111111111111,
              "#46039f"
             ],
             [
              0.2222222222222222,
              "#7201a8"
             ],
             [
              0.3333333333333333,
              "#9c179e"
             ],
             [
              0.4444444444444444,
              "#bd3786"
             ],
             [
              0.5555555555555556,
              "#d8576b"
             ],
             [
              0.6666666666666666,
              "#ed7953"
             ],
             [
              0.7777777777777778,
              "#fb9f3a"
             ],
             [
              0.8888888888888888,
              "#fdca26"
             ],
             [
              1,
              "#f0f921"
             ]
            ],
            "type": "contour"
           }
          ],
          "contourcarpet": [
           {
            "colorbar": {
             "outlinewidth": 0,
             "ticks": ""
            },
            "type": "contourcarpet"
           }
          ],
          "heatmap": [
           {
            "colorbar": {
             "outlinewidth": 0,
             "ticks": ""
            },
            "colorscale": [
             [
              0,
              "#0d0887"
             ],
             [
              0.1111111111111111,
              "#46039f"
             ],
             [
              0.2222222222222222,
              "#7201a8"
             ],
             [
              0.3333333333333333,
              "#9c179e"
             ],
             [
              0.4444444444444444,
              "#bd3786"
             ],
             [
              0.5555555555555556,
              "#d8576b"
             ],
             [
              0.6666666666666666,
              "#ed7953"
             ],
             [
              0.7777777777777778,
              "#fb9f3a"
             ],
             [
              0.8888888888888888,
              "#fdca26"
             ],
             [
              1,
              "#f0f921"
             ]
            ],
            "type": "heatmap"
           }
          ],
          "histogram": [
           {
            "marker": {
             "pattern": {
              "fillmode": "overlay",
              "size": 10,
              "solidity": 0.2
             }
            },
            "type": "histogram"
           }
          ],
          "histogram2d": [
           {
            "colorbar": {
             "outlinewidth": 0,
             "ticks": ""
            },
            "colorscale": [
             [
              0,
              "#0d0887"
             ],
             [
              0.1111111111111111,
              "#46039f"
             ],
             [
              0.2222222222222222,
              "#7201a8"
             ],
             [
              0.3333333333333333,
              "#9c179e"
             ],
             [
              0.4444444444444444,
              "#bd3786"
             ],
             [
              0.5555555555555556,
              "#d8576b"
             ],
             [
              0.6666666666666666,
              "#ed7953"
             ],
             [
              0.7777777777777778,
              "#fb9f3a"
             ],
             [
              0.8888888888888888,
              "#fdca26"
             ],
             [
              1,
              "#f0f921"
             ]
            ],
            "type": "histogram2d"
           }
          ],
          "histogram2dcontour": [
           {
            "colorbar": {
             "outlinewidth": 0,
             "ticks": ""
            },
            "colorscale": [
             [
              0,
              "#0d0887"
             ],
             [
              0.1111111111111111,
              "#46039f"
             ],
             [
              0.2222222222222222,
              "#7201a8"
             ],
             [
              0.3333333333333333,
              "#9c179e"
             ],
             [
              0.4444444444444444,
              "#bd3786"
             ],
             [
              0.5555555555555556,
              "#d8576b"
             ],
             [
              0.6666666666666666,
              "#ed7953"
             ],
             [
              0.7777777777777778,
              "#fb9f3a"
             ],
             [
              0.8888888888888888,
              "#fdca26"
             ],
             [
              1,
              "#f0f921"
             ]
            ],
            "type": "histogram2dcontour"
           }
          ],
          "mesh3d": [
           {
            "colorbar": {
             "outlinewidth": 0,
             "ticks": ""
            },
            "type": "mesh3d"
           }
          ],
          "parcoords": [
           {
            "line": {
             "colorbar": {
              "outlinewidth": 0,
              "ticks": ""
             }
            },
            "type": "parcoords"
           }
          ],
          "pie": [
           {
            "automargin": true,
            "type": "pie"
           }
          ],
          "scatter": [
           {
            "fillpattern": {
             "fillmode": "overlay",
             "size": 10,
             "solidity": 0.2
            },
            "type": "scatter"
           }
          ],
          "scatter3d": [
           {
            "line": {
             "colorbar": {
              "outlinewidth": 0,
              "ticks": ""
             }
            },
            "marker": {
             "colorbar": {
              "outlinewidth": 0,
              "ticks": ""
             }
            },
            "type": "scatter3d"
           }
          ],
          "scattercarpet": [
           {
            "marker": {
             "colorbar": {
              "outlinewidth": 0,
              "ticks": ""
             }
            },
            "type": "scattercarpet"
           }
          ],
          "scattergeo": [
           {
            "marker": {
             "colorbar": {
              "outlinewidth": 0,
              "ticks": ""
             }
            },
            "type": "scattergeo"
           }
          ],
          "scattergl": [
           {
            "marker": {
             "colorbar": {
              "outlinewidth": 0,
              "ticks": ""
             }
            },
            "type": "scattergl"
           }
          ],
          "scattermap": [
           {
            "marker": {
             "colorbar": {
              "outlinewidth": 0,
              "ticks": ""
             }
            },
            "type": "scattermap"
           }
          ],
          "scattermapbox": [
           {
            "marker": {
             "colorbar": {
              "outlinewidth": 0,
              "ticks": ""
             }
            },
            "type": "scattermapbox"
           }
          ],
          "scatterpolar": [
           {
            "marker": {
             "colorbar": {
              "outlinewidth": 0,
              "ticks": ""
             }
            },
            "type": "scatterpolar"
           }
          ],
          "scatterpolargl": [
           {
            "marker": {
             "colorbar": {
              "outlinewidth": 0,
              "ticks": ""
             }
            },
            "type": "scatterpolargl"
           }
          ],
          "scatterternary": [
           {
            "marker": {
             "colorbar": {
              "outlinewidth": 0,
              "ticks": ""
             }
            },
            "type": "scatterternary"
           }
          ],
          "surface": [
           {
            "colorbar": {
             "outlinewidth": 0,
             "ticks": ""
            },
            "colorscale": [
             [
              0,
              "#0d0887"
             ],
             [
              0.1111111111111111,
              "#46039f"
             ],
             [
              0.2222222222222222,
              "#7201a8"
             ],
             [
              0.3333333333333333,
              "#9c179e"
             ],
             [
              0.4444444444444444,
              "#bd3786"
             ],
             [
              0.5555555555555556,
              "#d8576b"
             ],
             [
              0.6666666666666666,
              "#ed7953"
             ],
             [
              0.7777777777777778,
              "#fb9f3a"
             ],
             [
              0.8888888888888888,
              "#fdca26"
             ],
             [
              1,
              "#f0f921"
             ]
            ],
            "type": "surface"
           }
          ],
          "table": [
           {
            "cells": {
             "fill": {
              "color": "#EBF0F8"
             },
             "line": {
              "color": "white"
             }
            },
            "header": {
             "fill": {
              "color": "#C8D4E3"
             },
             "line": {
              "color": "white"
             }
            },
            "type": "table"
           }
          ]
         },
         "layout": {
          "annotationdefaults": {
           "arrowcolor": "#2a3f5f",
           "arrowhead": 0,
           "arrowwidth": 1
          },
          "autotypenumbers": "strict",
          "coloraxis": {
           "colorbar": {
            "outlinewidth": 0,
            "ticks": ""
           }
          },
          "colorscale": {
           "diverging": [
            [
             0,
             "#8e0152"
            ],
            [
             0.1,
             "#c51b7d"
            ],
            [
             0.2,
             "#de77ae"
            ],
            [
             0.3,
             "#f1b6da"
            ],
            [
             0.4,
             "#fde0ef"
            ],
            [
             0.5,
             "#f7f7f7"
            ],
            [
             0.6,
             "#e6f5d0"
            ],
            [
             0.7,
             "#b8e186"
            ],
            [
             0.8,
             "#7fbc41"
            ],
            [
             0.9,
             "#4d9221"
            ],
            [
             1,
             "#276419"
            ]
           ],
           "sequential": [
            [
             0,
             "#0d0887"
            ],
            [
             0.1111111111111111,
             "#46039f"
            ],
            [
             0.2222222222222222,
             "#7201a8"
            ],
            [
             0.3333333333333333,
             "#9c179e"
            ],
            [
             0.4444444444444444,
             "#bd3786"
            ],
            [
             0.5555555555555556,
             "#d8576b"
            ],
            [
             0.6666666666666666,
             "#ed7953"
            ],
            [
             0.7777777777777778,
             "#fb9f3a"
            ],
            [
             0.8888888888888888,
             "#fdca26"
            ],
            [
             1,
             "#f0f921"
            ]
           ],
           "sequentialminus": [
            [
             0,
             "#0d0887"
            ],
            [
             0.1111111111111111,
             "#46039f"
            ],
            [
             0.2222222222222222,
             "#7201a8"
            ],
            [
             0.3333333333333333,
             "#9c179e"
            ],
            [
             0.4444444444444444,
             "#bd3786"
            ],
            [
             0.5555555555555556,
             "#d8576b"
            ],
            [
             0.6666666666666666,
             "#ed7953"
            ],
            [
             0.7777777777777778,
             "#fb9f3a"
            ],
            [
             0.8888888888888888,
             "#fdca26"
            ],
            [
             1,
             "#f0f921"
            ]
           ]
          },
          "colorway": [
           "#636efa",
           "#EF553B",
           "#00cc96",
           "#ab63fa",
           "#FFA15A",
           "#19d3f3",
           "#FF6692",
           "#B6E880",
           "#FF97FF",
           "#FECB52"
          ],
          "font": {
           "color": "#2a3f5f"
          },
          "geo": {
           "bgcolor": "white",
           "lakecolor": "white",
           "landcolor": "white",
           "showlakes": true,
           "showland": true,
           "subunitcolor": "#C8D4E3"
          },
          "hoverlabel": {
           "align": "left"
          },
          "hovermode": "closest",
          "mapbox": {
           "style": "light"
          },
          "paper_bgcolor": "white",
          "plot_bgcolor": "white",
          "polar": {
           "angularaxis": {
            "gridcolor": "#EBF0F8",
            "linecolor": "#EBF0F8",
            "ticks": ""
           },
           "bgcolor": "white",
           "radialaxis": {
            "gridcolor": "#EBF0F8",
            "linecolor": "#EBF0F8",
            "ticks": ""
           }
          },
          "scene": {
           "xaxis": {
            "backgroundcolor": "white",
            "gridcolor": "#DFE8F3",
            "gridwidth": 2,
            "linecolor": "#EBF0F8",
            "showbackground": true,
            "ticks": "",
            "zerolinecolor": "#EBF0F8"
           },
           "yaxis": {
            "backgroundcolor": "white",
            "gridcolor": "#DFE8F3",
            "gridwidth": 2,
            "linecolor": "#EBF0F8",
            "showbackground": true,
            "ticks": "",
            "zerolinecolor": "#EBF0F8"
           },
           "zaxis": {
            "backgroundcolor": "white",
            "gridcolor": "#DFE8F3",
            "gridwidth": 2,
            "linecolor": "#EBF0F8",
            "showbackground": true,
            "ticks": "",
            "zerolinecolor": "#EBF0F8"
           }
          },
          "shapedefaults": {
           "line": {
            "color": "#2a3f5f"
           }
          },
          "ternary": {
           "aaxis": {
            "gridcolor": "#DFE8F3",
            "linecolor": "#A2B1C6",
            "ticks": ""
           },
           "baxis": {
            "gridcolor": "#DFE8F3",
            "linecolor": "#A2B1C6",
            "ticks": ""
           },
           "bgcolor": "white",
           "caxis": {
            "gridcolor": "#DFE8F3",
            "linecolor": "#A2B1C6",
            "ticks": ""
           }
          },
          "title": {
           "x": 0.05
          },
          "xaxis": {
           "automargin": true,
           "gridcolor": "#EBF0F8",
           "linecolor": "#EBF0F8",
           "ticks": "",
           "title": {
            "standoff": 15
           },
           "zerolinecolor": "#EBF0F8",
           "zerolinewidth": 2
          },
          "yaxis": {
           "automargin": true,
           "gridcolor": "#EBF0F8",
           "linecolor": "#EBF0F8",
           "ticks": "",
           "title": {
            "standoff": 15
           },
           "zerolinecolor": "#EBF0F8",
           "zerolinewidth": 2
          }
         }
        },
        "title": {
         "text": "Distribución de Edades de Pacientes"
        },
        "xaxis": {
         "anchor": "y",
         "domain": [
          0,
          1
         ],
         "title": {
          "text": "Edad"
         }
        },
        "yaxis": {
         "anchor": "x",
         "domain": [
          0,
          1
         ],
         "title": {
          "text": "count"
         }
        }
       }
      }
     },
     "metadata": {},
     "output_type": "display_data"
    }
   ],
   "source": [
    "fig = plot_age_distribution(df)\n",
    "fig.show()"
   ]
  },
  {
   "cell_type": "markdown",
   "metadata": {},
   "source": [
    "### 3.3 Condiciones Crónicas"
   ]
  },
  {
   "cell_type": "code",
   "execution_count": 7,
   "metadata": {},
   "outputs": [
    {
     "data": {
      "application/vnd.plotly.v1+json": {
       "config": {
        "plotlyServerURL": "https://plot.ly"
       },
       "data": [
        {
         "marker": {
          "color": [
           "#e67e22",
           "#9b59b6",
           "#34495e"
          ]
         },
         "text": [
          "21800",
          "7943",
          "3360"
         ],
         "textposition": "auto",
         "type": "bar",
         "x": [
          "Hipertension",
          "Diabetes",
          "Alcoholism"
         ],
         "y": [
          21800,
          7943,
          3360
         ]
        }
       ],
       "layout": {
        "template": {
         "data": {
          "bar": [
           {
            "error_x": {
             "color": "#2a3f5f"
            },
            "error_y": {
             "color": "#2a3f5f"
            },
            "marker": {
             "line": {
              "color": "white",
              "width": 0.5
             },
             "pattern": {
              "fillmode": "overlay",
              "size": 10,
              "solidity": 0.2
             }
            },
            "type": "bar"
           }
          ],
          "barpolar": [
           {
            "marker": {
             "line": {
              "color": "white",
              "width": 0.5
             },
             "pattern": {
              "fillmode": "overlay",
              "size": 10,
              "solidity": 0.2
             }
            },
            "type": "barpolar"
           }
          ],
          "carpet": [
           {
            "aaxis": {
             "endlinecolor": "#2a3f5f",
             "gridcolor": "#C8D4E3",
             "linecolor": "#C8D4E3",
             "minorgridcolor": "#C8D4E3",
             "startlinecolor": "#2a3f5f"
            },
            "baxis": {
             "endlinecolor": "#2a3f5f",
             "gridcolor": "#C8D4E3",
             "linecolor": "#C8D4E3",
             "minorgridcolor": "#C8D4E3",
             "startlinecolor": "#2a3f5f"
            },
            "type": "carpet"
           }
          ],
          "choropleth": [
           {
            "colorbar": {
             "outlinewidth": 0,
             "ticks": ""
            },
            "type": "choropleth"
           }
          ],
          "contour": [
           {
            "colorbar": {
             "outlinewidth": 0,
             "ticks": ""
            },
            "colorscale": [
             [
              0,
              "#0d0887"
             ],
             [
              0.1111111111111111,
              "#46039f"
             ],
             [
              0.2222222222222222,
              "#7201a8"
             ],
             [
              0.3333333333333333,
              "#9c179e"
             ],
             [
              0.4444444444444444,
              "#bd3786"
             ],
             [
              0.5555555555555556,
              "#d8576b"
             ],
             [
              0.6666666666666666,
              "#ed7953"
             ],
             [
              0.7777777777777778,
              "#fb9f3a"
             ],
             [
              0.8888888888888888,
              "#fdca26"
             ],
             [
              1,
              "#f0f921"
             ]
            ],
            "type": "contour"
           }
          ],
          "contourcarpet": [
           {
            "colorbar": {
             "outlinewidth": 0,
             "ticks": ""
            },
            "type": "contourcarpet"
           }
          ],
          "heatmap": [
           {
            "colorbar": {
             "outlinewidth": 0,
             "ticks": ""
            },
            "colorscale": [
             [
              0,
              "#0d0887"
             ],
             [
              0.1111111111111111,
              "#46039f"
             ],
             [
              0.2222222222222222,
              "#7201a8"
             ],
             [
              0.3333333333333333,
              "#9c179e"
             ],
             [
              0.4444444444444444,
              "#bd3786"
             ],
             [
              0.5555555555555556,
              "#d8576b"
             ],
             [
              0.6666666666666666,
              "#ed7953"
             ],
             [
              0.7777777777777778,
              "#fb9f3a"
             ],
             [
              0.8888888888888888,
              "#fdca26"
             ],
             [
              1,
              "#f0f921"
             ]
            ],
            "type": "heatmap"
           }
          ],
          "histogram": [
           {
            "marker": {
             "pattern": {
              "fillmode": "overlay",
              "size": 10,
              "solidity": 0.2
             }
            },
            "type": "histogram"
           }
          ],
          "histogram2d": [
           {
            "colorbar": {
             "outlinewidth": 0,
             "ticks": ""
            },
            "colorscale": [
             [
              0,
              "#0d0887"
             ],
             [
              0.1111111111111111,
              "#46039f"
             ],
             [
              0.2222222222222222,
              "#7201a8"
             ],
             [
              0.3333333333333333,
              "#9c179e"
             ],
             [
              0.4444444444444444,
              "#bd3786"
             ],
             [
              0.5555555555555556,
              "#d8576b"
             ],
             [
              0.6666666666666666,
              "#ed7953"
             ],
             [
              0.7777777777777778,
              "#fb9f3a"
             ],
             [
              0.8888888888888888,
              "#fdca26"
             ],
             [
              1,
              "#f0f921"
             ]
            ],
            "type": "histogram2d"
           }
          ],
          "histogram2dcontour": [
           {
            "colorbar": {
             "outlinewidth": 0,
             "ticks": ""
            },
            "colorscale": [
             [
              0,
              "#0d0887"
             ],
             [
              0.1111111111111111,
              "#46039f"
             ],
             [
              0.2222222222222222,
              "#7201a8"
             ],
             [
              0.3333333333333333,
              "#9c179e"
             ],
             [
              0.4444444444444444,
              "#bd3786"
             ],
             [
              0.5555555555555556,
              "#d8576b"
             ],
             [
              0.6666666666666666,
              "#ed7953"
             ],
             [
              0.7777777777777778,
              "#fb9f3a"
             ],
             [
              0.8888888888888888,
              "#fdca26"
             ],
             [
              1,
              "#f0f921"
             ]
            ],
            "type": "histogram2dcontour"
           }
          ],
          "mesh3d": [
           {
            "colorbar": {
             "outlinewidth": 0,
             "ticks": ""
            },
            "type": "mesh3d"
           }
          ],
          "parcoords": [
           {
            "line": {
             "colorbar": {
              "outlinewidth": 0,
              "ticks": ""
             }
            },
            "type": "parcoords"
           }
          ],
          "pie": [
           {
            "automargin": true,
            "type": "pie"
           }
          ],
          "scatter": [
           {
            "fillpattern": {
             "fillmode": "overlay",
             "size": 10,
             "solidity": 0.2
            },
            "type": "scatter"
           }
          ],
          "scatter3d": [
           {
            "line": {
             "colorbar": {
              "outlinewidth": 0,
              "ticks": ""
             }
            },
            "marker": {
             "colorbar": {
              "outlinewidth": 0,
              "ticks": ""
             }
            },
            "type": "scatter3d"
           }
          ],
          "scattercarpet": [
           {
            "marker": {
             "colorbar": {
              "outlinewidth": 0,
              "ticks": ""
             }
            },
            "type": "scattercarpet"
           }
          ],
          "scattergeo": [
           {
            "marker": {
             "colorbar": {
              "outlinewidth": 0,
              "ticks": ""
             }
            },
            "type": "scattergeo"
           }
          ],
          "scattergl": [
           {
            "marker": {
             "colorbar": {
              "outlinewidth": 0,
              "ticks": ""
             }
            },
            "type": "scattergl"
           }
          ],
          "scattermap": [
           {
            "marker": {
             "colorbar": {
              "outlinewidth": 0,
              "ticks": ""
             }
            },
            "type": "scattermap"
           }
          ],
          "scattermapbox": [
           {
            "marker": {
             "colorbar": {
              "outlinewidth": 0,
              "ticks": ""
             }
            },
            "type": "scattermapbox"
           }
          ],
          "scatterpolar": [
           {
            "marker": {
             "colorbar": {
              "outlinewidth": 0,
              "ticks": ""
             }
            },
            "type": "scatterpolar"
           }
          ],
          "scatterpolargl": [
           {
            "marker": {
             "colorbar": {
              "outlinewidth": 0,
              "ticks": ""
             }
            },
            "type": "scatterpolargl"
           }
          ],
          "scatterternary": [
           {
            "marker": {
             "colorbar": {
              "outlinewidth": 0,
              "ticks": ""
             }
            },
            "type": "scatterternary"
           }
          ],
          "surface": [
           {
            "colorbar": {
             "outlinewidth": 0,
             "ticks": ""
            },
            "colorscale": [
             [
              0,
              "#0d0887"
             ],
             [
              0.1111111111111111,
              "#46039f"
             ],
             [
              0.2222222222222222,
              "#7201a8"
             ],
             [
              0.3333333333333333,
              "#9c179e"
             ],
             [
              0.4444444444444444,
              "#bd3786"
             ],
             [
              0.5555555555555556,
              "#d8576b"
             ],
             [
              0.6666666666666666,
              "#ed7953"
             ],
             [
              0.7777777777777778,
              "#fb9f3a"
             ],
             [
              0.8888888888888888,
              "#fdca26"
             ],
             [
              1,
              "#f0f921"
             ]
            ],
            "type": "surface"
           }
          ],
          "table": [
           {
            "cells": {
             "fill": {
              "color": "#EBF0F8"
             },
             "line": {
              "color": "white"
             }
            },
            "header": {
             "fill": {
              "color": "#C8D4E3"
             },
             "line": {
              "color": "white"
             }
            },
            "type": "table"
           }
          ]
         },
         "layout": {
          "annotationdefaults": {
           "arrowcolor": "#2a3f5f",
           "arrowhead": 0,
           "arrowwidth": 1
          },
          "autotypenumbers": "strict",
          "coloraxis": {
           "colorbar": {
            "outlinewidth": 0,
            "ticks": ""
           }
          },
          "colorscale": {
           "diverging": [
            [
             0,
             "#8e0152"
            ],
            [
             0.1,
             "#c51b7d"
            ],
            [
             0.2,
             "#de77ae"
            ],
            [
             0.3,
             "#f1b6da"
            ],
            [
             0.4,
             "#fde0ef"
            ],
            [
             0.5,
             "#f7f7f7"
            ],
            [
             0.6,
             "#e6f5d0"
            ],
            [
             0.7,
             "#b8e186"
            ],
            [
             0.8,
             "#7fbc41"
            ],
            [
             0.9,
             "#4d9221"
            ],
            [
             1,
             "#276419"
            ]
           ],
           "sequential": [
            [
             0,
             "#0d0887"
            ],
            [
             0.1111111111111111,
             "#46039f"
            ],
            [
             0.2222222222222222,
             "#7201a8"
            ],
            [
             0.3333333333333333,
             "#9c179e"
            ],
            [
             0.4444444444444444,
             "#bd3786"
            ],
            [
             0.5555555555555556,
             "#d8576b"
            ],
            [
             0.6666666666666666,
             "#ed7953"
            ],
            [
             0.7777777777777778,
             "#fb9f3a"
            ],
            [
             0.8888888888888888,
             "#fdca26"
            ],
            [
             1,
             "#f0f921"
            ]
           ],
           "sequentialminus": [
            [
             0,
             "#0d0887"
            ],
            [
             0.1111111111111111,
             "#46039f"
            ],
            [
             0.2222222222222222,
             "#7201a8"
            ],
            [
             0.3333333333333333,
             "#9c179e"
            ],
            [
             0.4444444444444444,
             "#bd3786"
            ],
            [
             0.5555555555555556,
             "#d8576b"
            ],
            [
             0.6666666666666666,
             "#ed7953"
            ],
            [
             0.7777777777777778,
             "#fb9f3a"
            ],
            [
             0.8888888888888888,
             "#fdca26"
            ],
            [
             1,
             "#f0f921"
            ]
           ]
          },
          "colorway": [
           "#636efa",
           "#EF553B",
           "#00cc96",
           "#ab63fa",
           "#FFA15A",
           "#19d3f3",
           "#FF6692",
           "#B6E880",
           "#FF97FF",
           "#FECB52"
          ],
          "font": {
           "color": "#2a3f5f"
          },
          "geo": {
           "bgcolor": "white",
           "lakecolor": "white",
           "landcolor": "white",
           "showlakes": true,
           "showland": true,
           "subunitcolor": "#C8D4E3"
          },
          "hoverlabel": {
           "align": "left"
          },
          "hovermode": "closest",
          "mapbox": {
           "style": "light"
          },
          "paper_bgcolor": "white",
          "plot_bgcolor": "white",
          "polar": {
           "angularaxis": {
            "gridcolor": "#EBF0F8",
            "linecolor": "#EBF0F8",
            "ticks": ""
           },
           "bgcolor": "white",
           "radialaxis": {
            "gridcolor": "#EBF0F8",
            "linecolor": "#EBF0F8",
            "ticks": ""
           }
          },
          "scene": {
           "xaxis": {
            "backgroundcolor": "white",
            "gridcolor": "#DFE8F3",
            "gridwidth": 2,
            "linecolor": "#EBF0F8",
            "showbackground": true,
            "ticks": "",
            "zerolinecolor": "#EBF0F8"
           },
           "yaxis": {
            "backgroundcolor": "white",
            "gridcolor": "#DFE8F3",
            "gridwidth": 2,
            "linecolor": "#EBF0F8",
            "showbackground": true,
            "ticks": "",
            "zerolinecolor": "#EBF0F8"
           },
           "zaxis": {
            "backgroundcolor": "white",
            "gridcolor": "#DFE8F3",
            "gridwidth": 2,
            "linecolor": "#EBF0F8",
            "showbackground": true,
            "ticks": "",
            "zerolinecolor": "#EBF0F8"
           }
          },
          "shapedefaults": {
           "line": {
            "color": "#2a3f5f"
           }
          },
          "ternary": {
           "aaxis": {
            "gridcolor": "#DFE8F3",
            "linecolor": "#A2B1C6",
            "ticks": ""
           },
           "baxis": {
            "gridcolor": "#DFE8F3",
            "linecolor": "#A2B1C6",
            "ticks": ""
           },
           "bgcolor": "white",
           "caxis": {
            "gridcolor": "#DFE8F3",
            "linecolor": "#A2B1C6",
            "ticks": ""
           }
          },
          "title": {
           "x": 0.05
          },
          "xaxis": {
           "automargin": true,
           "gridcolor": "#EBF0F8",
           "linecolor": "#EBF0F8",
           "ticks": "",
           "title": {
            "standoff": 15
           },
           "zerolinecolor": "#EBF0F8",
           "zerolinewidth": 2
          },
          "yaxis": {
           "automargin": true,
           "gridcolor": "#EBF0F8",
           "linecolor": "#EBF0F8",
           "ticks": "",
           "title": {
            "standoff": 15
           },
           "zerolinecolor": "#EBF0F8",
           "zerolinewidth": 2
          }
         }
        },
        "title": {
         "text": "Prevalencia de Condiciones Crónicas"
        },
        "xaxis": {
         "title": {
          "text": "Condición"
         }
        },
        "yaxis": {
         "title": {
          "text": "Número de Pacientes"
         }
        }
       }
      }
     },
     "metadata": {},
     "output_type": "display_data"
    }
   ],
   "source": [
    "fig = plot_chronic_conditions(df)\n",
    "fig.show()"
   ]
  },
  {
   "cell_type": "markdown",
   "metadata": {},
   "source": [
    "### 3.4 Asistencia por Recepción de SMS"
   ]
  },
  {
   "cell_type": "code",
   "execution_count": 8,
   "metadata": {},
   "outputs": [
    {
     "data": {
      "application/vnd.plotly.v1+json": {
       "config": {
        "plotlyServerURL": "https://plot.ly"
       },
       "data": [
        {
         "alignmentgroup": "True",
         "hovertemplate": "SMS_received=%{x}<br>Cantidad=%{y}<br>Estado=%{marker.color}<extra></extra>",
         "legendgroup": "",
         "marker": {
          "color": {
           "bdata": "AAEAAQ==",
           "dtype": "i1"
          },
          "coloraxis": "coloraxis",
          "pattern": {
           "shape": ""
          }
         },
         "name": "",
         "offsetgroup": "",
         "orientation": "v",
         "showlegend": false,
         "textposition": "auto",
         "type": "bar",
         "x": {
          "bdata": "AAABAQ==",
          "dtype": "i1"
         },
         "xaxis": "x",
         "y": {
          "bdata": "KvQAAPQwAABhZAAAOCYAAA==",
          "dtype": "i4"
         },
         "yaxis": "y"
        }
       ],
       "layout": {
        "barmode": "group",
        "coloraxis": {
         "colorbar": {
          "title": {
           "text": "Estado"
          }
         },
         "colorscale": [
          [
           0,
           "#0d0887"
          ],
          [
           0.1111111111111111,
           "#46039f"
          ],
          [
           0.2222222222222222,
           "#7201a8"
          ],
          [
           0.3333333333333333,
           "#9c179e"
          ],
          [
           0.4444444444444444,
           "#bd3786"
          ],
          [
           0.5555555555555556,
           "#d8576b"
          ],
          [
           0.6666666666666666,
           "#ed7953"
          ],
          [
           0.7777777777777778,
           "#fb9f3a"
          ],
          [
           0.8888888888888888,
           "#fdca26"
          ],
          [
           1,
           "#f0f921"
          ]
         ]
        },
        "legend": {
         "tracegroupgap": 0
        },
        "template": {
         "data": {
          "bar": [
           {
            "error_x": {
             "color": "#2a3f5f"
            },
            "error_y": {
             "color": "#2a3f5f"
            },
            "marker": {
             "line": {
              "color": "white",
              "width": 0.5
             },
             "pattern": {
              "fillmode": "overlay",
              "size": 10,
              "solidity": 0.2
             }
            },
            "type": "bar"
           }
          ],
          "barpolar": [
           {
            "marker": {
             "line": {
              "color": "white",
              "width": 0.5
             },
             "pattern": {
              "fillmode": "overlay",
              "size": 10,
              "solidity": 0.2
             }
            },
            "type": "barpolar"
           }
          ],
          "carpet": [
           {
            "aaxis": {
             "endlinecolor": "#2a3f5f",
             "gridcolor": "#C8D4E3",
             "linecolor": "#C8D4E3",
             "minorgridcolor": "#C8D4E3",
             "startlinecolor": "#2a3f5f"
            },
            "baxis": {
             "endlinecolor": "#2a3f5f",
             "gridcolor": "#C8D4E3",
             "linecolor": "#C8D4E3",
             "minorgridcolor": "#C8D4E3",
             "startlinecolor": "#2a3f5f"
            },
            "type": "carpet"
           }
          ],
          "choropleth": [
           {
            "colorbar": {
             "outlinewidth": 0,
             "ticks": ""
            },
            "type": "choropleth"
           }
          ],
          "contour": [
           {
            "colorbar": {
             "outlinewidth": 0,
             "ticks": ""
            },
            "colorscale": [
             [
              0,
              "#0d0887"
             ],
             [
              0.1111111111111111,
              "#46039f"
             ],
             [
              0.2222222222222222,
              "#7201a8"
             ],
             [
              0.3333333333333333,
              "#9c179e"
             ],
             [
              0.4444444444444444,
              "#bd3786"
             ],
             [
              0.5555555555555556,
              "#d8576b"
             ],
             [
              0.6666666666666666,
              "#ed7953"
             ],
             [
              0.7777777777777778,
              "#fb9f3a"
             ],
             [
              0.8888888888888888,
              "#fdca26"
             ],
             [
              1,
              "#f0f921"
             ]
            ],
            "type": "contour"
           }
          ],
          "contourcarpet": [
           {
            "colorbar": {
             "outlinewidth": 0,
             "ticks": ""
            },
            "type": "contourcarpet"
           }
          ],
          "heatmap": [
           {
            "colorbar": {
             "outlinewidth": 0,
             "ticks": ""
            },
            "colorscale": [
             [
              0,
              "#0d0887"
             ],
             [
              0.1111111111111111,
              "#46039f"
             ],
             [
              0.2222222222222222,
              "#7201a8"
             ],
             [
              0.3333333333333333,
              "#9c179e"
             ],
             [
              0.4444444444444444,
              "#bd3786"
             ],
             [
              0.5555555555555556,
              "#d8576b"
             ],
             [
              0.6666666666666666,
              "#ed7953"
             ],
             [
              0.7777777777777778,
              "#fb9f3a"
             ],
             [
              0.8888888888888888,
              "#fdca26"
             ],
             [
              1,
              "#f0f921"
             ]
            ],
            "type": "heatmap"
           }
          ],
          "histogram": [
           {
            "marker": {
             "pattern": {
              "fillmode": "overlay",
              "size": 10,
              "solidity": 0.2
             }
            },
            "type": "histogram"
           }
          ],
          "histogram2d": [
           {
            "colorbar": {
             "outlinewidth": 0,
             "ticks": ""
            },
            "colorscale": [
             [
              0,
              "#0d0887"
             ],
             [
              0.1111111111111111,
              "#46039f"
             ],
             [
              0.2222222222222222,
              "#7201a8"
             ],
             [
              0.3333333333333333,
              "#9c179e"
             ],
             [
              0.4444444444444444,
              "#bd3786"
             ],
             [
              0.5555555555555556,
              "#d8576b"
             ],
             [
              0.6666666666666666,
              "#ed7953"
             ],
             [
              0.7777777777777778,
              "#fb9f3a"
             ],
             [
              0.8888888888888888,
              "#fdca26"
             ],
             [
              1,
              "#f0f921"
             ]
            ],
            "type": "histogram2d"
           }
          ],
          "histogram2dcontour": [
           {
            "colorbar": {
             "outlinewidth": 0,
             "ticks": ""
            },
            "colorscale": [
             [
              0,
              "#0d0887"
             ],
             [
              0.1111111111111111,
              "#46039f"
             ],
             [
              0.2222222222222222,
              "#7201a8"
             ],
             [
              0.3333333333333333,
              "#9c179e"
             ],
             [
              0.4444444444444444,
              "#bd3786"
             ],
             [
              0.5555555555555556,
              "#d8576b"
             ],
             [
              0.6666666666666666,
              "#ed7953"
             ],
             [
              0.7777777777777778,
              "#fb9f3a"
             ],
             [
              0.8888888888888888,
              "#fdca26"
             ],
             [
              1,
              "#f0f921"
             ]
            ],
            "type": "histogram2dcontour"
           }
          ],
          "mesh3d": [
           {
            "colorbar": {
             "outlinewidth": 0,
             "ticks": ""
            },
            "type": "mesh3d"
           }
          ],
          "parcoords": [
           {
            "line": {
             "colorbar": {
              "outlinewidth": 0,
              "ticks": ""
             }
            },
            "type": "parcoords"
           }
          ],
          "pie": [
           {
            "automargin": true,
            "type": "pie"
           }
          ],
          "scatter": [
           {
            "fillpattern": {
             "fillmode": "overlay",
             "size": 10,
             "solidity": 0.2
            },
            "type": "scatter"
           }
          ],
          "scatter3d": [
           {
            "line": {
             "colorbar": {
              "outlinewidth": 0,
              "ticks": ""
             }
            },
            "marker": {
             "colorbar": {
              "outlinewidth": 0,
              "ticks": ""
             }
            },
            "type": "scatter3d"
           }
          ],
          "scattercarpet": [
           {
            "marker": {
             "colorbar": {
              "outlinewidth": 0,
              "ticks": ""
             }
            },
            "type": "scattercarpet"
           }
          ],
          "scattergeo": [
           {
            "marker": {
             "colorbar": {
              "outlinewidth": 0,
              "ticks": ""
             }
            },
            "type": "scattergeo"
           }
          ],
          "scattergl": [
           {
            "marker": {
             "colorbar": {
              "outlinewidth": 0,
              "ticks": ""
             }
            },
            "type": "scattergl"
           }
          ],
          "scattermap": [
           {
            "marker": {
             "colorbar": {
              "outlinewidth": 0,
              "ticks": ""
             }
            },
            "type": "scattermap"
           }
          ],
          "scattermapbox": [
           {
            "marker": {
             "colorbar": {
              "outlinewidth": 0,
              "ticks": ""
             }
            },
            "type": "scattermapbox"
           }
          ],
          "scatterpolar": [
           {
            "marker": {
             "colorbar": {
              "outlinewidth": 0,
              "ticks": ""
             }
            },
            "type": "scatterpolar"
           }
          ],
          "scatterpolargl": [
           {
            "marker": {
             "colorbar": {
              "outlinewidth": 0,
              "ticks": ""
             }
            },
            "type": "scatterpolargl"
           }
          ],
          "scatterternary": [
           {
            "marker": {
             "colorbar": {
              "outlinewidth": 0,
              "ticks": ""
             }
            },
            "type": "scatterternary"
           }
          ],
          "surface": [
           {
            "colorbar": {
             "outlinewidth": 0,
             "ticks": ""
            },
            "colorscale": [
             [
              0,
              "#0d0887"
             ],
             [
              0.1111111111111111,
              "#46039f"
             ],
             [
              0.2222222222222222,
              "#7201a8"
             ],
             [
              0.3333333333333333,
              "#9c179e"
             ],
             [
              0.4444444444444444,
              "#bd3786"
             ],
             [
              0.5555555555555556,
              "#d8576b"
             ],
             [
              0.6666666666666666,
              "#ed7953"
             ],
             [
              0.7777777777777778,
              "#fb9f3a"
             ],
             [
              0.8888888888888888,
              "#fdca26"
             ],
             [
              1,
              "#f0f921"
             ]
            ],
            "type": "surface"
           }
          ],
          "table": [
           {
            "cells": {
             "fill": {
              "color": "#EBF0F8"
             },
             "line": {
              "color": "white"
             }
            },
            "header": {
             "fill": {
              "color": "#C8D4E3"
             },
             "line": {
              "color": "white"
             }
            },
            "type": "table"
           }
          ]
         },
         "layout": {
          "annotationdefaults": {
           "arrowcolor": "#2a3f5f",
           "arrowhead": 0,
           "arrowwidth": 1
          },
          "autotypenumbers": "strict",
          "coloraxis": {
           "colorbar": {
            "outlinewidth": 0,
            "ticks": ""
           }
          },
          "colorscale": {
           "diverging": [
            [
             0,
             "#8e0152"
            ],
            [
             0.1,
             "#c51b7d"
            ],
            [
             0.2,
             "#de77ae"
            ],
            [
             0.3,
             "#f1b6da"
            ],
            [
             0.4,
             "#fde0ef"
            ],
            [
             0.5,
             "#f7f7f7"
            ],
            [
             0.6,
             "#e6f5d0"
            ],
            [
             0.7,
             "#b8e186"
            ],
            [
             0.8,
             "#7fbc41"
            ],
            [
             0.9,
             "#4d9221"
            ],
            [
             1,
             "#276419"
            ]
           ],
           "sequential": [
            [
             0,
             "#0d0887"
            ],
            [
             0.1111111111111111,
             "#46039f"
            ],
            [
             0.2222222222222222,
             "#7201a8"
            ],
            [
             0.3333333333333333,
             "#9c179e"
            ],
            [
             0.4444444444444444,
             "#bd3786"
            ],
            [
             0.5555555555555556,
             "#d8576b"
            ],
            [
             0.6666666666666666,
             "#ed7953"
            ],
            [
             0.7777777777777778,
             "#fb9f3a"
            ],
            [
             0.8888888888888888,
             "#fdca26"
            ],
            [
             1,
             "#f0f921"
            ]
           ],
           "sequentialminus": [
            [
             0,
             "#0d0887"
            ],
            [
             0.1111111111111111,
             "#46039f"
            ],
            [
             0.2222222222222222,
             "#7201a8"
            ],
            [
             0.3333333333333333,
             "#9c179e"
            ],
            [
             0.4444444444444444,
             "#bd3786"
            ],
            [
             0.5555555555555556,
             "#d8576b"
            ],
            [
             0.6666666666666666,
             "#ed7953"
            ],
            [
             0.7777777777777778,
             "#fb9f3a"
            ],
            [
             0.8888888888888888,
             "#fdca26"
            ],
            [
             1,
             "#f0f921"
            ]
           ]
          },
          "colorway": [
           "#636efa",
           "#EF553B",
           "#00cc96",
           "#ab63fa",
           "#FFA15A",
           "#19d3f3",
           "#FF6692",
           "#B6E880",
           "#FF97FF",
           "#FECB52"
          ],
          "font": {
           "color": "#2a3f5f"
          },
          "geo": {
           "bgcolor": "white",
           "lakecolor": "white",
           "landcolor": "white",
           "showlakes": true,
           "showland": true,
           "subunitcolor": "#C8D4E3"
          },
          "hoverlabel": {
           "align": "left"
          },
          "hovermode": "closest",
          "mapbox": {
           "style": "light"
          },
          "paper_bgcolor": "white",
          "plot_bgcolor": "white",
          "polar": {
           "angularaxis": {
            "gridcolor": "#EBF0F8",
            "linecolor": "#EBF0F8",
            "ticks": ""
           },
           "bgcolor": "white",
           "radialaxis": {
            "gridcolor": "#EBF0F8",
            "linecolor": "#EBF0F8",
            "ticks": ""
           }
          },
          "scene": {
           "xaxis": {
            "backgroundcolor": "white",
            "gridcolor": "#DFE8F3",
            "gridwidth": 2,
            "linecolor": "#EBF0F8",
            "showbackground": true,
            "ticks": "",
            "zerolinecolor": "#EBF0F8"
           },
           "yaxis": {
            "backgroundcolor": "white",
            "gridcolor": "#DFE8F3",
            "gridwidth": 2,
            "linecolor": "#EBF0F8",
            "showbackground": true,
            "ticks": "",
            "zerolinecolor": "#EBF0F8"
           },
           "zaxis": {
            "backgroundcolor": "white",
            "gridcolor": "#DFE8F3",
            "gridwidth": 2,
            "linecolor": "#EBF0F8",
            "showbackground": true,
            "ticks": "",
            "zerolinecolor": "#EBF0F8"
           }
          },
          "shapedefaults": {
           "line": {
            "color": "#2a3f5f"
           }
          },
          "ternary": {
           "aaxis": {
            "gridcolor": "#DFE8F3",
            "linecolor": "#A2B1C6",
            "ticks": ""
           },
           "baxis": {
            "gridcolor": "#DFE8F3",
            "linecolor": "#A2B1C6",
            "ticks": ""
           },
           "bgcolor": "white",
           "caxis": {
            "gridcolor": "#DFE8F3",
            "linecolor": "#A2B1C6",
            "ticks": ""
           }
          },
          "title": {
           "x": 0.05
          },
          "xaxis": {
           "automargin": true,
           "gridcolor": "#EBF0F8",
           "linecolor": "#EBF0F8",
           "ticks": "",
           "title": {
            "standoff": 15
           },
           "zerolinecolor": "#EBF0F8",
           "zerolinewidth": 2
          },
          "yaxis": {
           "automargin": true,
           "gridcolor": "#EBF0F8",
           "linecolor": "#EBF0F8",
           "ticks": "",
           "title": {
            "standoff": 15
           },
           "zerolinecolor": "#EBF0F8",
           "zerolinewidth": 2
          }
         }
        },
        "title": {
         "text": "Asistencia vs SMS_received"
        },
        "xaxis": {
         "anchor": "y",
         "domain": [
          0,
          1
         ],
         "title": {
          "text": "SMS_received"
         }
        },
        "yaxis": {
         "anchor": "x",
         "domain": [
          0,
          1
         ],
         "title": {
          "text": "Cantidad"
         }
        }
       }
      }
     },
     "metadata": {},
     "output_type": "display_data"
    }
   ],
   "source": [
    "fig = plot_noshow_by_feature(df, 'SMS_received')\n",
    "fig.show()"
   ]
  },
  {
   "cell_type": "markdown",
   "metadata": {},
   "source": [
    "### 3.5 Matriz de Correlación"
   ]
  },
  {
   "cell_type": "code",
   "execution_count": 9,
   "metadata": {},
   "outputs": [
    {
     "data": {
      "application/vnd.plotly.v1+json": {
       "config": {
        "plotlyServerURL": "https://plot.ly"
       },
       "data": [
        {
         "colorbar": {
          "title": {
           "text": "Correlación"
          }
         },
         "colorscale": [
          [
           0,
           "rgb(103,0,31)"
          ],
          [
           0.1,
           "rgb(178,24,43)"
          ],
          [
           0.2,
           "rgb(214,96,77)"
          ],
          [
           0.3,
           "rgb(244,165,130)"
          ],
          [
           0.4,
           "rgb(253,219,199)"
          ],
          [
           0.5,
           "rgb(247,247,247)"
          ],
          [
           0.6,
           "rgb(209,229,240)"
          ],
          [
           0.7,
           "rgb(146,197,222)"
          ],
          [
           0.8,
           "rgb(67,147,195)"
          ],
          [
           0.9,
           "rgb(33,102,172)"
          ],
          [
           1,
           "rgb(5,48,97)"
          ]
         ],
         "text": {
          "bdata": "AAAAAAAA8D+4HoXrUbiePwAAAAAAAAAAexSuR+F6hD9cj8L1KFzfP7gehetRuK6/uB6F61G4nj8AAAAAAADwP3sUrkfheoS/AAAAAAAAAAC4HoXrUbiev1K4HoXrUcg/AAAAAAAAAAB7FK5H4XqEvwAAAAAAAPA/uB6F61G4rr97FK5H4XqEPwAAAAAAAAAAexSuR+F6hD8AAAAAAAAAALgehetRuK6/AAAAAAAA8D97FK5H4XqEP3sUrkfhepS/XI/C9Shc3z+4HoXrUbiev3sUrkfheoQ/exSuR+F6hD8AAAAAAADwP7gehetRuJ6/uB6F61G4rr9SuB6F61HIPwAAAAAAAAAAexSuR+F6lL+4HoXrUbievwAAAAAAAPA/",
          "dtype": "f8",
          "shape": "6, 6"
         },
         "textfont": {
          "size": 10
         },
         "texttemplate": "%{text}",
         "type": "heatmap",
         "x": [
          "Age",
          "DaysAdvance",
          "AppointmentWeekday",
          "AppointmentMonth",
          "ChronicConditionsCount",
          "No-show"
         ],
         "y": [
          "Age",
          "DaysAdvance",
          "AppointmentWeekday",
          "AppointmentMonth",
          "ChronicConditionsCount",
          "No-show"
         ],
         "z": {
          "bdata": "AAAAAAAA8D8JKNLDO9ahP/To+2+c92g/arEIbebLjT+JOHaZ71zfP/N8H9Ox9q6/CSjSwzvWoT8AAAAAAADwP9f5ZuxrLIe/dA5uwO6pbz8E3sIyLY6hv7G9BgET1sc/9Oj7b5z3aD/X+WbsayyHvwAAAAAAAPA/Ws7US5cBsL/3H0TElTN4P8hXhkPh61I/arEIbebLjT90Dm7A7qlvP1rO1EuXAbC/AAAAAAAA8D9tBBSiw3x1PxlUPd+eWJW/iTh2me9c3z8E3sIyLY6hv/cfRMSVM3g/bQQUosN8dT8AAAAAAADwP9UVtmcAGJ+/83wf07H2rr+xvQYBE9bHP8hXhkPh61I/GVQ9355Ylb/VFbZnABifvwAAAAAAAPA/",
          "dtype": "f8",
          "shape": "6, 6"
         },
         "zmid": 0
        }
       ],
       "layout": {
        "height": 800,
        "template": {
         "data": {
          "bar": [
           {
            "error_x": {
             "color": "#2a3f5f"
            },
            "error_y": {
             "color": "#2a3f5f"
            },
            "marker": {
             "line": {
              "color": "white",
              "width": 0.5
             },
             "pattern": {
              "fillmode": "overlay",
              "size": 10,
              "solidity": 0.2
             }
            },
            "type": "bar"
           }
          ],
          "barpolar": [
           {
            "marker": {
             "line": {
              "color": "white",
              "width": 0.5
             },
             "pattern": {
              "fillmode": "overlay",
              "size": 10,
              "solidity": 0.2
             }
            },
            "type": "barpolar"
           }
          ],
          "carpet": [
           {
            "aaxis": {
             "endlinecolor": "#2a3f5f",
             "gridcolor": "#C8D4E3",
             "linecolor": "#C8D4E3",
             "minorgridcolor": "#C8D4E3",
             "startlinecolor": "#2a3f5f"
            },
            "baxis": {
             "endlinecolor": "#2a3f5f",
             "gridcolor": "#C8D4E3",
             "linecolor": "#C8D4E3",
             "minorgridcolor": "#C8D4E3",
             "startlinecolor": "#2a3f5f"
            },
            "type": "carpet"
           }
          ],
          "choropleth": [
           {
            "colorbar": {
             "outlinewidth": 0,
             "ticks": ""
            },
            "type": "choropleth"
           }
          ],
          "contour": [
           {
            "colorbar": {
             "outlinewidth": 0,
             "ticks": ""
            },
            "colorscale": [
             [
              0,
              "#0d0887"
             ],
             [
              0.1111111111111111,
              "#46039f"
             ],
             [
              0.2222222222222222,
              "#7201a8"
             ],
             [
              0.3333333333333333,
              "#9c179e"
             ],
             [
              0.4444444444444444,
              "#bd3786"
             ],
             [
              0.5555555555555556,
              "#d8576b"
             ],
             [
              0.6666666666666666,
              "#ed7953"
             ],
             [
              0.7777777777777778,
              "#fb9f3a"
             ],
             [
              0.8888888888888888,
              "#fdca26"
             ],
             [
              1,
              "#f0f921"
             ]
            ],
            "type": "contour"
           }
          ],
          "contourcarpet": [
           {
            "colorbar": {
             "outlinewidth": 0,
             "ticks": ""
            },
            "type": "contourcarpet"
           }
          ],
          "heatmap": [
           {
            "colorbar": {
             "outlinewidth": 0,
             "ticks": ""
            },
            "colorscale": [
             [
              0,
              "#0d0887"
             ],
             [
              0.1111111111111111,
              "#46039f"
             ],
             [
              0.2222222222222222,
              "#7201a8"
             ],
             [
              0.3333333333333333,
              "#9c179e"
             ],
             [
              0.4444444444444444,
              "#bd3786"
             ],
             [
              0.5555555555555556,
              "#d8576b"
             ],
             [
              0.6666666666666666,
              "#ed7953"
             ],
             [
              0.7777777777777778,
              "#fb9f3a"
             ],
             [
              0.8888888888888888,
              "#fdca26"
             ],
             [
              1,
              "#f0f921"
             ]
            ],
            "type": "heatmap"
           }
          ],
          "histogram": [
           {
            "marker": {
             "pattern": {
              "fillmode": "overlay",
              "size": 10,
              "solidity": 0.2
             }
            },
            "type": "histogram"
           }
          ],
          "histogram2d": [
           {
            "colorbar": {
             "outlinewidth": 0,
             "ticks": ""
            },
            "colorscale": [
             [
              0,
              "#0d0887"
             ],
             [
              0.1111111111111111,
              "#46039f"
             ],
             [
              0.2222222222222222,
              "#7201a8"
             ],
             [
              0.3333333333333333,
              "#9c179e"
             ],
             [
              0.4444444444444444,
              "#bd3786"
             ],
             [
              0.5555555555555556,
              "#d8576b"
             ],
             [
              0.6666666666666666,
              "#ed7953"
             ],
             [
              0.7777777777777778,
              "#fb9f3a"
             ],
             [
              0.8888888888888888,
              "#fdca26"
             ],
             [
              1,
              "#f0f921"
             ]
            ],
            "type": "histogram2d"
           }
          ],
          "histogram2dcontour": [
           {
            "colorbar": {
             "outlinewidth": 0,
             "ticks": ""
            },
            "colorscale": [
             [
              0,
              "#0d0887"
             ],
             [
              0.1111111111111111,
              "#46039f"
             ],
             [
              0.2222222222222222,
              "#7201a8"
             ],
             [
              0.3333333333333333,
              "#9c179e"
             ],
             [
              0.4444444444444444,
              "#bd3786"
             ],
             [
              0.5555555555555556,
              "#d8576b"
             ],
             [
              0.6666666666666666,
              "#ed7953"
             ],
             [
              0.7777777777777778,
              "#fb9f3a"
             ],
             [
              0.8888888888888888,
              "#fdca26"
             ],
             [
              1,
              "#f0f921"
             ]
            ],
            "type": "histogram2dcontour"
           }
          ],
          "mesh3d": [
           {
            "colorbar": {
             "outlinewidth": 0,
             "ticks": ""
            },
            "type": "mesh3d"
           }
          ],
          "parcoords": [
           {
            "line": {
             "colorbar": {
              "outlinewidth": 0,
              "ticks": ""
             }
            },
            "type": "parcoords"
           }
          ],
          "pie": [
           {
            "automargin": true,
            "type": "pie"
           }
          ],
          "scatter": [
           {
            "fillpattern": {
             "fillmode": "overlay",
             "size": 10,
             "solidity": 0.2
            },
            "type": "scatter"
           }
          ],
          "scatter3d": [
           {
            "line": {
             "colorbar": {
              "outlinewidth": 0,
              "ticks": ""
             }
            },
            "marker": {
             "colorbar": {
              "outlinewidth": 0,
              "ticks": ""
             }
            },
            "type": "scatter3d"
           }
          ],
          "scattercarpet": [
           {
            "marker": {
             "colorbar": {
              "outlinewidth": 0,
              "ticks": ""
             }
            },
            "type": "scattercarpet"
           }
          ],
          "scattergeo": [
           {
            "marker": {
             "colorbar": {
              "outlinewidth": 0,
              "ticks": ""
             }
            },
            "type": "scattergeo"
           }
          ],
          "scattergl": [
           {
            "marker": {
             "colorbar": {
              "outlinewidth": 0,
              "ticks": ""
             }
            },
            "type": "scattergl"
           }
          ],
          "scattermap": [
           {
            "marker": {
             "colorbar": {
              "outlinewidth": 0,
              "ticks": ""
             }
            },
            "type": "scattermap"
           }
          ],
          "scattermapbox": [
           {
            "marker": {
             "colorbar": {
              "outlinewidth": 0,
              "ticks": ""
             }
            },
            "type": "scattermapbox"
           }
          ],
          "scatterpolar": [
           {
            "marker": {
             "colorbar": {
              "outlinewidth": 0,
              "ticks": ""
             }
            },
            "type": "scatterpolar"
           }
          ],
          "scatterpolargl": [
           {
            "marker": {
             "colorbar": {
              "outlinewidth": 0,
              "ticks": ""
             }
            },
            "type": "scatterpolargl"
           }
          ],
          "scatterternary": [
           {
            "marker": {
             "colorbar": {
              "outlinewidth": 0,
              "ticks": ""
             }
            },
            "type": "scatterternary"
           }
          ],
          "surface": [
           {
            "colorbar": {
             "outlinewidth": 0,
             "ticks": ""
            },
            "colorscale": [
             [
              0,
              "#0d0887"
             ],
             [
              0.1111111111111111,
              "#46039f"
             ],
             [
              0.2222222222222222,
              "#7201a8"
             ],
             [
              0.3333333333333333,
              "#9c179e"
             ],
             [
              0.4444444444444444,
              "#bd3786"
             ],
             [
              0.5555555555555556,
              "#d8576b"
             ],
             [
              0.6666666666666666,
              "#ed7953"
             ],
             [
              0.7777777777777778,
              "#fb9f3a"
             ],
             [
              0.8888888888888888,
              "#fdca26"
             ],
             [
              1,
              "#f0f921"
             ]
            ],
            "type": "surface"
           }
          ],
          "table": [
           {
            "cells": {
             "fill": {
              "color": "#EBF0F8"
             },
             "line": {
              "color": "white"
             }
            },
            "header": {
             "fill": {
              "color": "#C8D4E3"
             },
             "line": {
              "color": "white"
             }
            },
            "type": "table"
           }
          ]
         },
         "layout": {
          "annotationdefaults": {
           "arrowcolor": "#2a3f5f",
           "arrowhead": 0,
           "arrowwidth": 1
          },
          "autotypenumbers": "strict",
          "coloraxis": {
           "colorbar": {
            "outlinewidth": 0,
            "ticks": ""
           }
          },
          "colorscale": {
           "diverging": [
            [
             0,
             "#8e0152"
            ],
            [
             0.1,
             "#c51b7d"
            ],
            [
             0.2,
             "#de77ae"
            ],
            [
             0.3,
             "#f1b6da"
            ],
            [
             0.4,
             "#fde0ef"
            ],
            [
             0.5,
             "#f7f7f7"
            ],
            [
             0.6,
             "#e6f5d0"
            ],
            [
             0.7,
             "#b8e186"
            ],
            [
             0.8,
             "#7fbc41"
            ],
            [
             0.9,
             "#4d9221"
            ],
            [
             1,
             "#276419"
            ]
           ],
           "sequential": [
            [
             0,
             "#0d0887"
            ],
            [
             0.1111111111111111,
             "#46039f"
            ],
            [
             0.2222222222222222,
             "#7201a8"
            ],
            [
             0.3333333333333333,
             "#9c179e"
            ],
            [
             0.4444444444444444,
             "#bd3786"
            ],
            [
             0.5555555555555556,
             "#d8576b"
            ],
            [
             0.6666666666666666,
             "#ed7953"
            ],
            [
             0.7777777777777778,
             "#fb9f3a"
            ],
            [
             0.8888888888888888,
             "#fdca26"
            ],
            [
             1,
             "#f0f921"
            ]
           ],
           "sequentialminus": [
            [
             0,
             "#0d0887"
            ],
            [
             0.1111111111111111,
             "#46039f"
            ],
            [
             0.2222222222222222,
             "#7201a8"
            ],
            [
             0.3333333333333333,
             "#9c179e"
            ],
            [
             0.4444444444444444,
             "#bd3786"
            ],
            [
             0.5555555555555556,
             "#d8576b"
            ],
            [
             0.6666666666666666,
             "#ed7953"
            ],
            [
             0.7777777777777778,
             "#fb9f3a"
            ],
            [
             0.8888888888888888,
             "#fdca26"
            ],
            [
             1,
             "#f0f921"
            ]
           ]
          },
          "colorway": [
           "#636efa",
           "#EF553B",
           "#00cc96",
           "#ab63fa",
           "#FFA15A",
           "#19d3f3",
           "#FF6692",
           "#B6E880",
           "#FF97FF",
           "#FECB52"
          ],
          "font": {
           "color": "#2a3f5f"
          },
          "geo": {
           "bgcolor": "white",
           "lakecolor": "white",
           "landcolor": "white",
           "showlakes": true,
           "showland": true,
           "subunitcolor": "#C8D4E3"
          },
          "hoverlabel": {
           "align": "left"
          },
          "hovermode": "closest",
          "mapbox": {
           "style": "light"
          },
          "paper_bgcolor": "white",
          "plot_bgcolor": "white",
          "polar": {
           "angularaxis": {
            "gridcolor": "#EBF0F8",
            "linecolor": "#EBF0F8",
            "ticks": ""
           },
           "bgcolor": "white",
           "radialaxis": {
            "gridcolor": "#EBF0F8",
            "linecolor": "#EBF0F8",
            "ticks": ""
           }
          },
          "scene": {
           "xaxis": {
            "backgroundcolor": "white",
            "gridcolor": "#DFE8F3",
            "gridwidth": 2,
            "linecolor": "#EBF0F8",
            "showbackground": true,
            "ticks": "",
            "zerolinecolor": "#EBF0F8"
           },
           "yaxis": {
            "backgroundcolor": "white",
            "gridcolor": "#DFE8F3",
            "gridwidth": 2,
            "linecolor": "#EBF0F8",
            "showbackground": true,
            "ticks": "",
            "zerolinecolor": "#EBF0F8"
           },
           "zaxis": {
            "backgroundcolor": "white",
            "gridcolor": "#DFE8F3",
            "gridwidth": 2,
            "linecolor": "#EBF0F8",
            "showbackground": true,
            "ticks": "",
            "zerolinecolor": "#EBF0F8"
           }
          },
          "shapedefaults": {
           "line": {
            "color": "#2a3f5f"
           }
          },
          "ternary": {
           "aaxis": {
            "gridcolor": "#DFE8F3",
            "linecolor": "#A2B1C6",
            "ticks": ""
           },
           "baxis": {
            "gridcolor": "#DFE8F3",
            "linecolor": "#A2B1C6",
            "ticks": ""
           },
           "bgcolor": "white",
           "caxis": {
            "gridcolor": "#DFE8F3",
            "linecolor": "#A2B1C6",
            "ticks": ""
           }
          },
          "title": {
           "x": 0.05
          },
          "xaxis": {
           "automargin": true,
           "gridcolor": "#EBF0F8",
           "linecolor": "#EBF0F8",
           "ticks": "",
           "title": {
            "standoff": 15
           },
           "zerolinecolor": "#EBF0F8",
           "zerolinewidth": 2
          },
          "yaxis": {
           "automargin": true,
           "gridcolor": "#EBF0F8",
           "linecolor": "#EBF0F8",
           "ticks": "",
           "title": {
            "standoff": 15
           },
           "zerolinecolor": "#EBF0F8",
           "zerolinewidth": 2
          }
         }
        },
        "title": {
         "text": "Matriz de Correlación"
        },
        "width": 800
       }
      }
     },
     "metadata": {},
     "output_type": "display_data"
    }
   ],
   "source": [
    "numeric_cols = ['Age', 'DaysAdvance', 'AppointmentWeekday', 'AppointmentMonth', \n",
    "                'ChronicConditionsCount', 'No-show']\n",
    "\n",
    "fig = plot_correlation_matrix(df, numeric_cols)\n",
    "fig.show()"
   ]
  },
  {
   "cell_type": "markdown",
   "metadata": {},
   "source": [
    "## 4. Preparación de Datos"
   ]
  },
  {
   "cell_type": "code",
   "execution_count": 10,
   "metadata": {},
   "outputs": [
    {
     "data": {
      "text/plain": [
       "'Datos de entrenamiento: 88415, Datos de prueba: 22104'"
      ]
     },
     "execution_count": 10,
     "metadata": {},
     "output_type": "execute_result"
    }
   ],
   "source": [
    "X, y = prepare_features_target(df)\n",
    "\n",
    "X_train, X_test, y_train, y_test = train_test_split(\n",
    "    X, y, test_size=0.2, random_state=42, stratify=y\n",
    ")\n",
    "\n",
    "f\"Datos de entrenamiento: {X_train.shape[0]}, Datos de prueba: {X_test.shape[0]}\""
   ]
  },
  {
   "cell_type": "markdown",
   "metadata": {},
   "source": [
    "## 5. Pipeline de Preprocesamiento"
   ]
  },
  {
   "cell_type": "code",
   "execution_count": 11,
   "metadata": {},
   "outputs": [
    {
     "data": {
      "text/plain": [
       "'Dimensión después del preprocesamiento: (88415, 15)'"
      ]
     },
     "execution_count": 11,
     "metadata": {},
     "output_type": "execute_result"
    }
   ],
   "source": [
    "preprocessor = create_preprocessing_pipeline()\n",
    "\n",
    "X_train_processed = preprocessor.fit_transform(X_train)\n",
    "X_test_processed = preprocessor.transform(X_test)\n",
    "\n",
    "f\"Dimensión después del preprocesamiento: {X_train_processed.shape}\""
   ]
  },
  {
   "cell_type": "markdown",
   "metadata": {},
   "source": [
    "## 6. Generación de Datos Sintéticos (SMOTE)"
   ]
  },
  {
   "cell_type": "code",
   "execution_count": 12,
   "metadata": {},
   "outputs": [
    {
     "data": {
      "text/html": [
       "<div>\n",
       "<style scoped>\n",
       "    .dataframe tbody tr th:only-of-type {\n",
       "        vertical-align: middle;\n",
       "    }\n",
       "\n",
       "    .dataframe tbody tr th {\n",
       "        vertical-align: top;\n",
       "    }\n",
       "\n",
       "    .dataframe thead th {\n",
       "        text-align: right;\n",
       "    }\n",
       "</style>\n",
       "<table border=\"1\" class=\"dataframe\">\n",
       "  <thead>\n",
       "    <tr style=\"text-align: right;\">\n",
       "      <th></th>\n",
       "      <th>0</th>\n",
       "    </tr>\n",
       "  </thead>\n",
       "  <tbody>\n",
       "    <tr>\n",
       "      <th>original_samples</th>\n",
       "      <td>88415</td>\n",
       "    </tr>\n",
       "    <tr>\n",
       "      <th>synthetic_samples</th>\n",
       "      <td>141124</td>\n",
       "    </tr>\n",
       "    <tr>\n",
       "      <th>original_class_0</th>\n",
       "      <td>70562</td>\n",
       "    </tr>\n",
       "    <tr>\n",
       "      <th>original_class_1</th>\n",
       "      <td>17853</td>\n",
       "    </tr>\n",
       "    <tr>\n",
       "      <th>synthetic_class_0</th>\n",
       "      <td>70562</td>\n",
       "    </tr>\n",
       "    <tr>\n",
       "      <th>synthetic_class_1</th>\n",
       "      <td>70562</td>\n",
       "    </tr>\n",
       "    <tr>\n",
       "      <th>samples_added</th>\n",
       "      <td>52709</td>\n",
       "    </tr>\n",
       "  </tbody>\n",
       "</table>\n",
       "</div>"
      ],
      "text/plain": [
       "                        0\n",
       "original_samples    88415\n",
       "synthetic_samples  141124\n",
       "original_class_0    70562\n",
       "original_class_1    17853\n",
       "synthetic_class_0   70562\n",
       "synthetic_class_1   70562\n",
       "samples_added       52709"
      ]
     },
     "execution_count": 12,
     "metadata": {},
     "output_type": "execute_result"
    }
   ],
   "source": [
    "X_train_synthetic, y_train_synthetic = generate_synthetic_data(\n",
    "    X_train_processed, y_train\n",
    ")\n",
    "\n",
    "stats = get_synthetic_data_stats(\n",
    "    X_train_processed, y_train,\n",
    "    X_train_synthetic, y_train_synthetic\n",
    ")\n",
    "\n",
    "pd.DataFrame([stats]).T"
   ]
  },
  {
   "cell_type": "markdown",
   "metadata": {},
   "source": [
    "## 7. Entrenamiento de Modelos\n",
    "\n",
    "### 7.1 Modelos con Datos Originales"
   ]
  },
  {
   "cell_type": "code",
   "execution_count": 13,
   "metadata": {},
   "outputs": [
    {
     "data": {
      "text/plain": [
       "'Modelos entrenados con datos originales'"
      ]
     },
     "execution_count": 13,
     "metadata": {},
     "output_type": "execute_result"
    }
   ],
   "source": [
    "rf_original = train_random_forest(X_train_processed, y_train)\n",
    "lr_original = train_logistic_regression(X_train_processed, y_train)\n",
    "\n",
    "\"Modelos entrenados con datos originales\""
   ]
  },
  {
   "cell_type": "markdown",
   "metadata": {},
   "source": [
    "### 7.2 Modelos con Datos Sintéticos"
   ]
  },
  {
   "cell_type": "code",
   "execution_count": 14,
   "metadata": {},
   "outputs": [
    {
     "data": {
      "text/plain": [
       "'Modelos entrenados con datos sintéticos'"
      ]
     },
     "execution_count": 14,
     "metadata": {},
     "output_type": "execute_result"
    }
   ],
   "source": [
    "rf_synthetic = train_random_forest(X_train_synthetic, y_train_synthetic)\n",
    "lr_synthetic = train_logistic_regression(X_train_synthetic, y_train_synthetic)\n",
    "\n",
    "\"Modelos entrenados con datos sintéticos\""
   ]
  },
  {
   "cell_type": "markdown",
   "metadata": {},
   "source": [
    "## 8. Evaluación de Modelos"
   ]
  },
  {
   "cell_type": "code",
   "execution_count": 15,
   "metadata": {},
   "outputs": [
    {
     "data": {
      "text/html": [
       "<div>\n",
       "<style scoped>\n",
       "    .dataframe tbody tr th:only-of-type {\n",
       "        vertical-align: middle;\n",
       "    }\n",
       "\n",
       "    .dataframe tbody tr th {\n",
       "        vertical-align: top;\n",
       "    }\n",
       "\n",
       "    .dataframe thead th {\n",
       "        text-align: right;\n",
       "    }\n",
       "</style>\n",
       "<table border=\"1\" class=\"dataframe\">\n",
       "  <thead>\n",
       "    <tr style=\"text-align: right;\">\n",
       "      <th></th>\n",
       "      <th>accuracy</th>\n",
       "      <th>precision</th>\n",
       "      <th>recall</th>\n",
       "      <th>f1_score</th>\n",
       "      <th>roc_auc</th>\n",
       "    </tr>\n",
       "  </thead>\n",
       "  <tbody>\n",
       "    <tr>\n",
       "      <th>RF_Original</th>\n",
       "      <td>0.7982</td>\n",
       "      <td>0.6000</td>\n",
       "      <td>0.0013</td>\n",
       "      <td>0.0027</td>\n",
       "      <td>0.7301</td>\n",
       "    </tr>\n",
       "    <tr>\n",
       "      <th>LR_Original</th>\n",
       "      <td>0.7954</td>\n",
       "      <td>0.3438</td>\n",
       "      <td>0.0148</td>\n",
       "      <td>0.0284</td>\n",
       "      <td>0.6641</td>\n",
       "    </tr>\n",
       "    <tr>\n",
       "      <th>RF_Synthetic</th>\n",
       "      <td>0.5760</td>\n",
       "      <td>0.3009</td>\n",
       "      <td>0.8311</td>\n",
       "      <td>0.4418</td>\n",
       "      <td>0.7237</td>\n",
       "    </tr>\n",
       "    <tr>\n",
       "      <th>LR_Synthetic</th>\n",
       "      <td>0.6655</td>\n",
       "      <td>0.3183</td>\n",
       "      <td>0.5749</td>\n",
       "      <td>0.4097</td>\n",
       "      <td>0.6692</td>\n",
       "    </tr>\n",
       "  </tbody>\n",
       "</table>\n",
       "</div>"
      ],
      "text/plain": [
       "              accuracy  precision  recall  f1_score  roc_auc\n",
       "RF_Original     0.7982     0.6000  0.0013    0.0027   0.7301\n",
       "LR_Original     0.7954     0.3438  0.0148    0.0284   0.6641\n",
       "RF_Synthetic    0.5760     0.3009  0.8311    0.4418   0.7237\n",
       "LR_Synthetic    0.6655     0.3183  0.5749    0.4097   0.6692"
      ]
     },
     "execution_count": 15,
     "metadata": {},
     "output_type": "execute_result"
    }
   ],
   "source": [
    "results = {\n",
    "    'RF_Original': evaluate_model(rf_original, X_test_processed, y_test),\n",
    "    'LR_Original': evaluate_model(lr_original, X_test_processed, y_test),\n",
    "    'RF_Synthetic': evaluate_model(rf_synthetic, X_test_processed, y_test),\n",
    "    'LR_Synthetic': evaluate_model(lr_synthetic, X_test_processed, y_test)\n",
    "}\n",
    "\n",
    "comparison_df = compare_models(results)\n",
    "comparison_df"
   ]
  },
  {
   "cell_type": "code",
   "execution_count": 16,
   "metadata": {},
   "outputs": [
    {
     "data": {
      "application/vnd.plotly.v1+json": {
       "config": {
        "plotlyServerURL": "https://plot.ly"
       },
       "data": [
        {
         "name": "RF_Original",
         "text": {
          "bdata": "8KfGSzeJ6T8zMzMzMzPjP/yp8dJNYlA/+n5qvHSTaD9cj8L1KFznPw==",
          "dtype": "f8"
         },
         "textposition": "auto",
         "type": "bar",
         "x": [
          "accuracy",
          "precision",
          "recall",
          "f1_score",
          "roc_auc"
         ],
         "y": {
          "bdata": "tFn1udqK6T8zMzMzMzPjP5T2Bl+YTFU/rthfdk8eZj8+6Nms+lznPw==",
          "dtype": "f8"
         }
        },
        {
         "name": "LR_Original",
         "text": {
          "bdata": "cT0K16Nw6T9qvHSTGATWP7gehetRuI4/eekmMQisnD9zaJHtfD/lPw==",
          "dtype": "f8"
         },
         "textposition": "auto",
         "type": "bar",
         "x": [
          "accuracy",
          "precision",
          "recall",
          "f1_score",
          "roc_auc"
         ],
         "y": {
          "bdata": "+aBns+pz6T/iWBe30QDWP6yt2F92T44/hlrTvOMUnT9VwaikTkDlPw==",
          "dtype": "f8"
         }
        },
        {
         "name": "RF_Synthetic",
         "text": {
          "bdata": "O99PjZdu4j/dJAaBlUPTP2Q730+Nl+o/fT81XrpJ3D9eukkMAivnPw==",
          "dtype": "f8"
         },
         "textposition": "auto",
         "type": "bar",
         "x": [
          "accuracy",
          "precision",
          "recall",
          "f1_score",
          "roc_auc"
         ],
         "y": {
          "bdata": "O99PjZdu4j8Zc9cS8kHTP0aU9gZfmOo/9dvXgXNG3D+4rwPnjCjnPw==",
          "dtype": "f8"
         }
        },
        {
         "name": "LR_Synthetic",
         "text": {
          "bdata": "HVpkO99P5T8nMQisHFrUP2ZmZmZmZuI/PQrXo3A92j+cxCCwcmjlPw==",
          "dtype": "f8"
         },
         "textposition": "auto",
         "type": "bar",
         "x": [
          "accuracy",
          "precision",
          "recall",
          "f1_score",
          "roc_auc"
         ],
         "y": {
          "bdata": "sp3vp8ZL5T90RpT2Bl/UP4QNT6+UZeI/8fRKWYY42j9gdk8eFmrlPw==",
          "dtype": "f8"
         }
        }
       ],
       "layout": {
        "barmode": "group",
        "template": {
         "data": {
          "bar": [
           {
            "error_x": {
             "color": "#2a3f5f"
            },
            "error_y": {
             "color": "#2a3f5f"
            },
            "marker": {
             "line": {
              "color": "white",
              "width": 0.5
             },
             "pattern": {
              "fillmode": "overlay",
              "size": 10,
              "solidity": 0.2
             }
            },
            "type": "bar"
           }
          ],
          "barpolar": [
           {
            "marker": {
             "line": {
              "color": "white",
              "width": 0.5
             },
             "pattern": {
              "fillmode": "overlay",
              "size": 10,
              "solidity": 0.2
             }
            },
            "type": "barpolar"
           }
          ],
          "carpet": [
           {
            "aaxis": {
             "endlinecolor": "#2a3f5f",
             "gridcolor": "#C8D4E3",
             "linecolor": "#C8D4E3",
             "minorgridcolor": "#C8D4E3",
             "startlinecolor": "#2a3f5f"
            },
            "baxis": {
             "endlinecolor": "#2a3f5f",
             "gridcolor": "#C8D4E3",
             "linecolor": "#C8D4E3",
             "minorgridcolor": "#C8D4E3",
             "startlinecolor": "#2a3f5f"
            },
            "type": "carpet"
           }
          ],
          "choropleth": [
           {
            "colorbar": {
             "outlinewidth": 0,
             "ticks": ""
            },
            "type": "choropleth"
           }
          ],
          "contour": [
           {
            "colorbar": {
             "outlinewidth": 0,
             "ticks": ""
            },
            "colorscale": [
             [
              0,
              "#0d0887"
             ],
             [
              0.1111111111111111,
              "#46039f"
             ],
             [
              0.2222222222222222,
              "#7201a8"
             ],
             [
              0.3333333333333333,
              "#9c179e"
             ],
             [
              0.4444444444444444,
              "#bd3786"
             ],
             [
              0.5555555555555556,
              "#d8576b"
             ],
             [
              0.6666666666666666,
              "#ed7953"
             ],
             [
              0.7777777777777778,
              "#fb9f3a"
             ],
             [
              0.8888888888888888,
              "#fdca26"
             ],
             [
              1,
              "#f0f921"
             ]
            ],
            "type": "contour"
           }
          ],
          "contourcarpet": [
           {
            "colorbar": {
             "outlinewidth": 0,
             "ticks": ""
            },
            "type": "contourcarpet"
           }
          ],
          "heatmap": [
           {
            "colorbar": {
             "outlinewidth": 0,
             "ticks": ""
            },
            "colorscale": [
             [
              0,
              "#0d0887"
             ],
             [
              0.1111111111111111,
              "#46039f"
             ],
             [
              0.2222222222222222,
              "#7201a8"
             ],
             [
              0.3333333333333333,
              "#9c179e"
             ],
             [
              0.4444444444444444,
              "#bd3786"
             ],
             [
              0.5555555555555556,
              "#d8576b"
             ],
             [
              0.6666666666666666,
              "#ed7953"
             ],
             [
              0.7777777777777778,
              "#fb9f3a"
             ],
             [
              0.8888888888888888,
              "#fdca26"
             ],
             [
              1,
              "#f0f921"
             ]
            ],
            "type": "heatmap"
           }
          ],
          "histogram": [
           {
            "marker": {
             "pattern": {
              "fillmode": "overlay",
              "size": 10,
              "solidity": 0.2
             }
            },
            "type": "histogram"
           }
          ],
          "histogram2d": [
           {
            "colorbar": {
             "outlinewidth": 0,
             "ticks": ""
            },
            "colorscale": [
             [
              0,
              "#0d0887"
             ],
             [
              0.1111111111111111,
              "#46039f"
             ],
             [
              0.2222222222222222,
              "#7201a8"
             ],
             [
              0.3333333333333333,
              "#9c179e"
             ],
             [
              0.4444444444444444,
              "#bd3786"
             ],
             [
              0.5555555555555556,
              "#d8576b"
             ],
             [
              0.6666666666666666,
              "#ed7953"
             ],
             [
              0.7777777777777778,
              "#fb9f3a"
             ],
             [
              0.8888888888888888,
              "#fdca26"
             ],
             [
              1,
              "#f0f921"
             ]
            ],
            "type": "histogram2d"
           }
          ],
          "histogram2dcontour": [
           {
            "colorbar": {
             "outlinewidth": 0,
             "ticks": ""
            },
            "colorscale": [
             [
              0,
              "#0d0887"
             ],
             [
              0.1111111111111111,
              "#46039f"
             ],
             [
              0.2222222222222222,
              "#7201a8"
             ],
             [
              0.3333333333333333,
              "#9c179e"
             ],
             [
              0.4444444444444444,
              "#bd3786"
             ],
             [
              0.5555555555555556,
              "#d8576b"
             ],
             [
              0.6666666666666666,
              "#ed7953"
             ],
             [
              0.7777777777777778,
              "#fb9f3a"
             ],
             [
              0.8888888888888888,
              "#fdca26"
             ],
             [
              1,
              "#f0f921"
             ]
            ],
            "type": "histogram2dcontour"
           }
          ],
          "mesh3d": [
           {
            "colorbar": {
             "outlinewidth": 0,
             "ticks": ""
            },
            "type": "mesh3d"
           }
          ],
          "parcoords": [
           {
            "line": {
             "colorbar": {
              "outlinewidth": 0,
              "ticks": ""
             }
            },
            "type": "parcoords"
           }
          ],
          "pie": [
           {
            "automargin": true,
            "type": "pie"
           }
          ],
          "scatter": [
           {
            "fillpattern": {
             "fillmode": "overlay",
             "size": 10,
             "solidity": 0.2
            },
            "type": "scatter"
           }
          ],
          "scatter3d": [
           {
            "line": {
             "colorbar": {
              "outlinewidth": 0,
              "ticks": ""
             }
            },
            "marker": {
             "colorbar": {
              "outlinewidth": 0,
              "ticks": ""
             }
            },
            "type": "scatter3d"
           }
          ],
          "scattercarpet": [
           {
            "marker": {
             "colorbar": {
              "outlinewidth": 0,
              "ticks": ""
             }
            },
            "type": "scattercarpet"
           }
          ],
          "scattergeo": [
           {
            "marker": {
             "colorbar": {
              "outlinewidth": 0,
              "ticks": ""
             }
            },
            "type": "scattergeo"
           }
          ],
          "scattergl": [
           {
            "marker": {
             "colorbar": {
              "outlinewidth": 0,
              "ticks": ""
             }
            },
            "type": "scattergl"
           }
          ],
          "scattermap": [
           {
            "marker": {
             "colorbar": {
              "outlinewidth": 0,
              "ticks": ""
             }
            },
            "type": "scattermap"
           }
          ],
          "scattermapbox": [
           {
            "marker": {
             "colorbar": {
              "outlinewidth": 0,
              "ticks": ""
             }
            },
            "type": "scattermapbox"
           }
          ],
          "scatterpolar": [
           {
            "marker": {
             "colorbar": {
              "outlinewidth": 0,
              "ticks": ""
             }
            },
            "type": "scatterpolar"
           }
          ],
          "scatterpolargl": [
           {
            "marker": {
             "colorbar": {
              "outlinewidth": 0,
              "ticks": ""
             }
            },
            "type": "scatterpolargl"
           }
          ],
          "scatterternary": [
           {
            "marker": {
             "colorbar": {
              "outlinewidth": 0,
              "ticks": ""
             }
            },
            "type": "scatterternary"
           }
          ],
          "surface": [
           {
            "colorbar": {
             "outlinewidth": 0,
             "ticks": ""
            },
            "colorscale": [
             [
              0,
              "#0d0887"
             ],
             [
              0.1111111111111111,
              "#46039f"
             ],
             [
              0.2222222222222222,
              "#7201a8"
             ],
             [
              0.3333333333333333,
              "#9c179e"
             ],
             [
              0.4444444444444444,
              "#bd3786"
             ],
             [
              0.5555555555555556,
              "#d8576b"
             ],
             [
              0.6666666666666666,
              "#ed7953"
             ],
             [
              0.7777777777777778,
              "#fb9f3a"
             ],
             [
              0.8888888888888888,
              "#fdca26"
             ],
             [
              1,
              "#f0f921"
             ]
            ],
            "type": "surface"
           }
          ],
          "table": [
           {
            "cells": {
             "fill": {
              "color": "#EBF0F8"
             },
             "line": {
              "color": "white"
             }
            },
            "header": {
             "fill": {
              "color": "#C8D4E3"
             },
             "line": {
              "color": "white"
             }
            },
            "type": "table"
           }
          ]
         },
         "layout": {
          "annotationdefaults": {
           "arrowcolor": "#2a3f5f",
           "arrowhead": 0,
           "arrowwidth": 1
          },
          "autotypenumbers": "strict",
          "coloraxis": {
           "colorbar": {
            "outlinewidth": 0,
            "ticks": ""
           }
          },
          "colorscale": {
           "diverging": [
            [
             0,
             "#8e0152"
            ],
            [
             0.1,
             "#c51b7d"
            ],
            [
             0.2,
             "#de77ae"
            ],
            [
             0.3,
             "#f1b6da"
            ],
            [
             0.4,
             "#fde0ef"
            ],
            [
             0.5,
             "#f7f7f7"
            ],
            [
             0.6,
             "#e6f5d0"
            ],
            [
             0.7,
             "#b8e186"
            ],
            [
             0.8,
             "#7fbc41"
            ],
            [
             0.9,
             "#4d9221"
            ],
            [
             1,
             "#276419"
            ]
           ],
           "sequential": [
            [
             0,
             "#0d0887"
            ],
            [
             0.1111111111111111,
             "#46039f"
            ],
            [
             0.2222222222222222,
             "#7201a8"
            ],
            [
             0.3333333333333333,
             "#9c179e"
            ],
            [
             0.4444444444444444,
             "#bd3786"
            ],
            [
             0.5555555555555556,
             "#d8576b"
            ],
            [
             0.6666666666666666,
             "#ed7953"
            ],
            [
             0.7777777777777778,
             "#fb9f3a"
            ],
            [
             0.8888888888888888,
             "#fdca26"
            ],
            [
             1,
             "#f0f921"
            ]
           ],
           "sequentialminus": [
            [
             0,
             "#0d0887"
            ],
            [
             0.1111111111111111,
             "#46039f"
            ],
            [
             0.2222222222222222,
             "#7201a8"
            ],
            [
             0.3333333333333333,
             "#9c179e"
            ],
            [
             0.4444444444444444,
             "#bd3786"
            ],
            [
             0.5555555555555556,
             "#d8576b"
            ],
            [
             0.6666666666666666,
             "#ed7953"
            ],
            [
             0.7777777777777778,
             "#fb9f3a"
            ],
            [
             0.8888888888888888,
             "#fdca26"
            ],
            [
             1,
             "#f0f921"
            ]
           ]
          },
          "colorway": [
           "#636efa",
           "#EF553B",
           "#00cc96",
           "#ab63fa",
           "#FFA15A",
           "#19d3f3",
           "#FF6692",
           "#B6E880",
           "#FF97FF",
           "#FECB52"
          ],
          "font": {
           "color": "#2a3f5f"
          },
          "geo": {
           "bgcolor": "white",
           "lakecolor": "white",
           "landcolor": "white",
           "showlakes": true,
           "showland": true,
           "subunitcolor": "#C8D4E3"
          },
          "hoverlabel": {
           "align": "left"
          },
          "hovermode": "closest",
          "mapbox": {
           "style": "light"
          },
          "paper_bgcolor": "white",
          "plot_bgcolor": "white",
          "polar": {
           "angularaxis": {
            "gridcolor": "#EBF0F8",
            "linecolor": "#EBF0F8",
            "ticks": ""
           },
           "bgcolor": "white",
           "radialaxis": {
            "gridcolor": "#EBF0F8",
            "linecolor": "#EBF0F8",
            "ticks": ""
           }
          },
          "scene": {
           "xaxis": {
            "backgroundcolor": "white",
            "gridcolor": "#DFE8F3",
            "gridwidth": 2,
            "linecolor": "#EBF0F8",
            "showbackground": true,
            "ticks": "",
            "zerolinecolor": "#EBF0F8"
           },
           "yaxis": {
            "backgroundcolor": "white",
            "gridcolor": "#DFE8F3",
            "gridwidth": 2,
            "linecolor": "#EBF0F8",
            "showbackground": true,
            "ticks": "",
            "zerolinecolor": "#EBF0F8"
           },
           "zaxis": {
            "backgroundcolor": "white",
            "gridcolor": "#DFE8F3",
            "gridwidth": 2,
            "linecolor": "#EBF0F8",
            "showbackground": true,
            "ticks": "",
            "zerolinecolor": "#EBF0F8"
           }
          },
          "shapedefaults": {
           "line": {
            "color": "#2a3f5f"
           }
          },
          "ternary": {
           "aaxis": {
            "gridcolor": "#DFE8F3",
            "linecolor": "#A2B1C6",
            "ticks": ""
           },
           "baxis": {
            "gridcolor": "#DFE8F3",
            "linecolor": "#A2B1C6",
            "ticks": ""
           },
           "bgcolor": "white",
           "caxis": {
            "gridcolor": "#DFE8F3",
            "linecolor": "#A2B1C6",
            "ticks": ""
           }
          },
          "title": {
           "x": 0.05
          },
          "xaxis": {
           "automargin": true,
           "gridcolor": "#EBF0F8",
           "linecolor": "#EBF0F8",
           "ticks": "",
           "title": {
            "standoff": 15
           },
           "zerolinecolor": "#EBF0F8",
           "zerolinewidth": 2
          },
          "yaxis": {
           "automargin": true,
           "gridcolor": "#EBF0F8",
           "linecolor": "#EBF0F8",
           "ticks": "",
           "title": {
            "standoff": 15
           },
           "zerolinecolor": "#EBF0F8",
           "zerolinewidth": 2
          }
         }
        },
        "title": {
         "text": "Comparación de Modelos"
        },
        "xaxis": {
         "title": {
          "text": "Métrica"
         }
        },
        "yaxis": {
         "title": {
          "text": "Valor"
         }
        }
       }
      }
     },
     "metadata": {},
     "output_type": "display_data"
    }
   ],
   "source": [
    "fig = plot_model_comparison(comparison_df)\n",
    "fig.show()"
   ]
  },
  {
   "cell_type": "markdown",
   "metadata": {},
   "source": [
    "## 9. Importancia de Variables"
   ]
  },
  {
   "cell_type": "code",
   "execution_count": 17,
   "metadata": {},
   "outputs": [
    {
     "data": {
      "text/html": [
       "<div>\n",
       "<style scoped>\n",
       "    .dataframe tbody tr th:only-of-type {\n",
       "        vertical-align: middle;\n",
       "    }\n",
       "\n",
       "    .dataframe tbody tr th {\n",
       "        vertical-align: top;\n",
       "    }\n",
       "\n",
       "    .dataframe thead th {\n",
       "        text-align: right;\n",
       "    }\n",
       "</style>\n",
       "<table border=\"1\" class=\"dataframe\">\n",
       "  <thead>\n",
       "    <tr style=\"text-align: right;\">\n",
       "      <th></th>\n",
       "      <th>feature</th>\n",
       "      <th>importance</th>\n",
       "    </tr>\n",
       "  </thead>\n",
       "  <tbody>\n",
       "    <tr>\n",
       "      <th>1</th>\n",
       "      <td>DaysAdvance</td>\n",
       "      <td>0.759421</td>\n",
       "    </tr>\n",
       "    <tr>\n",
       "      <th>0</th>\n",
       "      <td>Age</td>\n",
       "      <td>0.100145</td>\n",
       "    </tr>\n",
       "    <tr>\n",
       "      <th>14</th>\n",
       "      <td>SMS_received_1</td>\n",
       "      <td>0.068381</td>\n",
       "    </tr>\n",
       "    <tr>\n",
       "      <th>2</th>\n",
       "      <td>AppointmentWeekday</td>\n",
       "      <td>0.019017</td>\n",
       "    </tr>\n",
       "    <tr>\n",
       "      <th>3</th>\n",
       "      <td>AppointmentMonth</td>\n",
       "      <td>0.009761</td>\n",
       "    </tr>\n",
       "    <tr>\n",
       "      <th>5</th>\n",
       "      <td>Gender_M</td>\n",
       "      <td>0.008435</td>\n",
       "    </tr>\n",
       "    <tr>\n",
       "      <th>6</th>\n",
       "      <td>Scholarship_1</td>\n",
       "      <td>0.008310</td>\n",
       "    </tr>\n",
       "    <tr>\n",
       "      <th>10</th>\n",
       "      <td>Handcap_1</td>\n",
       "      <td>0.008099</td>\n",
       "    </tr>\n",
       "    <tr>\n",
       "      <th>4</th>\n",
       "      <td>ChronicConditionsCount</td>\n",
       "      <td>0.005840</td>\n",
       "    </tr>\n",
       "    <tr>\n",
       "      <th>7</th>\n",
       "      <td>Hipertension_1</td>\n",
       "      <td>0.005736</td>\n",
       "    </tr>\n",
       "  </tbody>\n",
       "</table>\n",
       "</div>"
      ],
      "text/plain": [
       "                   feature  importance\n",
       "1              DaysAdvance    0.759421\n",
       "0                      Age    0.100145\n",
       "14          SMS_received_1    0.068381\n",
       "2       AppointmentWeekday    0.019017\n",
       "3         AppointmentMonth    0.009761\n",
       "5                 Gender_M    0.008435\n",
       "6            Scholarship_1    0.008310\n",
       "10               Handcap_1    0.008099\n",
       "4   ChronicConditionsCount    0.005840\n",
       "7           Hipertension_1    0.005736"
      ]
     },
     "execution_count": 17,
     "metadata": {},
     "output_type": "execute_result"
    }
   ],
   "source": [
    "feature_names = get_feature_names(preprocessor, X_train)\n",
    "\n",
    "importance_df = get_feature_importance(rf_synthetic, feature_names, top_n=10)\n",
    "importance_df"
   ]
  },
  {
   "cell_type": "code",
   "execution_count": 18,
   "metadata": {},
   "outputs": [
    {
     "data": {
      "application/vnd.plotly.v1+json": {
       "config": {
        "plotlyServerURL": "https://plot.ly"
       },
       "data": [
        {
         "marker": {
          "color": "#3498db"
         },
         "orientation": "h",
         "type": "bar",
         "x": {
          "bdata": "I8/HlC1N6D9M1bgyHKO5P2JsvMJigbE/aQFJgUF5kz+dTXW3ov2DP31UT+o/RoE/T4JK0xYFgT+KNkIZc5aAPwlxlcX/63c/PXgudFF+dz8=",
          "dtype": "f8"
         },
         "y": [
          "DaysAdvance",
          "Age",
          "SMS_received_1",
          "AppointmentWeekday",
          "AppointmentMonth",
          "Gender_M",
          "Scholarship_1",
          "Handcap_1",
          "ChronicConditionsCount",
          "Hipertension_1"
         ]
        }
       ],
       "layout": {
        "height": 500,
        "template": {
         "data": {
          "bar": [
           {
            "error_x": {
             "color": "#2a3f5f"
            },
            "error_y": {
             "color": "#2a3f5f"
            },
            "marker": {
             "line": {
              "color": "white",
              "width": 0.5
             },
             "pattern": {
              "fillmode": "overlay",
              "size": 10,
              "solidity": 0.2
             }
            },
            "type": "bar"
           }
          ],
          "barpolar": [
           {
            "marker": {
             "line": {
              "color": "white",
              "width": 0.5
             },
             "pattern": {
              "fillmode": "overlay",
              "size": 10,
              "solidity": 0.2
             }
            },
            "type": "barpolar"
           }
          ],
          "carpet": [
           {
            "aaxis": {
             "endlinecolor": "#2a3f5f",
             "gridcolor": "#C8D4E3",
             "linecolor": "#C8D4E3",
             "minorgridcolor": "#C8D4E3",
             "startlinecolor": "#2a3f5f"
            },
            "baxis": {
             "endlinecolor": "#2a3f5f",
             "gridcolor": "#C8D4E3",
             "linecolor": "#C8D4E3",
             "minorgridcolor": "#C8D4E3",
             "startlinecolor": "#2a3f5f"
            },
            "type": "carpet"
           }
          ],
          "choropleth": [
           {
            "colorbar": {
             "outlinewidth": 0,
             "ticks": ""
            },
            "type": "choropleth"
           }
          ],
          "contour": [
           {
            "colorbar": {
             "outlinewidth": 0,
             "ticks": ""
            },
            "colorscale": [
             [
              0,
              "#0d0887"
             ],
             [
              0.1111111111111111,
              "#46039f"
             ],
             [
              0.2222222222222222,
              "#7201a8"
             ],
             [
              0.3333333333333333,
              "#9c179e"
             ],
             [
              0.4444444444444444,
              "#bd3786"
             ],
             [
              0.5555555555555556,
              "#d8576b"
             ],
             [
              0.6666666666666666,
              "#ed7953"
             ],
             [
              0.7777777777777778,
              "#fb9f3a"
             ],
             [
              0.8888888888888888,
              "#fdca26"
             ],
             [
              1,
              "#f0f921"
             ]
            ],
            "type": "contour"
           }
          ],
          "contourcarpet": [
           {
            "colorbar": {
             "outlinewidth": 0,
             "ticks": ""
            },
            "type": "contourcarpet"
           }
          ],
          "heatmap": [
           {
            "colorbar": {
             "outlinewidth": 0,
             "ticks": ""
            },
            "colorscale": [
             [
              0,
              "#0d0887"
             ],
             [
              0.1111111111111111,
              "#46039f"
             ],
             [
              0.2222222222222222,
              "#7201a8"
             ],
             [
              0.3333333333333333,
              "#9c179e"
             ],
             [
              0.4444444444444444,
              "#bd3786"
             ],
             [
              0.5555555555555556,
              "#d8576b"
             ],
             [
              0.6666666666666666,
              "#ed7953"
             ],
             [
              0.7777777777777778,
              "#fb9f3a"
             ],
             [
              0.8888888888888888,
              "#fdca26"
             ],
             [
              1,
              "#f0f921"
             ]
            ],
            "type": "heatmap"
           }
          ],
          "histogram": [
           {
            "marker": {
             "pattern": {
              "fillmode": "overlay",
              "size": 10,
              "solidity": 0.2
             }
            },
            "type": "histogram"
           }
          ],
          "histogram2d": [
           {
            "colorbar": {
             "outlinewidth": 0,
             "ticks": ""
            },
            "colorscale": [
             [
              0,
              "#0d0887"
             ],
             [
              0.1111111111111111,
              "#46039f"
             ],
             [
              0.2222222222222222,
              "#7201a8"
             ],
             [
              0.3333333333333333,
              "#9c179e"
             ],
             [
              0.4444444444444444,
              "#bd3786"
             ],
             [
              0.5555555555555556,
              "#d8576b"
             ],
             [
              0.6666666666666666,
              "#ed7953"
             ],
             [
              0.7777777777777778,
              "#fb9f3a"
             ],
             [
              0.8888888888888888,
              "#fdca26"
             ],
             [
              1,
              "#f0f921"
             ]
            ],
            "type": "histogram2d"
           }
          ],
          "histogram2dcontour": [
           {
            "colorbar": {
             "outlinewidth": 0,
             "ticks": ""
            },
            "colorscale": [
             [
              0,
              "#0d0887"
             ],
             [
              0.1111111111111111,
              "#46039f"
             ],
             [
              0.2222222222222222,
              "#7201a8"
             ],
             [
              0.3333333333333333,
              "#9c179e"
             ],
             [
              0.4444444444444444,
              "#bd3786"
             ],
             [
              0.5555555555555556,
              "#d8576b"
             ],
             [
              0.6666666666666666,
              "#ed7953"
             ],
             [
              0.7777777777777778,
              "#fb9f3a"
             ],
             [
              0.8888888888888888,
              "#fdca26"
             ],
             [
              1,
              "#f0f921"
             ]
            ],
            "type": "histogram2dcontour"
           }
          ],
          "mesh3d": [
           {
            "colorbar": {
             "outlinewidth": 0,
             "ticks": ""
            },
            "type": "mesh3d"
           }
          ],
          "parcoords": [
           {
            "line": {
             "colorbar": {
              "outlinewidth": 0,
              "ticks": ""
             }
            },
            "type": "parcoords"
           }
          ],
          "pie": [
           {
            "automargin": true,
            "type": "pie"
           }
          ],
          "scatter": [
           {
            "fillpattern": {
             "fillmode": "overlay",
             "size": 10,
             "solidity": 0.2
            },
            "type": "scatter"
           }
          ],
          "scatter3d": [
           {
            "line": {
             "colorbar": {
              "outlinewidth": 0,
              "ticks": ""
             }
            },
            "marker": {
             "colorbar": {
              "outlinewidth": 0,
              "ticks": ""
             }
            },
            "type": "scatter3d"
           }
          ],
          "scattercarpet": [
           {
            "marker": {
             "colorbar": {
              "outlinewidth": 0,
              "ticks": ""
             }
            },
            "type": "scattercarpet"
           }
          ],
          "scattergeo": [
           {
            "marker": {
             "colorbar": {
              "outlinewidth": 0,
              "ticks": ""
             }
            },
            "type": "scattergeo"
           }
          ],
          "scattergl": [
           {
            "marker": {
             "colorbar": {
              "outlinewidth": 0,
              "ticks": ""
             }
            },
            "type": "scattergl"
           }
          ],
          "scattermap": [
           {
            "marker": {
             "colorbar": {
              "outlinewidth": 0,
              "ticks": ""
             }
            },
            "type": "scattermap"
           }
          ],
          "scattermapbox": [
           {
            "marker": {
             "colorbar": {
              "outlinewidth": 0,
              "ticks": ""
             }
            },
            "type": "scattermapbox"
           }
          ],
          "scatterpolar": [
           {
            "marker": {
             "colorbar": {
              "outlinewidth": 0,
              "ticks": ""
             }
            },
            "type": "scatterpolar"
           }
          ],
          "scatterpolargl": [
           {
            "marker": {
             "colorbar": {
              "outlinewidth": 0,
              "ticks": ""
             }
            },
            "type": "scatterpolargl"
           }
          ],
          "scatterternary": [
           {
            "marker": {
             "colorbar": {
              "outlinewidth": 0,
              "ticks": ""
             }
            },
            "type": "scatterternary"
           }
          ],
          "surface": [
           {
            "colorbar": {
             "outlinewidth": 0,
             "ticks": ""
            },
            "colorscale": [
             [
              0,
              "#0d0887"
             ],
             [
              0.1111111111111111,
              "#46039f"
             ],
             [
              0.2222222222222222,
              "#7201a8"
             ],
             [
              0.3333333333333333,
              "#9c179e"
             ],
             [
              0.4444444444444444,
              "#bd3786"
             ],
             [
              0.5555555555555556,
              "#d8576b"
             ],
             [
              0.6666666666666666,
              "#ed7953"
             ],
             [
              0.7777777777777778,
              "#fb9f3a"
             ],
             [
              0.8888888888888888,
              "#fdca26"
             ],
             [
              1,
              "#f0f921"
             ]
            ],
            "type": "surface"
           }
          ],
          "table": [
           {
            "cells": {
             "fill": {
              "color": "#EBF0F8"
             },
             "line": {
              "color": "white"
             }
            },
            "header": {
             "fill": {
              "color": "#C8D4E3"
             },
             "line": {
              "color": "white"
             }
            },
            "type": "table"
           }
          ]
         },
         "layout": {
          "annotationdefaults": {
           "arrowcolor": "#2a3f5f",
           "arrowhead": 0,
           "arrowwidth": 1
          },
          "autotypenumbers": "strict",
          "coloraxis": {
           "colorbar": {
            "outlinewidth": 0,
            "ticks": ""
           }
          },
          "colorscale": {
           "diverging": [
            [
             0,
             "#8e0152"
            ],
            [
             0.1,
             "#c51b7d"
            ],
            [
             0.2,
             "#de77ae"
            ],
            [
             0.3,
             "#f1b6da"
            ],
            [
             0.4,
             "#fde0ef"
            ],
            [
             0.5,
             "#f7f7f7"
            ],
            [
             0.6,
             "#e6f5d0"
            ],
            [
             0.7,
             "#b8e186"
            ],
            [
             0.8,
             "#7fbc41"
            ],
            [
             0.9,
             "#4d9221"
            ],
            [
             1,
             "#276419"
            ]
           ],
           "sequential": [
            [
             0,
             "#0d0887"
            ],
            [
             0.1111111111111111,
             "#46039f"
            ],
            [
             0.2222222222222222,
             "#7201a8"
            ],
            [
             0.3333333333333333,
             "#9c179e"
            ],
            [
             0.4444444444444444,
             "#bd3786"
            ],
            [
             0.5555555555555556,
             "#d8576b"
            ],
            [
             0.6666666666666666,
             "#ed7953"
            ],
            [
             0.7777777777777778,
             "#fb9f3a"
            ],
            [
             0.8888888888888888,
             "#fdca26"
            ],
            [
             1,
             "#f0f921"
            ]
           ],
           "sequentialminus": [
            [
             0,
             "#0d0887"
            ],
            [
             0.1111111111111111,
             "#46039f"
            ],
            [
             0.2222222222222222,
             "#7201a8"
            ],
            [
             0.3333333333333333,
             "#9c179e"
            ],
            [
             0.4444444444444444,
             "#bd3786"
            ],
            [
             0.5555555555555556,
             "#d8576b"
            ],
            [
             0.6666666666666666,
             "#ed7953"
            ],
            [
             0.7777777777777778,
             "#fb9f3a"
            ],
            [
             0.8888888888888888,
             "#fdca26"
            ],
            [
             1,
             "#f0f921"
            ]
           ]
          },
          "colorway": [
           "#636efa",
           "#EF553B",
           "#00cc96",
           "#ab63fa",
           "#FFA15A",
           "#19d3f3",
           "#FF6692",
           "#B6E880",
           "#FF97FF",
           "#FECB52"
          ],
          "font": {
           "color": "#2a3f5f"
          },
          "geo": {
           "bgcolor": "white",
           "lakecolor": "white",
           "landcolor": "white",
           "showlakes": true,
           "showland": true,
           "subunitcolor": "#C8D4E3"
          },
          "hoverlabel": {
           "align": "left"
          },
          "hovermode": "closest",
          "mapbox": {
           "style": "light"
          },
          "paper_bgcolor": "white",
          "plot_bgcolor": "white",
          "polar": {
           "angularaxis": {
            "gridcolor": "#EBF0F8",
            "linecolor": "#EBF0F8",
            "ticks": ""
           },
           "bgcolor": "white",
           "radialaxis": {
            "gridcolor": "#EBF0F8",
            "linecolor": "#EBF0F8",
            "ticks": ""
           }
          },
          "scene": {
           "xaxis": {
            "backgroundcolor": "white",
            "gridcolor": "#DFE8F3",
            "gridwidth": 2,
            "linecolor": "#EBF0F8",
            "showbackground": true,
            "ticks": "",
            "zerolinecolor": "#EBF0F8"
           },
           "yaxis": {
            "backgroundcolor": "white",
            "gridcolor": "#DFE8F3",
            "gridwidth": 2,
            "linecolor": "#EBF0F8",
            "showbackground": true,
            "ticks": "",
            "zerolinecolor": "#EBF0F8"
           },
           "zaxis": {
            "backgroundcolor": "white",
            "gridcolor": "#DFE8F3",
            "gridwidth": 2,
            "linecolor": "#EBF0F8",
            "showbackground": true,
            "ticks": "",
            "zerolinecolor": "#EBF0F8"
           }
          },
          "shapedefaults": {
           "line": {
            "color": "#2a3f5f"
           }
          },
          "ternary": {
           "aaxis": {
            "gridcolor": "#DFE8F3",
            "linecolor": "#A2B1C6",
            "ticks": ""
           },
           "baxis": {
            "gridcolor": "#DFE8F3",
            "linecolor": "#A2B1C6",
            "ticks": ""
           },
           "bgcolor": "white",
           "caxis": {
            "gridcolor": "#DFE8F3",
            "linecolor": "#A2B1C6",
            "ticks": ""
           }
          },
          "title": {
           "x": 0.05
          },
          "xaxis": {
           "automargin": true,
           "gridcolor": "#EBF0F8",
           "linecolor": "#EBF0F8",
           "ticks": "",
           "title": {
            "standoff": 15
           },
           "zerolinecolor": "#EBF0F8",
           "zerolinewidth": 2
          },
          "yaxis": {
           "automargin": true,
           "gridcolor": "#EBF0F8",
           "linecolor": "#EBF0F8",
           "ticks": "",
           "title": {
            "standoff": 15
           },
           "zerolinecolor": "#EBF0F8",
           "zerolinewidth": 2
          }
         }
        },
        "title": {
         "text": "Importancia de Variables en el Modelo"
        },
        "xaxis": {
         "title": {
          "text": "Importancia"
         }
        },
        "yaxis": {
         "title": {
          "text": "Variable"
         }
        }
       }
      }
     },
     "metadata": {},
     "output_type": "display_data"
    }
   ],
   "source": [
    "fig = plot_feature_importance(importance_df)\n",
    "fig.show()"
   ]
  },
  {
   "cell_type": "markdown",
   "metadata": {},
   "source": [
    "## 10. Guardar Modelos"
   ]
  },
  {
   "cell_type": "code",
   "execution_count": 19,
   "metadata": {},
   "outputs": [
    {
     "data": {
      "text/plain": [
       "'Modelos guardados exitosamente'"
      ]
     },
     "execution_count": 19,
     "metadata": {},
     "output_type": "execute_result"
    }
   ],
   "source": [
    "save_model(rf_synthetic, '../models/random_forest_model.pkl')\n",
    "save_model(lr_synthetic, '../models/logistic_regression_model.pkl')\n",
    "save_model(preprocessor, '../models/preprocessor.pkl')\n",
    "\n",
    "\"Modelos guardados exitosamente\""
   ]
  },
  {
   "cell_type": "markdown",
   "metadata": {},
   "source": [
    "## 11. Conclusiones\n",
    "\n",
    "### Hallazgos Principales:\n",
    "\n",
    "1. **Desbalance de Clases**: La clase minoritaria (no-show) representa aproximadamente 20% de los datos.\n",
    "\n",
    "2. **Impacto de Datos Sintéticos**: La generación de datos sintéticos mediante SMOTE mejoró el desempeño de los modelos, especialmente en métricas como recall y F1-score.\n",
    "\n",
    "3. **Comparación de Modelos**: \n",
    "   - Random Forest mostró mejor desempeño general\n",
    "   - La Regresión Logística es más interpretable pero menos precisa\n",
    "\n",
    "4. **Variables Relevantes**: Las variables más importantes para predecir no-show son:\n",
    "   - Días de anticipación (DaysAdvance)\n",
    "   - Edad del paciente\n",
    "   - Recepción de SMS recordatorio\n",
    "\n",
    "### Aplicaciones:\n",
    "- Sistema de alertas tempranas para citas con alto riesgo de no-show\n",
    "- Optimización de envío de recordatorios SMS\n",
    "- Mejor gestión de agendas médicas"
   ]
  },
  {
   "cell_type": "code",
   "execution_count": null,
   "metadata": {},
   "outputs": [],
   "source": []
  }
 ],
 "metadata": {
  "kernelspec": {
   "display_name": "Python 3 (ipykernel)",
   "language": "python",
   "name": "python3"
  },
  "language_info": {
   "codemirror_mode": {
    "name": "ipython",
    "version": 3
   },
   "file_extension": ".py",
   "mimetype": "text/x-python",
   "name": "python",
   "nbconvert_exporter": "python",
   "pygments_lexer": "ipython3",
   "version": "3.13.5"
  }
 },
 "nbformat": 4,
 "nbformat_minor": 4
}
