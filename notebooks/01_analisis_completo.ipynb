{
 "cells": [
  {
   "cell_type": "markdown",
   "metadata": {},
   "source": [
    "# Análisis Completo: Predicción de No-Show Médico\n",
    "\n",
    "**Proyecto I - Especialización en Ciencia de Datos e IA**\n",
    "\n",
    "## Objetivo\n",
    "Predecir la probabilidad de que un paciente no asista a su cita médica, permitiendo a clínicas y hospitales optimizar sus recursos y reducir costos."
   ]
  },
  {
   "cell_type": "markdown",
   "metadata": {},
   "source": [
    "## 1. Importación de Librerías"
   ]
  },
  {
   "cell_type": "code",
   "execution_count": null,
   "metadata": {},
   "outputs": [],
   "source": [
    "import sys\n",
    "sys.path.append('..')\n",
    "\n",
    "import pandas as pd\n",
    "import numpy as np\n",
    "import plotly.express as px\n",
    "import plotly.graph_objects as go\n",
    "from pathlib import Path\n",
    "\n",
    "from sklearn.model_selection import train_test_split\n",
    "from sklearn.metrics import classification_report, confusion_matrix\n",
    "\n",
    "from src.data_loader import prepare_data\n",
    "from src.preprocessing import (\n",
    "    create_preprocessing_pipeline,\n",
    "    prepare_features_target,\n",
    "    get_feature_names\n",
    ")\n",
    "from src.synthetic_data import generate_synthetic_data, get_synthetic_data_stats\n",
    "from src.models import (\n",
    "    train_random_forest,\n",
    "    train_logistic_regression,\n",
    "    evaluate_model,\n",
    "    get_feature_importance,\n",
    "    compare_models,\n",
    "    save_model\n",
    ")\n",
    "from src.visualization import (\n",
    "    plot_target_distribution,\n",
    "    plot_age_distribution,\n",
    "    plot_noshow_by_feature,\n",
    "    plot_correlation_matrix,\n",
    "    plot_feature_importance,\n",
    "    plot_model_comparison,\n",
    "    plot_chronic_conditions\n",
    ")\n",
    "\n",
    "import warnings\n",
    "warnings.filterwarnings('ignore')"
   ]
  },
  {
   "cell_type": "markdown",
   "metadata": {},
   "source": [
    "## 2. Carga y Exploración de Datos"
   ]
  },
  {
   "cell_type": "code",
   "execution_count": null,
   "metadata": {},
   "outputs": [],
   "source": [
    "DATA_PATH = '../data/KaggleV2-May-2016.csv'\n",
    "\n",
    "df, df_original = prepare_data(DATA_PATH)\n",
    "\n",
    "df.head()"
   ]
  },
  {
   "cell_type": "code",
   "execution_count": null,
   "metadata": {},
   "outputs": [],
   "source": [
    "df.info()"
   ]
  },
  {
   "cell_type": "code",
   "execution_count": null,
   "metadata": {},
   "outputs": [],
   "source": [
    "df.describe()"
   ]
  },
  {
   "cell_type": "markdown",
   "metadata": {},
   "source": [
    "## 3. Análisis Exploratorio de Datos (EDA)"
   ]
  },
  {
   "cell_type": "markdown",
   "metadata": {},
   "source": [
    "### 3.1 Distribución de la Variable Objetivo"
   ]
  },
  {
   "cell_type": "code",
   "execution_count": null,
   "metadata": {},
   "outputs": [],
   "source": [
    "fig = plot_target_distribution(df)\n",
    "fig.show()"
   ]
  },
  {
   "cell_type": "markdown",
   "metadata": {},
   "source": [
    "### 3.2 Distribución de Edades"
   ]
  },
  {
   "cell_type": "code",
   "execution_count": null,
   "metadata": {},
   "outputs": [],
   "source": [
    "fig = plot_age_distribution(df)\n",
    "fig.show()"
   ]
  },
  {
   "cell_type": "markdown",
   "metadata": {},
   "source": [
    "### 3.3 Condiciones Crónicas"
   ]
  },
  {
   "cell_type": "code",
   "execution_count": null,
   "metadata": {},
   "outputs": [],
   "source": [
    "fig = plot_chronic_conditions(df)\n",
    "fig.show()"
   ]
  },
  {
   "cell_type": "markdown",
   "metadata": {},
   "source": [
    "### 3.4 Asistencia por Recepción de SMS"
   ]
  },
  {
   "cell_type": "code",
   "execution_count": null,
   "metadata": {},
   "outputs": [],
   "source": [
    "fig = plot_noshow_by_feature(df, 'SMS_received')\n",
    "fig.show()"
   ]
  },
  {
   "cell_type": "markdown",
   "metadata": {},
   "source": [
    "### 3.5 Matriz de Correlación"
   ]
  },
  {
   "cell_type": "code",
   "execution_count": null,
   "metadata": {},
   "outputs": [],
   "source": [
    "numeric_cols = ['Age', 'DaysAdvance', 'AppointmentWeekday', 'AppointmentMonth', \n",
    "                'ChronicConditionsCount', 'No-show']\n",
    "\n",
    "fig = plot_correlation_matrix(df, numeric_cols)\n",
    "fig.show()"
   ]
  },
  {
   "cell_type": "markdown",
   "metadata": {},
   "source": [
    "## 4. Preparación de Datos"
   ]
  },
  {
   "cell_type": "code",
   "execution_count": null,
   "metadata": {},
   "outputs": [],
   "source": [
    "X, y = prepare_features_target(df)\n",
    "\n",
    "X_train, X_test, y_train, y_test = train_test_split(\n",
    "    X, y, test_size=0.2, random_state=42, stratify=y\n",
    ")\n",
    "\n",
    "f\"Datos de entrenamiento: {X_train.shape[0]}, Datos de prueba: {X_test.shape[0]}\""
   ]
  },
  {
   "cell_type": "markdown",
   "metadata": {},
   "source": [
    "## 5. Pipeline de Preprocesamiento"
   ]
  },
  {
   "cell_type": "code",
   "execution_count": null,
   "metadata": {},
   "outputs": [],
   "source": [
    "preprocessor = create_preprocessing_pipeline()\n",
    "\n",
    "X_train_processed = preprocessor.fit_transform(X_train)\n",
    "X_test_processed = preprocessor.transform(X_test)\n",
    "\n",
    "f\"Dimensión después del preprocesamiento: {X_train_processed.shape}\""
   ]
  },
  {
   "cell_type": "markdown",
   "metadata": {},
   "source": [
    "## 6. Generación de Datos Sintéticos (SMOTE)"
   ]
  },
  {
   "cell_type": "code",
   "execution_count": null,
   "metadata": {},
   "outputs": [],
   "source": [
    "X_train_synthetic, y_train_synthetic = generate_synthetic_data(\n",
    "    X_train_processed, y_train\n",
    ")\n",
    "\n",
    "stats = get_synthetic_data_stats(\n",
    "    X_train_processed, y_train,\n",
    "    X_train_synthetic, y_train_synthetic\n",
    ")\n",
    "\n",
    "pd.DataFrame([stats]).T"
   ]
  },
  {
   "cell_type": "markdown",
   "metadata": {},
   "source": [
    "## 7. Entrenamiento de Modelos\n",
    "\n",
    "### 7.1 Modelos con Datos Originales"
   ]
  },
  {
   "cell_type": "code",
   "execution_count": null,
   "metadata": {},
   "outputs": [],
   "source": [
    "rf_original = train_random_forest(X_train_processed, y_train)\n",
    "lr_original = train_logistic_regression(X_train_processed, y_train)\n",
    "\n",
    "\"Modelos entrenados con datos originales\""
   ]
  },
  {
   "cell_type": "markdown",
   "metadata": {},
   "source": [
    "### 7.2 Modelos con Datos Sintéticos"
   ]
  },
  {
   "cell_type": "code",
   "execution_count": null,
   "metadata": {},
   "outputs": [],
   "source": [
    "rf_synthetic = train_random_forest(X_train_synthetic, y_train_synthetic)\n",
    "lr_synthetic = train_logistic_regression(X_train_synthetic, y_train_synthetic)\n",
    "\n",
    "\"Modelos entrenados con datos sintéticos\""
   ]
  },
  {
   "cell_type": "markdown",
   "metadata": {},
   "source": [
    "## 8. Evaluación de Modelos"
   ]
  },
  {
   "cell_type": "code",
   "execution_count": null,
   "metadata": {},
   "outputs": [],
   "source": [
    "results = {\n",
    "    'RF_Original': evaluate_model(rf_original, X_test_processed, y_test),\n",
    "    'LR_Original': evaluate_model(lr_original, X_test_processed, y_test),\n",
    "    'RF_Synthetic': evaluate_model(rf_synthetic, X_test_processed, y_test),\n",
    "    'LR_Synthetic': evaluate_model(lr_synthetic, X_test_processed, y_test)\n",
    "}\n",
    "\n",
    "comparison_df = compare_models(results)\n",
    "comparison_df"
   ]
  },
  {
   "cell_type": "code",
   "execution_count": null,
   "metadata": {},
   "outputs": [],
   "source": [
    "fig = plot_model_comparison(comparison_df)\n",
    "fig.show()"
   ]
  },
  {
   "cell_type": "markdown",
   "metadata": {},
   "source": [
    "## 9. Importancia de Variables"
   ]
  },
  {
   "cell_type": "code",
   "execution_count": null,
   "metadata": {},
   "outputs": [],
   "source": [
    "feature_names = get_feature_names(preprocessor, X_train)\n",
    "\n",
    "importance_df = get_feature_importance(rf_synthetic, feature_names, top_n=10)\n",
    "importance_df"
   ]
  },
  {
   "cell_type": "code",
   "execution_count": null,
   "metadata": {},
   "outputs": [],
   "source": [
    "fig = plot_feature_importance(importance_df)\n",
    "fig.show()"
   ]
  },
  {
   "cell_type": "markdown",
   "metadata": {},
   "source": [
    "## 10. Guardar Modelos"
   ]
  },
  {
   "cell_type": "code",
   "execution_count": null,
   "metadata": {},
   "outputs": [],
   "source": [
    "save_model(rf_synthetic, '../models/random_forest_model.pkl')\n",
    "save_model(lr_synthetic, '../models/logistic_regression_model.pkl')\n",
    "save_model(preprocessor, '../models/preprocessor.pkl')\n",
    "\n",
    "\"Modelos guardados exitosamente\""
   ]
  },
  {
   "cell_type": "markdown",
   "metadata": {},
   "source": [
    "## 11. Conclusiones\n",
    "\n",
    "### Hallazgos Principales:\n",
    "\n",
    "1. **Desbalance de Clases**: La clase minoritaria (no-show) representa aproximadamente 20% de los datos.\n",
    "\n",
    "2. **Impacto de Datos Sintéticos**: La generación de datos sintéticos mediante SMOTE mejoró el desempeño de los modelos, especialmente en métricas como recall y F1-score.\n",
    "\n",
    "3. **Comparación de Modelos**: \n",
    "   - Random Forest mostró mejor desempeño general\n",
    "   - La Regresión Logística es más interpretable pero menos precisa\n",
    "\n",
    "4. **Variables Relevantes**: Las variables más importantes para predecir no-show son:\n",
    "   - Días de anticipación (DaysAdvance)\n",
    "   - Edad del paciente\n",
    "   - Recepción de SMS recordatorio\n",
    "\n",
    "### Aplicaciones:\n",
    "- Sistema de alertas tempranas para citas con alto riesgo de no-show\n",
    "- Optimización de envío de recordatorios SMS\n",
    "- Mejor gestión de agendas médicas"
   ]
  }
 ],
 "metadata": {
  "kernelspec": {
   "display_name": "Python 3",
   "language": "python",
   "name": "python3"
  },
  "language_info": {
   "codemirror_mode": {
    "name": "ipython",
    "version": 3
   },
   "file_extension": ".py",
   "mimetype": "text/x-python",
   "name": "python",
   "nbconvert_exporter": "python",
   "pygments_lexer": "ipython3",
   "version": "3.11.13"
  }
 },
 "nbformat": 4,
 "nbformat_minor": 4
}
